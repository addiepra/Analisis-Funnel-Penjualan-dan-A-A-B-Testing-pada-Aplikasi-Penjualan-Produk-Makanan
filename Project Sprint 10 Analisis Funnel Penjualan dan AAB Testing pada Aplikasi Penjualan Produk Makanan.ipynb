{
 "cells": [
  {
   "cell_type": "markdown",
   "metadata": {},
   "source": [
    "# Analisis Funnel Penjualan dan A/A/B Testing pada Aplikasi Penjualan Produk Makanan\n",
    "\n",
    "Kami, tim analisis data di startup kami yang fokus pada penjualan produk makanan, dengan penuh antusiasme memulai Project Sprint 10. Tujuan utama proyek ini adalah untuk mendalami perilaku pengguna dalam aplikasi kami melalui dua aspek kunci: analisis funnel penjualan dan evaluasi hasil A/A/B testing.\n",
    "\n",
    "*- Analisis Funnel Penjualan:*\n",
    "Kami akan memulai dengan menggali jalur yang ditempuh pengguna dalam mencapai tahap pembelian pada aplikasi kami. Melalui analisis funnel penjualan, kami berencana untuk mengidentifikasi jumlah pengguna yang berhasil mencapai tahap pembelian, sekaligus mengidentifikasi titik-titik dimana pengguna mungkin terhenti atau mengalami hambatan. Dengan pemahaman mendalam mengenai tahap-tahap ini, kami akan dapat mengoptimalkan pengalaman pengguna dan meningkatkan konversi penjualan.\n",
    "\n",
    "*- Evaluasi A/A/B Testing:*\n",
    "Selanjutnya, kami akan mengevaluasi hasil A/A/B testing yang dilakukan oleh tim desain dan manajemen produk. Adanya kekhawatiran terkait potensi gangguan terhadap pengguna dengan perubahan font memunculkan keputusan untuk melakukan A/A/B testing. Pengguna kami akan dibagi menjadi dua kelompok kontrol, yang akan diberikan versi font lama, dan satu kelompok uji, yang akan melihat versi font terbaru. Kami memahami pentingnya ketelitian dalam pengujian ini, dan oleh karena itu, hasil yang dapat diterima harus mencerminkan kesamaan antara kedua kelompok kontrol.\n",
    "\n",
    "*- Kedalaman Analisis:*\n",
    "Penting untuk dicatat bahwa, dalam eksplorasi data kami, kami akan menggunakan dataset yang sama untuk kedua analisis. Ini mencerminkan praktek umum di dunia nyata, di mana eksperimen dan analisis rutin dilakukan secara bersamaan untuk memberikan gambaran menyeluruh tentang kualitas aplikasi. Dengan membandingkan hasil A/A/B testing dengan data umum, kami berharap mendapatkan wawasan yang lebih mendalam tentang efektivitas perubahan desain terkait font.\n",
    "\n",
    "Dengan tekad dan komitmen, kami melangkah maju untuk menjalankan project ini, dengan harapan bahwa temuan kami akan membantu meningkatkan kualitas dan daya tarik aplikasi kami di mata pengguna.\n",
    "\n",
    "## Tujuan\n",
    "**Tujuan dari project ini yaitu:**\n",
    "\n",
    "**1. Mendalami Funnel Penjualan:**\n",
    "- Identifikasi jalur pengguna dari pendaftaran hingga pembelian.\n",
    "- Menentukan jumlah pengguna yang berhasil mencapai tahap pembelian.\n",
    "- Identifikasi dan analisis titik-titik hambatan atau penurunan jumlah pengguna di setiap tahap funnel.\n",
    "\n",
    "**2. Optimasi Pengalaman Pengguna:**\n",
    "- Meningkatkan pemahaman terhadap pengalaman pengguna pada setiap tahap.\n",
    "- Menentukan area-area yang perlu dioptimalkan untuk meningkatkan konversi penjualan.\n",
    "- Mengimplementasikan perbaikan atau perubahan berdasarkan temuan analisis funnel.\n",
    "\n",
    "**3. Evaluasi Hasil A/A/B Testing:**\n",
    "- Mengidentifikasi dan memahami perubahan yang diuji dalam desain font.\n",
    "- Membandingkan hasil antara kelompok kontrol (font lama) dan kelompok uji (font baru).\n",
    "- Menentukan apakah perbedaan hasil antara kelompok kontrol mencerminkan perubahan desain atau faktor lain yang mungkin memengaruhi.\n",
    "\n",
    "**4. Keputusan Berbasis Data:**\n",
    "- Mengambil keputusan terkait implementasi atau penolakan perubahan font berdasarkan hasil A/A/B testing yang akurat.\n",
    "- Meningkatkan kepercayaan dalam keputusan dengan membandingkan hasil A/A/B testing dengan data umum aplikasi.\n",
    "\n",
    "**5. Peningkatan Kualitas dan Daya Tarik Aplikasi:**\n",
    "- Membangun dasar untuk meningkatkan kualitas aplikasi.\n",
    "- Meningkatkan daya tarik aplikasi bagi pengguna melalui peningkatan pengalaman pengguna dan desain yang dioptimalkan.\n",
    "- Dengan mencapai tujuan-tujuan ini, kami berharap dapat membawa dampak positif terhadap konversi penjualan, kepuasan pengguna, dan keseluruhan kualitas aplikasi yang kami tawarkan di pasar.\n",
    "\n",
    "## Tahapan\n",
    "**Berikut tahapan yang akan dilakukan antara lain:**\n",
    "\n",
    "**1. Memuat file data dan pelajari informasi umumnya. File path: `/datasets/logs_exp_us.csv`**\n",
    "\n",
    "**2. Mempersiapkan data untuk analisis:**\n",
    "- Ubah nama kolom sesuai dengan yang diinginkan.\n",
    "- Periksa nilai yang hilang dan tipe datanya. Perbaiki datanya jika diperlukan.\n",
    "- Tambahkan kolom tanggal dan waktu, serta satu kolom terpisah untuk tanggal.\n",
    "\n",
    "**3. Pelajari dan periksa datanya:**\n",
    "- Berapa banyak peristiwa yang tercatat dalam log?\n",
    "- Berapa banyak pengguna yang tercatat dalam log?\n",
    "- Berapa jumlah rata-rata peristiwa per pengguna?\n",
    "- Periode waktu mana yang dicakup oleh data? Temukan tanggal maksimum dan minimumnya. Buat sebuah histogram berdasarkan tanggal dan waktu. Bisakah kita memastikan bahwa data yang kita miliki sama lengkapnya untuk seluruh periode? Peristiwa terdahulu bisa saja muncul dalam log beberapa pengguna karena alasan teknis dan ini bisa mengacaukan distribusi data secara keseluruhan. Temukan momen ketika data mulai dirasa lengkap dan abaikan data lama tersebut. Periode mana yang benar-benar diwakili oleh data yang kita miliki?\n",
    "- Apakah banyaknya kehilangan peristiwa dan pengguna saat menyingkirkan data lama?\n",
    "- Pastikan kita memiliki pengguna dari ketiga kelompok eksperimen.\n",
    "\n",
    "**4. Pelajari funnel peristiwanya:**\n",
    "- Lihat peristiwa apa saja yang ada dalam log dan berapa banyak frekuensi kemunculannya. Urutkan peristiwa tersebut berdasarkan frekuensi.\n",
    "- Temukan jumlah pengguna yang melakukan setiap tindakan. Urutkan peristiwa berdasarkan jumlah pengguna. Hitung proporsi pengguna yang melakukan tindakan setidaknya satu kali.\n",
    "- Dalam hal urutan apa tindakan-tindakan tersebut terjadi? Apakah semuanya merupakan bagian dari satu urutan? kita tidak perlu memperhitungkan semuanya saat menghitung funnel.\n",
    "- Gunakan funnel peristiwa untuk menemukan persentase pengguna yang terus berlanjut dari satu tahap ke tahap berikutnya. (Misalnya, untuk urutan peristiwa A → B → C, hitung rasio pengguna pada tahap B terhadap jumlah pengguna pada tahap A, serta rasio pengguna pada tahap C terhadap jumlah pengguna pada tahap B).\n",
    "- Pada tahap mana kita kehilangan banyak pengguna?\n",
    "- Berapa banyak persentase pengguna yang berhasil menyelesaikan seluruh tahapan yang ada, dari peristiwa pertama hingga pembayaran?\n",
    "\n",
    "**5. Mempelajari hasil eksperimen:**\n",
    "- Berapa banyak pengguna yang ada di setiap kelompok?\n",
    "- Kita memiliki dua kelompok kontrol dalam A/A testing di mana kita memeriksa mekanisme dan perhitungan kita. Perhatikan apakah ada perbedaan yang signifikan secara statistik antara sampel 246 dan 247.\n",
    "- Pilih peristiwa yang paling populer. Pada setiap kelompok kontrol, temukan jumlah pengguna yang melakukan tindakan tersebut. Temukan persentasenya. Periksa apakah perbedaan antar kelompok signifikan secara statistik. Ulangi prosedur ini untuk semua peristiwa lainnya (akan menghemat waktu jika kita bisa menciptakan sebuah fungsi khusus untuk melakukan pengujian ini). Bisakah kita memastikan apakah kelompok-kelompok tersebut sudah dipisah dengan benar?\n",
    "- Lakukan hal yang sama untuk kelompok pengguna yang diperlihatkan versi font terbaru. Bandingkan hasilnya dengan masing-masing kelompok kontrol untuk setiap peristiwa secara terpisah. Bandingkan hasilnya dengan hasil gabungan untuk kelompok kontrol. Nah, kesimpulan apa yang bisa kita tarik dari eksperimen tersebut?\n",
    "- Berapa tingkat signifikansi yang kita tetapkan untuk menguji hipotesis statistik yang disebutkan di atas? Hitung berapa banyak pengujian hipotesis statistik yang telah kita lakukan. Dengan tingkat signifikansi statistik 0,1 - satu dari 10 hasil bisa saja salah. Berapa tingkat signifikansi yang seharusnya ditetapkan? Jika kita ingin mengubahnya, jalankan ulang tahap sebelumnya dan periksa kesimpulanmu."
   ]
  },
  {
   "cell_type": "markdown",
   "metadata": {},
   "source": [
    "----------"
   ]
  },
  {
   "cell_type": "markdown",
   "metadata": {},
   "source": [
    "## Inisialisasi\n",
    "- Import library yang akan digunakan"
   ]
  },
  {
   "cell_type": "code",
   "execution_count": 1,
   "metadata": {},
   "outputs": [],
   "source": [
    "# list library yang digunakan\n",
    "from scipy import stats as st\n",
    "from datetime import datetime, timedelta\n",
    "import pandas as pd\n",
    "import matplotlib.pyplot as plt\n",
    "import seaborn as sns\n",
    "import numpy as np\n",
    "import datetime as dt\n",
    "import plotly.express as px\n",
    "import math\n",
    "from statsmodels.stats.proportion import proportions_ztest"
   ]
  },
  {
   "cell_type": "markdown",
   "metadata": {},
   "source": [
    "------"
   ]
  },
  {
   "cell_type": "markdown",
   "metadata": {},
   "source": [
    "## Memuat Data\n",
    "- Memuat data dan lihat informasi umum."
   ]
  },
  {
   "cell_type": "code",
   "execution_count": 2,
   "metadata": {},
   "outputs": [],
   "source": [
    "# Menamakan variable dataset yang akan kita panggil yaitu exp_logs\n",
    "exp_logs = pd.read_csv('/datasets/logs_exp_us.csv')"
   ]
  },
  {
   "cell_type": "code",
   "execution_count": 3,
   "metadata": {},
   "outputs": [
    {
     "name": "stdout",
     "output_type": "stream",
     "text": [
      "<class 'pandas.core.frame.DataFrame'>\n",
      "RangeIndex: 244126 entries, 0 to 244125\n",
      "Data columns (total 1 columns):\n",
      " #   Column                                       Non-Null Count   Dtype \n",
      "---  ------                                       --------------   ----- \n",
      " 0   EventName\tDeviceIDHash\tEventTimestamp\tExpId  244126 non-null  object\n",
      "dtypes: object(1)\n",
      "memory usage: 1.9+ MB\n"
     ]
    }
   ],
   "source": [
    "# Melihat informasi\n",
    "exp_logs.info()"
   ]
  },
  {
   "cell_type": "code",
   "execution_count": 4,
   "metadata": {},
   "outputs": [
    {
     "data": {
      "text/html": [
       "<div>\n",
       "<style scoped>\n",
       "    .dataframe tbody tr th:only-of-type {\n",
       "        vertical-align: middle;\n",
       "    }\n",
       "\n",
       "    .dataframe tbody tr th {\n",
       "        vertical-align: top;\n",
       "    }\n",
       "\n",
       "    .dataframe thead th {\n",
       "        text-align: right;\n",
       "    }\n",
       "</style>\n",
       "<table border=\"1\" class=\"dataframe\">\n",
       "  <thead>\n",
       "    <tr style=\"text-align: right;\">\n",
       "      <th></th>\n",
       "      <th>EventName\\tDeviceIDHash\\tEventTimestamp\\tExpId</th>\n",
       "    </tr>\n",
       "  </thead>\n",
       "  <tbody>\n",
       "    <tr>\n",
       "      <th>0</th>\n",
       "      <td>MainScreenAppear\\t4575588528974610257\\t1564029...</td>\n",
       "    </tr>\n",
       "    <tr>\n",
       "      <th>1</th>\n",
       "      <td>MainScreenAppear\\t7416695313311560658\\t1564053...</td>\n",
       "    </tr>\n",
       "    <tr>\n",
       "      <th>2</th>\n",
       "      <td>PaymentScreenSuccessful\\t3518123091307005509\\t...</td>\n",
       "    </tr>\n",
       "    <tr>\n",
       "      <th>3</th>\n",
       "      <td>CartScreenAppear\\t3518123091307005509\\t1564054...</td>\n",
       "    </tr>\n",
       "    <tr>\n",
       "      <th>4</th>\n",
       "      <td>PaymentScreenSuccessful\\t6217807653094995999\\t...</td>\n",
       "    </tr>\n",
       "    <tr>\n",
       "      <th>...</th>\n",
       "      <td>...</td>\n",
       "    </tr>\n",
       "    <tr>\n",
       "      <th>244121</th>\n",
       "      <td>MainScreenAppear\\t4599628364049201812\\t1565212...</td>\n",
       "    </tr>\n",
       "    <tr>\n",
       "      <th>244122</th>\n",
       "      <td>MainScreenAppear\\t5849806612437486590\\t1565212...</td>\n",
       "    </tr>\n",
       "    <tr>\n",
       "      <th>244123</th>\n",
       "      <td>MainScreenAppear\\t5746969938801999050\\t1565212...</td>\n",
       "    </tr>\n",
       "    <tr>\n",
       "      <th>244124</th>\n",
       "      <td>MainScreenAppear\\t5746969938801999050\\t1565212...</td>\n",
       "    </tr>\n",
       "    <tr>\n",
       "      <th>244125</th>\n",
       "      <td>OffersScreenAppear\\t5746969938801999050\\t15652...</td>\n",
       "    </tr>\n",
       "  </tbody>\n",
       "</table>\n",
       "<p>244126 rows × 1 columns</p>\n",
       "</div>"
      ],
      "text/plain": [
       "           EventName\\tDeviceIDHash\\tEventTimestamp\\tExpId\n",
       "0       MainScreenAppear\\t4575588528974610257\\t1564029...\n",
       "1       MainScreenAppear\\t7416695313311560658\\t1564053...\n",
       "2       PaymentScreenSuccessful\\t3518123091307005509\\t...\n",
       "3       CartScreenAppear\\t3518123091307005509\\t1564054...\n",
       "4       PaymentScreenSuccessful\\t6217807653094995999\\t...\n",
       "...                                                   ...\n",
       "244121  MainScreenAppear\\t4599628364049201812\\t1565212...\n",
       "244122  MainScreenAppear\\t5849806612437486590\\t1565212...\n",
       "244123  MainScreenAppear\\t5746969938801999050\\t1565212...\n",
       "244124  MainScreenAppear\\t5746969938801999050\\t1565212...\n",
       "244125  OffersScreenAppear\\t5746969938801999050\\t15652...\n",
       "\n",
       "[244126 rows x 1 columns]"
      ]
     },
     "execution_count": 4,
     "metadata": {},
     "output_type": "execute_result"
    }
   ],
   "source": [
    "# Menampilkan dataset\n",
    "exp_logs"
   ]
  },
  {
   "cell_type": "markdown",
   "metadata": {},
   "source": [
    "<font color = green> Temuan </font>\n",
    "- Terdapat 24412 baris untuk dataset tersebut dan tidak ada nilai yang hilang, namun dataset belum rapi. Kita akan melakukan perbaikan data di tahap setelah ini."
   ]
  },
  {
   "cell_type": "markdown",
   "metadata": {},
   "source": [
    "<font color = green> Kesimpulan Sementara </font>\n",
    "- Dataset ber variable exp_logs harus dieksplor terlebih dahulu dan harus dicek kualitas datanya."
   ]
  },
  {
   "cell_type": "markdown",
   "metadata": {},
   "source": [
    "------"
   ]
  },
  {
   "cell_type": "markdown",
   "metadata": {},
   "source": [
    "## Mempersiapkan Data untuk Analisis\n",
    "- Kita akan memeriksa dan memanipulasi data yang harus kita perbaiki."
   ]
  },
  {
   "cell_type": "markdown",
   "metadata": {},
   "source": [
    "### Mengubah Nama Kolom dengan Benar\n",
    "- Di tahap pertama kita telah melihat dataset yang berantakan. Mengubah nama kolom yang sesuai adalah solusi pertama untuk melihat kualitas data sebelum kita melihat nilai tipe data."
   ]
  },
  {
   "cell_type": "code",
   "execution_count": 5,
   "metadata": {},
   "outputs": [
    {
     "name": "stdout",
     "output_type": "stream",
     "text": [
      "<class 'pandas.core.frame.DataFrame'>\n",
      "RangeIndex: 244126 entries, 0 to 244125\n",
      "Data columns (total 1 columns):\n",
      " #   Column                                       Non-Null Count   Dtype \n",
      "---  ------                                       --------------   ----- \n",
      " 0   EventName\tDeviceIDHash\tEventTimestamp\tExpId  244126 non-null  object\n",
      "dtypes: object(1)\n",
      "memory usage: 1.9+ MB\n"
     ]
    }
   ],
   "source": [
    "# Periksa kembali sebagai acuan exp_logs.info()\n",
    "exp_logs.info()"
   ]
  },
  {
   "cell_type": "code",
   "execution_count": 6,
   "metadata": {},
   "outputs": [
    {
     "data": {
      "text/html": [
       "<div>\n",
       "<style scoped>\n",
       "    .dataframe tbody tr th:only-of-type {\n",
       "        vertical-align: middle;\n",
       "    }\n",
       "\n",
       "    .dataframe tbody tr th {\n",
       "        vertical-align: top;\n",
       "    }\n",
       "\n",
       "    .dataframe thead th {\n",
       "        text-align: right;\n",
       "    }\n",
       "</style>\n",
       "<table border=\"1\" class=\"dataframe\">\n",
       "  <thead>\n",
       "    <tr style=\"text-align: right;\">\n",
       "      <th></th>\n",
       "      <th>EventName\\tDeviceIDHash\\tEventTimestamp\\tExpId</th>\n",
       "    </tr>\n",
       "  </thead>\n",
       "  <tbody>\n",
       "    <tr>\n",
       "      <th>0</th>\n",
       "      <td>MainScreenAppear\\t4575588528974610257\\t1564029...</td>\n",
       "    </tr>\n",
       "    <tr>\n",
       "      <th>1</th>\n",
       "      <td>MainScreenAppear\\t7416695313311560658\\t1564053...</td>\n",
       "    </tr>\n",
       "    <tr>\n",
       "      <th>2</th>\n",
       "      <td>PaymentScreenSuccessful\\t3518123091307005509\\t...</td>\n",
       "    </tr>\n",
       "    <tr>\n",
       "      <th>3</th>\n",
       "      <td>CartScreenAppear\\t3518123091307005509\\t1564054...</td>\n",
       "    </tr>\n",
       "    <tr>\n",
       "      <th>4</th>\n",
       "      <td>PaymentScreenSuccessful\\t6217807653094995999\\t...</td>\n",
       "    </tr>\n",
       "    <tr>\n",
       "      <th>...</th>\n",
       "      <td>...</td>\n",
       "    </tr>\n",
       "    <tr>\n",
       "      <th>244121</th>\n",
       "      <td>MainScreenAppear\\t4599628364049201812\\t1565212...</td>\n",
       "    </tr>\n",
       "    <tr>\n",
       "      <th>244122</th>\n",
       "      <td>MainScreenAppear\\t5849806612437486590\\t1565212...</td>\n",
       "    </tr>\n",
       "    <tr>\n",
       "      <th>244123</th>\n",
       "      <td>MainScreenAppear\\t5746969938801999050\\t1565212...</td>\n",
       "    </tr>\n",
       "    <tr>\n",
       "      <th>244124</th>\n",
       "      <td>MainScreenAppear\\t5746969938801999050\\t1565212...</td>\n",
       "    </tr>\n",
       "    <tr>\n",
       "      <th>244125</th>\n",
       "      <td>OffersScreenAppear\\t5746969938801999050\\t15652...</td>\n",
       "    </tr>\n",
       "  </tbody>\n",
       "</table>\n",
       "<p>244126 rows × 1 columns</p>\n",
       "</div>"
      ],
      "text/plain": [
       "           EventName\\tDeviceIDHash\\tEventTimestamp\\tExpId\n",
       "0       MainScreenAppear\\t4575588528974610257\\t1564029...\n",
       "1       MainScreenAppear\\t7416695313311560658\\t1564053...\n",
       "2       PaymentScreenSuccessful\\t3518123091307005509\\t...\n",
       "3       CartScreenAppear\\t3518123091307005509\\t1564054...\n",
       "4       PaymentScreenSuccessful\\t6217807653094995999\\t...\n",
       "...                                                   ...\n",
       "244121  MainScreenAppear\\t4599628364049201812\\t1565212...\n",
       "244122  MainScreenAppear\\t5849806612437486590\\t1565212...\n",
       "244123  MainScreenAppear\\t5746969938801999050\\t1565212...\n",
       "244124  MainScreenAppear\\t5746969938801999050\\t1565212...\n",
       "244125  OffersScreenAppear\\t5746969938801999050\\t15652...\n",
       "\n",
       "[244126 rows x 1 columns]"
      ]
     },
     "execution_count": 6,
     "metadata": {},
     "output_type": "execute_result"
    }
   ],
   "source": [
    "# Periksa kembali tampilan dataset\n",
    "exp_logs"
   ]
  },
  {
   "cell_type": "code",
   "execution_count": 7,
   "metadata": {},
   "outputs": [],
   "source": [
    "# memisah kolom-kolom untuk masing-masing nilai yang dimiliki\n",
    "exp_logs[['EventName', 'DeviceIDHash', 'EventTimestamp', 'ExpId']] = exp_logs['EventName\\tDeviceIDHash\\tEventTimestamp\\tExpId'].str.split('\\t', expand=True)\n",
    "\n",
    "# Menghapus kolom awal yang tidak terpisahkan\n",
    "exp_logs.drop('EventName\\tDeviceIDHash\\tEventTimestamp\\tExpId', axis=1, inplace=True)\n",
    "\n"
   ]
  },
  {
   "cell_type": "code",
   "execution_count": 8,
   "metadata": {},
   "outputs": [
    {
     "data": {
      "text/html": [
       "<div>\n",
       "<style scoped>\n",
       "    .dataframe tbody tr th:only-of-type {\n",
       "        vertical-align: middle;\n",
       "    }\n",
       "\n",
       "    .dataframe tbody tr th {\n",
       "        vertical-align: top;\n",
       "    }\n",
       "\n",
       "    .dataframe thead th {\n",
       "        text-align: right;\n",
       "    }\n",
       "</style>\n",
       "<table border=\"1\" class=\"dataframe\">\n",
       "  <thead>\n",
       "    <tr style=\"text-align: right;\">\n",
       "      <th></th>\n",
       "      <th>EventName</th>\n",
       "      <th>DeviceIDHash</th>\n",
       "      <th>EventTimestamp</th>\n",
       "      <th>ExpId</th>\n",
       "    </tr>\n",
       "  </thead>\n",
       "  <tbody>\n",
       "    <tr>\n",
       "      <th>0</th>\n",
       "      <td>MainScreenAppear</td>\n",
       "      <td>4575588528974610257</td>\n",
       "      <td>1564029816</td>\n",
       "      <td>246</td>\n",
       "    </tr>\n",
       "    <tr>\n",
       "      <th>1</th>\n",
       "      <td>MainScreenAppear</td>\n",
       "      <td>7416695313311560658</td>\n",
       "      <td>1564053102</td>\n",
       "      <td>246</td>\n",
       "    </tr>\n",
       "    <tr>\n",
       "      <th>2</th>\n",
       "      <td>PaymentScreenSuccessful</td>\n",
       "      <td>3518123091307005509</td>\n",
       "      <td>1564054127</td>\n",
       "      <td>248</td>\n",
       "    </tr>\n",
       "    <tr>\n",
       "      <th>3</th>\n",
       "      <td>CartScreenAppear</td>\n",
       "      <td>3518123091307005509</td>\n",
       "      <td>1564054127</td>\n",
       "      <td>248</td>\n",
       "    </tr>\n",
       "    <tr>\n",
       "      <th>4</th>\n",
       "      <td>PaymentScreenSuccessful</td>\n",
       "      <td>6217807653094995999</td>\n",
       "      <td>1564055322</td>\n",
       "      <td>248</td>\n",
       "    </tr>\n",
       "    <tr>\n",
       "      <th>...</th>\n",
       "      <td>...</td>\n",
       "      <td>...</td>\n",
       "      <td>...</td>\n",
       "      <td>...</td>\n",
       "    </tr>\n",
       "    <tr>\n",
       "      <th>244121</th>\n",
       "      <td>MainScreenAppear</td>\n",
       "      <td>4599628364049201812</td>\n",
       "      <td>1565212345</td>\n",
       "      <td>247</td>\n",
       "    </tr>\n",
       "    <tr>\n",
       "      <th>244122</th>\n",
       "      <td>MainScreenAppear</td>\n",
       "      <td>5849806612437486590</td>\n",
       "      <td>1565212439</td>\n",
       "      <td>246</td>\n",
       "    </tr>\n",
       "    <tr>\n",
       "      <th>244123</th>\n",
       "      <td>MainScreenAppear</td>\n",
       "      <td>5746969938801999050</td>\n",
       "      <td>1565212483</td>\n",
       "      <td>246</td>\n",
       "    </tr>\n",
       "    <tr>\n",
       "      <th>244124</th>\n",
       "      <td>MainScreenAppear</td>\n",
       "      <td>5746969938801999050</td>\n",
       "      <td>1565212498</td>\n",
       "      <td>246</td>\n",
       "    </tr>\n",
       "    <tr>\n",
       "      <th>244125</th>\n",
       "      <td>OffersScreenAppear</td>\n",
       "      <td>5746969938801999050</td>\n",
       "      <td>1565212517</td>\n",
       "      <td>246</td>\n",
       "    </tr>\n",
       "  </tbody>\n",
       "</table>\n",
       "<p>244126 rows × 4 columns</p>\n",
       "</div>"
      ],
      "text/plain": [
       "                      EventName         DeviceIDHash EventTimestamp ExpId\n",
       "0              MainScreenAppear  4575588528974610257     1564029816   246\n",
       "1              MainScreenAppear  7416695313311560658     1564053102   246\n",
       "2       PaymentScreenSuccessful  3518123091307005509     1564054127   248\n",
       "3              CartScreenAppear  3518123091307005509     1564054127   248\n",
       "4       PaymentScreenSuccessful  6217807653094995999     1564055322   248\n",
       "...                         ...                  ...            ...   ...\n",
       "244121         MainScreenAppear  4599628364049201812     1565212345   247\n",
       "244122         MainScreenAppear  5849806612437486590     1565212439   246\n",
       "244123         MainScreenAppear  5746969938801999050     1565212483   246\n",
       "244124         MainScreenAppear  5746969938801999050     1565212498   246\n",
       "244125       OffersScreenAppear  5746969938801999050     1565212517   246\n",
       "\n",
       "[244126 rows x 4 columns]"
      ]
     },
     "execution_count": 8,
     "metadata": {},
     "output_type": "execute_result"
    }
   ],
   "source": [
    "# Memeriksa kembali kolom yang dipisah\n",
    "exp_logs"
   ]
  },
  {
   "cell_type": "code",
   "execution_count": 9,
   "metadata": {},
   "outputs": [],
   "source": [
    "# Mengubah kolom menjadi lower case\n",
    "exp_logs.columns = exp_logs.columns.str.lower()"
   ]
  },
  {
   "cell_type": "code",
   "execution_count": 10,
   "metadata": {},
   "outputs": [
    {
     "data": {
      "text/html": [
       "<div>\n",
       "<style scoped>\n",
       "    .dataframe tbody tr th:only-of-type {\n",
       "        vertical-align: middle;\n",
       "    }\n",
       "\n",
       "    .dataframe tbody tr th {\n",
       "        vertical-align: top;\n",
       "    }\n",
       "\n",
       "    .dataframe thead th {\n",
       "        text-align: right;\n",
       "    }\n",
       "</style>\n",
       "<table border=\"1\" class=\"dataframe\">\n",
       "  <thead>\n",
       "    <tr style=\"text-align: right;\">\n",
       "      <th></th>\n",
       "      <th>eventname</th>\n",
       "      <th>deviceidhash</th>\n",
       "      <th>eventtimestamp</th>\n",
       "      <th>expid</th>\n",
       "    </tr>\n",
       "  </thead>\n",
       "  <tbody>\n",
       "    <tr>\n",
       "      <th>0</th>\n",
       "      <td>MainScreenAppear</td>\n",
       "      <td>4575588528974610257</td>\n",
       "      <td>1564029816</td>\n",
       "      <td>246</td>\n",
       "    </tr>\n",
       "    <tr>\n",
       "      <th>1</th>\n",
       "      <td>MainScreenAppear</td>\n",
       "      <td>7416695313311560658</td>\n",
       "      <td>1564053102</td>\n",
       "      <td>246</td>\n",
       "    </tr>\n",
       "    <tr>\n",
       "      <th>2</th>\n",
       "      <td>PaymentScreenSuccessful</td>\n",
       "      <td>3518123091307005509</td>\n",
       "      <td>1564054127</td>\n",
       "      <td>248</td>\n",
       "    </tr>\n",
       "    <tr>\n",
       "      <th>3</th>\n",
       "      <td>CartScreenAppear</td>\n",
       "      <td>3518123091307005509</td>\n",
       "      <td>1564054127</td>\n",
       "      <td>248</td>\n",
       "    </tr>\n",
       "    <tr>\n",
       "      <th>4</th>\n",
       "      <td>PaymentScreenSuccessful</td>\n",
       "      <td>6217807653094995999</td>\n",
       "      <td>1564055322</td>\n",
       "      <td>248</td>\n",
       "    </tr>\n",
       "    <tr>\n",
       "      <th>...</th>\n",
       "      <td>...</td>\n",
       "      <td>...</td>\n",
       "      <td>...</td>\n",
       "      <td>...</td>\n",
       "    </tr>\n",
       "    <tr>\n",
       "      <th>244121</th>\n",
       "      <td>MainScreenAppear</td>\n",
       "      <td>4599628364049201812</td>\n",
       "      <td>1565212345</td>\n",
       "      <td>247</td>\n",
       "    </tr>\n",
       "    <tr>\n",
       "      <th>244122</th>\n",
       "      <td>MainScreenAppear</td>\n",
       "      <td>5849806612437486590</td>\n",
       "      <td>1565212439</td>\n",
       "      <td>246</td>\n",
       "    </tr>\n",
       "    <tr>\n",
       "      <th>244123</th>\n",
       "      <td>MainScreenAppear</td>\n",
       "      <td>5746969938801999050</td>\n",
       "      <td>1565212483</td>\n",
       "      <td>246</td>\n",
       "    </tr>\n",
       "    <tr>\n",
       "      <th>244124</th>\n",
       "      <td>MainScreenAppear</td>\n",
       "      <td>5746969938801999050</td>\n",
       "      <td>1565212498</td>\n",
       "      <td>246</td>\n",
       "    </tr>\n",
       "    <tr>\n",
       "      <th>244125</th>\n",
       "      <td>OffersScreenAppear</td>\n",
       "      <td>5746969938801999050</td>\n",
       "      <td>1565212517</td>\n",
       "      <td>246</td>\n",
       "    </tr>\n",
       "  </tbody>\n",
       "</table>\n",
       "<p>244126 rows × 4 columns</p>\n",
       "</div>"
      ],
      "text/plain": [
       "                      eventname         deviceidhash eventtimestamp expid\n",
       "0              MainScreenAppear  4575588528974610257     1564029816   246\n",
       "1              MainScreenAppear  7416695313311560658     1564053102   246\n",
       "2       PaymentScreenSuccessful  3518123091307005509     1564054127   248\n",
       "3              CartScreenAppear  3518123091307005509     1564054127   248\n",
       "4       PaymentScreenSuccessful  6217807653094995999     1564055322   248\n",
       "...                         ...                  ...            ...   ...\n",
       "244121         MainScreenAppear  4599628364049201812     1565212345   247\n",
       "244122         MainScreenAppear  5849806612437486590     1565212439   246\n",
       "244123         MainScreenAppear  5746969938801999050     1565212483   246\n",
       "244124         MainScreenAppear  5746969938801999050     1565212498   246\n",
       "244125       OffersScreenAppear  5746969938801999050     1565212517   246\n",
       "\n",
       "[244126 rows x 4 columns]"
      ]
     },
     "execution_count": 10,
     "metadata": {},
     "output_type": "execute_result"
    }
   ],
   "source": [
    "# Memeriksa kembali kolom yang sudah lowercase\n",
    "exp_logs"
   ]
  },
  {
   "cell_type": "code",
   "execution_count": 11,
   "metadata": {},
   "outputs": [
    {
     "name": "stdout",
     "output_type": "stream",
     "text": [
      "<class 'pandas.core.frame.DataFrame'>\n",
      "RangeIndex: 244126 entries, 0 to 244125\n",
      "Data columns (total 4 columns):\n",
      " #   Column          Non-Null Count   Dtype \n",
      "---  ------          --------------   ----- \n",
      " 0   eventname       244126 non-null  object\n",
      " 1   deviceidhash    244126 non-null  object\n",
      " 2   eventtimestamp  244126 non-null  object\n",
      " 3   expid           244126 non-null  object\n",
      "dtypes: object(4)\n",
      "memory usage: 7.5+ MB\n"
     ]
    }
   ],
   "source": [
    "# Memeriksa ulang informasi exp_logs\n",
    "exp_logs.info()"
   ]
  },
  {
   "cell_type": "code",
   "execution_count": 12,
   "metadata": {},
   "outputs": [],
   "source": [
    "# Mengubah nama kolom menjadi snake_case\n",
    "exp_logs.rename(columns={'eventname': 'event_name'}, inplace=True)\n",
    "exp_logs.rename(columns={'deviceidhash': 'device_id_hash'}, inplace=True)\n",
    "exp_logs.rename(columns={'eventtimestamp': 'event_time_stamp'}, inplace=True)\n",
    "exp_logs.rename(columns={'expid': 'exp_id'}, inplace=True)"
   ]
  },
  {
   "cell_type": "code",
   "execution_count": 13,
   "metadata": {},
   "outputs": [
    {
     "data": {
      "text/html": [
       "<div>\n",
       "<style scoped>\n",
       "    .dataframe tbody tr th:only-of-type {\n",
       "        vertical-align: middle;\n",
       "    }\n",
       "\n",
       "    .dataframe tbody tr th {\n",
       "        vertical-align: top;\n",
       "    }\n",
       "\n",
       "    .dataframe thead th {\n",
       "        text-align: right;\n",
       "    }\n",
       "</style>\n",
       "<table border=\"1\" class=\"dataframe\">\n",
       "  <thead>\n",
       "    <tr style=\"text-align: right;\">\n",
       "      <th></th>\n",
       "      <th>event_name</th>\n",
       "      <th>device_id_hash</th>\n",
       "      <th>event_time_stamp</th>\n",
       "      <th>exp_id</th>\n",
       "    </tr>\n",
       "  </thead>\n",
       "  <tbody>\n",
       "    <tr>\n",
       "      <th>0</th>\n",
       "      <td>MainScreenAppear</td>\n",
       "      <td>4575588528974610257</td>\n",
       "      <td>1564029816</td>\n",
       "      <td>246</td>\n",
       "    </tr>\n",
       "    <tr>\n",
       "      <th>1</th>\n",
       "      <td>MainScreenAppear</td>\n",
       "      <td>7416695313311560658</td>\n",
       "      <td>1564053102</td>\n",
       "      <td>246</td>\n",
       "    </tr>\n",
       "    <tr>\n",
       "      <th>2</th>\n",
       "      <td>PaymentScreenSuccessful</td>\n",
       "      <td>3518123091307005509</td>\n",
       "      <td>1564054127</td>\n",
       "      <td>248</td>\n",
       "    </tr>\n",
       "    <tr>\n",
       "      <th>3</th>\n",
       "      <td>CartScreenAppear</td>\n",
       "      <td>3518123091307005509</td>\n",
       "      <td>1564054127</td>\n",
       "      <td>248</td>\n",
       "    </tr>\n",
       "    <tr>\n",
       "      <th>4</th>\n",
       "      <td>PaymentScreenSuccessful</td>\n",
       "      <td>6217807653094995999</td>\n",
       "      <td>1564055322</td>\n",
       "      <td>248</td>\n",
       "    </tr>\n",
       "    <tr>\n",
       "      <th>...</th>\n",
       "      <td>...</td>\n",
       "      <td>...</td>\n",
       "      <td>...</td>\n",
       "      <td>...</td>\n",
       "    </tr>\n",
       "    <tr>\n",
       "      <th>244121</th>\n",
       "      <td>MainScreenAppear</td>\n",
       "      <td>4599628364049201812</td>\n",
       "      <td>1565212345</td>\n",
       "      <td>247</td>\n",
       "    </tr>\n",
       "    <tr>\n",
       "      <th>244122</th>\n",
       "      <td>MainScreenAppear</td>\n",
       "      <td>5849806612437486590</td>\n",
       "      <td>1565212439</td>\n",
       "      <td>246</td>\n",
       "    </tr>\n",
       "    <tr>\n",
       "      <th>244123</th>\n",
       "      <td>MainScreenAppear</td>\n",
       "      <td>5746969938801999050</td>\n",
       "      <td>1565212483</td>\n",
       "      <td>246</td>\n",
       "    </tr>\n",
       "    <tr>\n",
       "      <th>244124</th>\n",
       "      <td>MainScreenAppear</td>\n",
       "      <td>5746969938801999050</td>\n",
       "      <td>1565212498</td>\n",
       "      <td>246</td>\n",
       "    </tr>\n",
       "    <tr>\n",
       "      <th>244125</th>\n",
       "      <td>OffersScreenAppear</td>\n",
       "      <td>5746969938801999050</td>\n",
       "      <td>1565212517</td>\n",
       "      <td>246</td>\n",
       "    </tr>\n",
       "  </tbody>\n",
       "</table>\n",
       "<p>244126 rows × 4 columns</p>\n",
       "</div>"
      ],
      "text/plain": [
       "                     event_name       device_id_hash event_time_stamp exp_id\n",
       "0              MainScreenAppear  4575588528974610257       1564029816    246\n",
       "1              MainScreenAppear  7416695313311560658       1564053102    246\n",
       "2       PaymentScreenSuccessful  3518123091307005509       1564054127    248\n",
       "3              CartScreenAppear  3518123091307005509       1564054127    248\n",
       "4       PaymentScreenSuccessful  6217807653094995999       1564055322    248\n",
       "...                         ...                  ...              ...    ...\n",
       "244121         MainScreenAppear  4599628364049201812       1565212345    247\n",
       "244122         MainScreenAppear  5849806612437486590       1565212439    246\n",
       "244123         MainScreenAppear  5746969938801999050       1565212483    246\n",
       "244124         MainScreenAppear  5746969938801999050       1565212498    246\n",
       "244125       OffersScreenAppear  5746969938801999050       1565212517    246\n",
       "\n",
       "[244126 rows x 4 columns]"
      ]
     },
     "execution_count": 13,
     "metadata": {},
     "output_type": "execute_result"
    }
   ],
   "source": [
    "# Memeriksa kolom yang sudah dijadikan lower_case\n",
    "exp_logs"
   ]
  },
  {
   "cell_type": "markdown",
   "metadata": {},
   "source": [
    "<font color = green> Kesimpulan Sementara </font>\n",
    "- Data untuk pertama-tama harus dimanipulasi terlebih dahulu untuk mudah dibaca. Dari segi penamaan serta pemisahan kolom."
   ]
  },
  {
   "cell_type": "markdown",
   "metadata": {},
   "source": [
    "------"
   ]
  },
  {
   "cell_type": "markdown",
   "metadata": {},
   "source": [
    "### Memeriksa dan Memanipulasi Nilai \n",
    "- Kita akan periksa nilai yang hilang dan tipe datanya. Jika diperlukan, perbaiki datanya."
   ]
  },
  {
   "cell_type": "code",
   "execution_count": 14,
   "metadata": {},
   "outputs": [
    {
     "name": "stdout",
     "output_type": "stream",
     "text": [
      "<class 'pandas.core.frame.DataFrame'>\n",
      "RangeIndex: 244126 entries, 0 to 244125\n",
      "Data columns (total 4 columns):\n",
      " #   Column            Non-Null Count   Dtype \n",
      "---  ------            --------------   ----- \n",
      " 0   event_name        244126 non-null  object\n",
      " 1   device_id_hash    244126 non-null  object\n",
      " 2   event_time_stamp  244126 non-null  object\n",
      " 3   exp_id            244126 non-null  object\n",
      "dtypes: object(4)\n",
      "memory usage: 7.5+ MB\n"
     ]
    }
   ],
   "source": [
    "exp_logs.info()"
   ]
  },
  {
   "cell_type": "code",
   "execution_count": 15,
   "metadata": {},
   "outputs": [
    {
     "data": {
      "text/html": [
       "<div>\n",
       "<style scoped>\n",
       "    .dataframe tbody tr th:only-of-type {\n",
       "        vertical-align: middle;\n",
       "    }\n",
       "\n",
       "    .dataframe tbody tr th {\n",
       "        vertical-align: top;\n",
       "    }\n",
       "\n",
       "    .dataframe thead th {\n",
       "        text-align: right;\n",
       "    }\n",
       "</style>\n",
       "<table border=\"1\" class=\"dataframe\">\n",
       "  <thead>\n",
       "    <tr style=\"text-align: right;\">\n",
       "      <th></th>\n",
       "      <th>event_name</th>\n",
       "      <th>device_id_hash</th>\n",
       "      <th>event_time_stamp</th>\n",
       "      <th>exp_id</th>\n",
       "    </tr>\n",
       "  </thead>\n",
       "  <tbody>\n",
       "    <tr>\n",
       "      <th>0</th>\n",
       "      <td>MainScreenAppear</td>\n",
       "      <td>4575588528974610257</td>\n",
       "      <td>1564029816</td>\n",
       "      <td>246</td>\n",
       "    </tr>\n",
       "    <tr>\n",
       "      <th>1</th>\n",
       "      <td>MainScreenAppear</td>\n",
       "      <td>7416695313311560658</td>\n",
       "      <td>1564053102</td>\n",
       "      <td>246</td>\n",
       "    </tr>\n",
       "    <tr>\n",
       "      <th>2</th>\n",
       "      <td>PaymentScreenSuccessful</td>\n",
       "      <td>3518123091307005509</td>\n",
       "      <td>1564054127</td>\n",
       "      <td>248</td>\n",
       "    </tr>\n",
       "    <tr>\n",
       "      <th>3</th>\n",
       "      <td>CartScreenAppear</td>\n",
       "      <td>3518123091307005509</td>\n",
       "      <td>1564054127</td>\n",
       "      <td>248</td>\n",
       "    </tr>\n",
       "    <tr>\n",
       "      <th>4</th>\n",
       "      <td>PaymentScreenSuccessful</td>\n",
       "      <td>6217807653094995999</td>\n",
       "      <td>1564055322</td>\n",
       "      <td>248</td>\n",
       "    </tr>\n",
       "    <tr>\n",
       "      <th>...</th>\n",
       "      <td>...</td>\n",
       "      <td>...</td>\n",
       "      <td>...</td>\n",
       "      <td>...</td>\n",
       "    </tr>\n",
       "    <tr>\n",
       "      <th>244121</th>\n",
       "      <td>MainScreenAppear</td>\n",
       "      <td>4599628364049201812</td>\n",
       "      <td>1565212345</td>\n",
       "      <td>247</td>\n",
       "    </tr>\n",
       "    <tr>\n",
       "      <th>244122</th>\n",
       "      <td>MainScreenAppear</td>\n",
       "      <td>5849806612437486590</td>\n",
       "      <td>1565212439</td>\n",
       "      <td>246</td>\n",
       "    </tr>\n",
       "    <tr>\n",
       "      <th>244123</th>\n",
       "      <td>MainScreenAppear</td>\n",
       "      <td>5746969938801999050</td>\n",
       "      <td>1565212483</td>\n",
       "      <td>246</td>\n",
       "    </tr>\n",
       "    <tr>\n",
       "      <th>244124</th>\n",
       "      <td>MainScreenAppear</td>\n",
       "      <td>5746969938801999050</td>\n",
       "      <td>1565212498</td>\n",
       "      <td>246</td>\n",
       "    </tr>\n",
       "    <tr>\n",
       "      <th>244125</th>\n",
       "      <td>OffersScreenAppear</td>\n",
       "      <td>5746969938801999050</td>\n",
       "      <td>1565212517</td>\n",
       "      <td>246</td>\n",
       "    </tr>\n",
       "  </tbody>\n",
       "</table>\n",
       "<p>244126 rows × 4 columns</p>\n",
       "</div>"
      ],
      "text/plain": [
       "                     event_name       device_id_hash event_time_stamp exp_id\n",
       "0              MainScreenAppear  4575588528974610257       1564029816    246\n",
       "1              MainScreenAppear  7416695313311560658       1564053102    246\n",
       "2       PaymentScreenSuccessful  3518123091307005509       1564054127    248\n",
       "3              CartScreenAppear  3518123091307005509       1564054127    248\n",
       "4       PaymentScreenSuccessful  6217807653094995999       1564055322    248\n",
       "...                         ...                  ...              ...    ...\n",
       "244121         MainScreenAppear  4599628364049201812       1565212345    247\n",
       "244122         MainScreenAppear  5849806612437486590       1565212439    246\n",
       "244123         MainScreenAppear  5746969938801999050       1565212483    246\n",
       "244124         MainScreenAppear  5746969938801999050       1565212498    246\n",
       "244125       OffersScreenAppear  5746969938801999050       1565212517    246\n",
       "\n",
       "[244126 rows x 4 columns]"
      ]
     },
     "execution_count": 15,
     "metadata": {},
     "output_type": "execute_result"
    }
   ],
   "source": [
    "exp_logs"
   ]
  },
  {
   "cell_type": "markdown",
   "metadata": {},
   "source": [
    "<font color = green> Temuan </font>\n",
    "- Kita lihat bahwa kolom `event_time_stamp` masih memiliki tipe data object, kolom tersebut adalah \"time\" yang bisa berarti ini merupakan tanggal. Kita akan ubah ke to_datetime."
   ]
  },
  {
   "cell_type": "code",
   "execution_count": 16,
   "metadata": {},
   "outputs": [],
   "source": [
    "# Mengubah tipe data kolom event_time_stamp\n",
    "exp_logs['event_time_stamp'] = pd.to_datetime(exp_logs['event_time_stamp'], unit='s')\n",
    "\n"
   ]
  },
  {
   "cell_type": "markdown",
   "metadata": {},
   "source": [
    "- Untuk menangani ini, kita perlu memberi tahu pandas bahwa kita memiliki epoch time, dan kita dapat menggunakan parameter unit='s' saat menggunakan \n",
    "- Dengan menggunakan unit='s', kita memberi tahu pandas bahwa nilai-nilai tersebut adalah epoch time dalam satuan detik. Setelah mengubah ini, pandas seharusnya dapat menangani konversi datetime dengan benar. "
   ]
  },
  {
   "cell_type": "code",
   "execution_count": 17,
   "metadata": {},
   "outputs": [
    {
     "name": "stdout",
     "output_type": "stream",
     "text": [
      "<class 'pandas.core.frame.DataFrame'>\n",
      "RangeIndex: 244126 entries, 0 to 244125\n",
      "Data columns (total 4 columns):\n",
      " #   Column            Non-Null Count   Dtype         \n",
      "---  ------            --------------   -----         \n",
      " 0   event_name        244126 non-null  object        \n",
      " 1   device_id_hash    244126 non-null  object        \n",
      " 2   event_time_stamp  244126 non-null  datetime64[ns]\n",
      " 3   exp_id            244126 non-null  object        \n",
      "dtypes: datetime64[ns](1), object(3)\n",
      "memory usage: 7.5+ MB\n"
     ]
    }
   ],
   "source": [
    "# Periksa tipe data kolom event_time_stamp\n",
    "exp_logs.info()"
   ]
  },
  {
   "cell_type": "code",
   "execution_count": 18,
   "metadata": {},
   "outputs": [
    {
     "data": {
      "text/html": [
       "<div>\n",
       "<style scoped>\n",
       "    .dataframe tbody tr th:only-of-type {\n",
       "        vertical-align: middle;\n",
       "    }\n",
       "\n",
       "    .dataframe tbody tr th {\n",
       "        vertical-align: top;\n",
       "    }\n",
       "\n",
       "    .dataframe thead th {\n",
       "        text-align: right;\n",
       "    }\n",
       "</style>\n",
       "<table border=\"1\" class=\"dataframe\">\n",
       "  <thead>\n",
       "    <tr style=\"text-align: right;\">\n",
       "      <th></th>\n",
       "      <th>event_name</th>\n",
       "      <th>device_id_hash</th>\n",
       "      <th>event_time_stamp</th>\n",
       "      <th>exp_id</th>\n",
       "    </tr>\n",
       "  </thead>\n",
       "  <tbody>\n",
       "    <tr>\n",
       "      <th>0</th>\n",
       "      <td>MainScreenAppear</td>\n",
       "      <td>4575588528974610257</td>\n",
       "      <td>2019-07-25 04:43:36</td>\n",
       "      <td>246</td>\n",
       "    </tr>\n",
       "    <tr>\n",
       "      <th>1</th>\n",
       "      <td>MainScreenAppear</td>\n",
       "      <td>7416695313311560658</td>\n",
       "      <td>2019-07-25 11:11:42</td>\n",
       "      <td>246</td>\n",
       "    </tr>\n",
       "    <tr>\n",
       "      <th>2</th>\n",
       "      <td>PaymentScreenSuccessful</td>\n",
       "      <td>3518123091307005509</td>\n",
       "      <td>2019-07-25 11:28:47</td>\n",
       "      <td>248</td>\n",
       "    </tr>\n",
       "    <tr>\n",
       "      <th>3</th>\n",
       "      <td>CartScreenAppear</td>\n",
       "      <td>3518123091307005509</td>\n",
       "      <td>2019-07-25 11:28:47</td>\n",
       "      <td>248</td>\n",
       "    </tr>\n",
       "    <tr>\n",
       "      <th>4</th>\n",
       "      <td>PaymentScreenSuccessful</td>\n",
       "      <td>6217807653094995999</td>\n",
       "      <td>2019-07-25 11:48:42</td>\n",
       "      <td>248</td>\n",
       "    </tr>\n",
       "    <tr>\n",
       "      <th>...</th>\n",
       "      <td>...</td>\n",
       "      <td>...</td>\n",
       "      <td>...</td>\n",
       "      <td>...</td>\n",
       "    </tr>\n",
       "    <tr>\n",
       "      <th>244121</th>\n",
       "      <td>MainScreenAppear</td>\n",
       "      <td>4599628364049201812</td>\n",
       "      <td>2019-08-07 21:12:25</td>\n",
       "      <td>247</td>\n",
       "    </tr>\n",
       "    <tr>\n",
       "      <th>244122</th>\n",
       "      <td>MainScreenAppear</td>\n",
       "      <td>5849806612437486590</td>\n",
       "      <td>2019-08-07 21:13:59</td>\n",
       "      <td>246</td>\n",
       "    </tr>\n",
       "    <tr>\n",
       "      <th>244123</th>\n",
       "      <td>MainScreenAppear</td>\n",
       "      <td>5746969938801999050</td>\n",
       "      <td>2019-08-07 21:14:43</td>\n",
       "      <td>246</td>\n",
       "    </tr>\n",
       "    <tr>\n",
       "      <th>244124</th>\n",
       "      <td>MainScreenAppear</td>\n",
       "      <td>5746969938801999050</td>\n",
       "      <td>2019-08-07 21:14:58</td>\n",
       "      <td>246</td>\n",
       "    </tr>\n",
       "    <tr>\n",
       "      <th>244125</th>\n",
       "      <td>OffersScreenAppear</td>\n",
       "      <td>5746969938801999050</td>\n",
       "      <td>2019-08-07 21:15:17</td>\n",
       "      <td>246</td>\n",
       "    </tr>\n",
       "  </tbody>\n",
       "</table>\n",
       "<p>244126 rows × 4 columns</p>\n",
       "</div>"
      ],
      "text/plain": [
       "                     event_name       device_id_hash    event_time_stamp  \\\n",
       "0              MainScreenAppear  4575588528974610257 2019-07-25 04:43:36   \n",
       "1              MainScreenAppear  7416695313311560658 2019-07-25 11:11:42   \n",
       "2       PaymentScreenSuccessful  3518123091307005509 2019-07-25 11:28:47   \n",
       "3              CartScreenAppear  3518123091307005509 2019-07-25 11:28:47   \n",
       "4       PaymentScreenSuccessful  6217807653094995999 2019-07-25 11:48:42   \n",
       "...                         ...                  ...                 ...   \n",
       "244121         MainScreenAppear  4599628364049201812 2019-08-07 21:12:25   \n",
       "244122         MainScreenAppear  5849806612437486590 2019-08-07 21:13:59   \n",
       "244123         MainScreenAppear  5746969938801999050 2019-08-07 21:14:43   \n",
       "244124         MainScreenAppear  5746969938801999050 2019-08-07 21:14:58   \n",
       "244125       OffersScreenAppear  5746969938801999050 2019-08-07 21:15:17   \n",
       "\n",
       "       exp_id  \n",
       "0         246  \n",
       "1         246  \n",
       "2         248  \n",
       "3         248  \n",
       "4         248  \n",
       "...       ...  \n",
       "244121    247  \n",
       "244122    246  \n",
       "244123    246  \n",
       "244124    246  \n",
       "244125    246  \n",
       "\n",
       "[244126 rows x 4 columns]"
      ]
     },
     "execution_count": 18,
     "metadata": {},
     "output_type": "execute_result"
    }
   ],
   "source": [
    "# Periksa nilai kolom secara visual\n",
    "exp_logs"
   ]
  },
  {
   "cell_type": "markdown",
   "metadata": {},
   "source": [
    "- Untuk berjaga-jaga mari kita tambahkan kolom pertahun dan per bulan"
   ]
  },
  {
   "cell_type": "code",
   "execution_count": 19,
   "metadata": {},
   "outputs": [],
   "source": [
    "exp_logs['year'] = exp_logs['event_time_stamp'].dt.year\n",
    "exp_logs['month'] = exp_logs['event_time_stamp'].dt.month\n",
    "exp_logs['day'] = exp_logs['event_time_stamp'].dt.day"
   ]
  },
  {
   "cell_type": "code",
   "execution_count": 20,
   "metadata": {},
   "outputs": [
    {
     "data": {
      "text/html": [
       "<div>\n",
       "<style scoped>\n",
       "    .dataframe tbody tr th:only-of-type {\n",
       "        vertical-align: middle;\n",
       "    }\n",
       "\n",
       "    .dataframe tbody tr th {\n",
       "        vertical-align: top;\n",
       "    }\n",
       "\n",
       "    .dataframe thead th {\n",
       "        text-align: right;\n",
       "    }\n",
       "</style>\n",
       "<table border=\"1\" class=\"dataframe\">\n",
       "  <thead>\n",
       "    <tr style=\"text-align: right;\">\n",
       "      <th></th>\n",
       "      <th>event_name</th>\n",
       "      <th>device_id_hash</th>\n",
       "      <th>event_time_stamp</th>\n",
       "      <th>exp_id</th>\n",
       "      <th>year</th>\n",
       "      <th>month</th>\n",
       "      <th>day</th>\n",
       "    </tr>\n",
       "  </thead>\n",
       "  <tbody>\n",
       "    <tr>\n",
       "      <th>0</th>\n",
       "      <td>MainScreenAppear</td>\n",
       "      <td>4575588528974610257</td>\n",
       "      <td>2019-07-25 04:43:36</td>\n",
       "      <td>246</td>\n",
       "      <td>2019</td>\n",
       "      <td>7</td>\n",
       "      <td>25</td>\n",
       "    </tr>\n",
       "    <tr>\n",
       "      <th>1</th>\n",
       "      <td>MainScreenAppear</td>\n",
       "      <td>7416695313311560658</td>\n",
       "      <td>2019-07-25 11:11:42</td>\n",
       "      <td>246</td>\n",
       "      <td>2019</td>\n",
       "      <td>7</td>\n",
       "      <td>25</td>\n",
       "    </tr>\n",
       "    <tr>\n",
       "      <th>2</th>\n",
       "      <td>PaymentScreenSuccessful</td>\n",
       "      <td>3518123091307005509</td>\n",
       "      <td>2019-07-25 11:28:47</td>\n",
       "      <td>248</td>\n",
       "      <td>2019</td>\n",
       "      <td>7</td>\n",
       "      <td>25</td>\n",
       "    </tr>\n",
       "    <tr>\n",
       "      <th>3</th>\n",
       "      <td>CartScreenAppear</td>\n",
       "      <td>3518123091307005509</td>\n",
       "      <td>2019-07-25 11:28:47</td>\n",
       "      <td>248</td>\n",
       "      <td>2019</td>\n",
       "      <td>7</td>\n",
       "      <td>25</td>\n",
       "    </tr>\n",
       "    <tr>\n",
       "      <th>4</th>\n",
       "      <td>PaymentScreenSuccessful</td>\n",
       "      <td>6217807653094995999</td>\n",
       "      <td>2019-07-25 11:48:42</td>\n",
       "      <td>248</td>\n",
       "      <td>2019</td>\n",
       "      <td>7</td>\n",
       "      <td>25</td>\n",
       "    </tr>\n",
       "    <tr>\n",
       "      <th>...</th>\n",
       "      <td>...</td>\n",
       "      <td>...</td>\n",
       "      <td>...</td>\n",
       "      <td>...</td>\n",
       "      <td>...</td>\n",
       "      <td>...</td>\n",
       "      <td>...</td>\n",
       "    </tr>\n",
       "    <tr>\n",
       "      <th>244121</th>\n",
       "      <td>MainScreenAppear</td>\n",
       "      <td>4599628364049201812</td>\n",
       "      <td>2019-08-07 21:12:25</td>\n",
       "      <td>247</td>\n",
       "      <td>2019</td>\n",
       "      <td>8</td>\n",
       "      <td>7</td>\n",
       "    </tr>\n",
       "    <tr>\n",
       "      <th>244122</th>\n",
       "      <td>MainScreenAppear</td>\n",
       "      <td>5849806612437486590</td>\n",
       "      <td>2019-08-07 21:13:59</td>\n",
       "      <td>246</td>\n",
       "      <td>2019</td>\n",
       "      <td>8</td>\n",
       "      <td>7</td>\n",
       "    </tr>\n",
       "    <tr>\n",
       "      <th>244123</th>\n",
       "      <td>MainScreenAppear</td>\n",
       "      <td>5746969938801999050</td>\n",
       "      <td>2019-08-07 21:14:43</td>\n",
       "      <td>246</td>\n",
       "      <td>2019</td>\n",
       "      <td>8</td>\n",
       "      <td>7</td>\n",
       "    </tr>\n",
       "    <tr>\n",
       "      <th>244124</th>\n",
       "      <td>MainScreenAppear</td>\n",
       "      <td>5746969938801999050</td>\n",
       "      <td>2019-08-07 21:14:58</td>\n",
       "      <td>246</td>\n",
       "      <td>2019</td>\n",
       "      <td>8</td>\n",
       "      <td>7</td>\n",
       "    </tr>\n",
       "    <tr>\n",
       "      <th>244125</th>\n",
       "      <td>OffersScreenAppear</td>\n",
       "      <td>5746969938801999050</td>\n",
       "      <td>2019-08-07 21:15:17</td>\n",
       "      <td>246</td>\n",
       "      <td>2019</td>\n",
       "      <td>8</td>\n",
       "      <td>7</td>\n",
       "    </tr>\n",
       "  </tbody>\n",
       "</table>\n",
       "<p>244126 rows × 7 columns</p>\n",
       "</div>"
      ],
      "text/plain": [
       "                     event_name       device_id_hash    event_time_stamp  \\\n",
       "0              MainScreenAppear  4575588528974610257 2019-07-25 04:43:36   \n",
       "1              MainScreenAppear  7416695313311560658 2019-07-25 11:11:42   \n",
       "2       PaymentScreenSuccessful  3518123091307005509 2019-07-25 11:28:47   \n",
       "3              CartScreenAppear  3518123091307005509 2019-07-25 11:28:47   \n",
       "4       PaymentScreenSuccessful  6217807653094995999 2019-07-25 11:48:42   \n",
       "...                         ...                  ...                 ...   \n",
       "244121         MainScreenAppear  4599628364049201812 2019-08-07 21:12:25   \n",
       "244122         MainScreenAppear  5849806612437486590 2019-08-07 21:13:59   \n",
       "244123         MainScreenAppear  5746969938801999050 2019-08-07 21:14:43   \n",
       "244124         MainScreenAppear  5746969938801999050 2019-08-07 21:14:58   \n",
       "244125       OffersScreenAppear  5746969938801999050 2019-08-07 21:15:17   \n",
       "\n",
       "       exp_id  year  month  day  \n",
       "0         246  2019      7   25  \n",
       "1         246  2019      7   25  \n",
       "2         248  2019      7   25  \n",
       "3         248  2019      7   25  \n",
       "4         248  2019      7   25  \n",
       "...       ...   ...    ...  ...  \n",
       "244121    247  2019      8    7  \n",
       "244122    246  2019      8    7  \n",
       "244123    246  2019      8    7  \n",
       "244124    246  2019      8    7  \n",
       "244125    246  2019      8    7  \n",
       "\n",
       "[244126 rows x 7 columns]"
      ]
     },
     "execution_count": 20,
     "metadata": {},
     "output_type": "execute_result"
    }
   ],
   "source": [
    "# exp_logs dengan tambahan koloom year dan month\n",
    "exp_logs"
   ]
  },
  {
   "cell_type": "markdown",
   "metadata": {},
   "source": [
    "<font color = green> Kesimpulan Sementara </font>\n",
    "- Dengan adanya penambahan kolom `day` bisa dipastikan proses bisnis yang terjadi berlangsung dari tanggal 25 bulan 7 hingga tanggal 7 bulan 8, yang berarti proses bisnis terjadi sekitar 12 hari atau kurang dari 1 minggu."
   ]
  },
  {
   "cell_type": "markdown",
   "metadata": {},
   "source": [
    "---------"
   ]
  },
  {
   "cell_type": "markdown",
   "metadata": {},
   "source": [
    "### Menambahkan Kolom Tanggal dan Waktu\n",
    "- Tambahkan kolom tanggal dan waktu, serta satu kolom terpisah untuk tanggal."
   ]
  },
  {
   "cell_type": "code",
   "execution_count": 21,
   "metadata": {},
   "outputs": [],
   "source": [
    "# Menambah kolom tanggal dan waktu\n",
    "exp_logs['datetime'] = exp_logs['event_time_stamp']\n",
    "exp_logs['date'] = exp_logs['event_time_stamp'].dt.date\n"
   ]
  },
  {
   "cell_type": "code",
   "execution_count": 22,
   "metadata": {},
   "outputs": [
    {
     "data": {
      "text/html": [
       "<div>\n",
       "<style scoped>\n",
       "    .dataframe tbody tr th:only-of-type {\n",
       "        vertical-align: middle;\n",
       "    }\n",
       "\n",
       "    .dataframe tbody tr th {\n",
       "        vertical-align: top;\n",
       "    }\n",
       "\n",
       "    .dataframe thead th {\n",
       "        text-align: right;\n",
       "    }\n",
       "</style>\n",
       "<table border=\"1\" class=\"dataframe\">\n",
       "  <thead>\n",
       "    <tr style=\"text-align: right;\">\n",
       "      <th></th>\n",
       "      <th>event_name</th>\n",
       "      <th>device_id_hash</th>\n",
       "      <th>event_time_stamp</th>\n",
       "      <th>exp_id</th>\n",
       "      <th>year</th>\n",
       "      <th>month</th>\n",
       "      <th>day</th>\n",
       "      <th>datetime</th>\n",
       "      <th>date</th>\n",
       "    </tr>\n",
       "  </thead>\n",
       "  <tbody>\n",
       "    <tr>\n",
       "      <th>0</th>\n",
       "      <td>MainScreenAppear</td>\n",
       "      <td>4575588528974610257</td>\n",
       "      <td>2019-07-25 04:43:36</td>\n",
       "      <td>246</td>\n",
       "      <td>2019</td>\n",
       "      <td>7</td>\n",
       "      <td>25</td>\n",
       "      <td>2019-07-25 04:43:36</td>\n",
       "      <td>2019-07-25</td>\n",
       "    </tr>\n",
       "    <tr>\n",
       "      <th>1</th>\n",
       "      <td>MainScreenAppear</td>\n",
       "      <td>7416695313311560658</td>\n",
       "      <td>2019-07-25 11:11:42</td>\n",
       "      <td>246</td>\n",
       "      <td>2019</td>\n",
       "      <td>7</td>\n",
       "      <td>25</td>\n",
       "      <td>2019-07-25 11:11:42</td>\n",
       "      <td>2019-07-25</td>\n",
       "    </tr>\n",
       "    <tr>\n",
       "      <th>2</th>\n",
       "      <td>PaymentScreenSuccessful</td>\n",
       "      <td>3518123091307005509</td>\n",
       "      <td>2019-07-25 11:28:47</td>\n",
       "      <td>248</td>\n",
       "      <td>2019</td>\n",
       "      <td>7</td>\n",
       "      <td>25</td>\n",
       "      <td>2019-07-25 11:28:47</td>\n",
       "      <td>2019-07-25</td>\n",
       "    </tr>\n",
       "    <tr>\n",
       "      <th>3</th>\n",
       "      <td>CartScreenAppear</td>\n",
       "      <td>3518123091307005509</td>\n",
       "      <td>2019-07-25 11:28:47</td>\n",
       "      <td>248</td>\n",
       "      <td>2019</td>\n",
       "      <td>7</td>\n",
       "      <td>25</td>\n",
       "      <td>2019-07-25 11:28:47</td>\n",
       "      <td>2019-07-25</td>\n",
       "    </tr>\n",
       "    <tr>\n",
       "      <th>4</th>\n",
       "      <td>PaymentScreenSuccessful</td>\n",
       "      <td>6217807653094995999</td>\n",
       "      <td>2019-07-25 11:48:42</td>\n",
       "      <td>248</td>\n",
       "      <td>2019</td>\n",
       "      <td>7</td>\n",
       "      <td>25</td>\n",
       "      <td>2019-07-25 11:48:42</td>\n",
       "      <td>2019-07-25</td>\n",
       "    </tr>\n",
       "    <tr>\n",
       "      <th>...</th>\n",
       "      <td>...</td>\n",
       "      <td>...</td>\n",
       "      <td>...</td>\n",
       "      <td>...</td>\n",
       "      <td>...</td>\n",
       "      <td>...</td>\n",
       "      <td>...</td>\n",
       "      <td>...</td>\n",
       "      <td>...</td>\n",
       "    </tr>\n",
       "    <tr>\n",
       "      <th>244121</th>\n",
       "      <td>MainScreenAppear</td>\n",
       "      <td>4599628364049201812</td>\n",
       "      <td>2019-08-07 21:12:25</td>\n",
       "      <td>247</td>\n",
       "      <td>2019</td>\n",
       "      <td>8</td>\n",
       "      <td>7</td>\n",
       "      <td>2019-08-07 21:12:25</td>\n",
       "      <td>2019-08-07</td>\n",
       "    </tr>\n",
       "    <tr>\n",
       "      <th>244122</th>\n",
       "      <td>MainScreenAppear</td>\n",
       "      <td>5849806612437486590</td>\n",
       "      <td>2019-08-07 21:13:59</td>\n",
       "      <td>246</td>\n",
       "      <td>2019</td>\n",
       "      <td>8</td>\n",
       "      <td>7</td>\n",
       "      <td>2019-08-07 21:13:59</td>\n",
       "      <td>2019-08-07</td>\n",
       "    </tr>\n",
       "    <tr>\n",
       "      <th>244123</th>\n",
       "      <td>MainScreenAppear</td>\n",
       "      <td>5746969938801999050</td>\n",
       "      <td>2019-08-07 21:14:43</td>\n",
       "      <td>246</td>\n",
       "      <td>2019</td>\n",
       "      <td>8</td>\n",
       "      <td>7</td>\n",
       "      <td>2019-08-07 21:14:43</td>\n",
       "      <td>2019-08-07</td>\n",
       "    </tr>\n",
       "    <tr>\n",
       "      <th>244124</th>\n",
       "      <td>MainScreenAppear</td>\n",
       "      <td>5746969938801999050</td>\n",
       "      <td>2019-08-07 21:14:58</td>\n",
       "      <td>246</td>\n",
       "      <td>2019</td>\n",
       "      <td>8</td>\n",
       "      <td>7</td>\n",
       "      <td>2019-08-07 21:14:58</td>\n",
       "      <td>2019-08-07</td>\n",
       "    </tr>\n",
       "    <tr>\n",
       "      <th>244125</th>\n",
       "      <td>OffersScreenAppear</td>\n",
       "      <td>5746969938801999050</td>\n",
       "      <td>2019-08-07 21:15:17</td>\n",
       "      <td>246</td>\n",
       "      <td>2019</td>\n",
       "      <td>8</td>\n",
       "      <td>7</td>\n",
       "      <td>2019-08-07 21:15:17</td>\n",
       "      <td>2019-08-07</td>\n",
       "    </tr>\n",
       "  </tbody>\n",
       "</table>\n",
       "<p>244126 rows × 9 columns</p>\n",
       "</div>"
      ],
      "text/plain": [
       "                     event_name       device_id_hash    event_time_stamp  \\\n",
       "0              MainScreenAppear  4575588528974610257 2019-07-25 04:43:36   \n",
       "1              MainScreenAppear  7416695313311560658 2019-07-25 11:11:42   \n",
       "2       PaymentScreenSuccessful  3518123091307005509 2019-07-25 11:28:47   \n",
       "3              CartScreenAppear  3518123091307005509 2019-07-25 11:28:47   \n",
       "4       PaymentScreenSuccessful  6217807653094995999 2019-07-25 11:48:42   \n",
       "...                         ...                  ...                 ...   \n",
       "244121         MainScreenAppear  4599628364049201812 2019-08-07 21:12:25   \n",
       "244122         MainScreenAppear  5849806612437486590 2019-08-07 21:13:59   \n",
       "244123         MainScreenAppear  5746969938801999050 2019-08-07 21:14:43   \n",
       "244124         MainScreenAppear  5746969938801999050 2019-08-07 21:14:58   \n",
       "244125       OffersScreenAppear  5746969938801999050 2019-08-07 21:15:17   \n",
       "\n",
       "       exp_id  year  month  day            datetime        date  \n",
       "0         246  2019      7   25 2019-07-25 04:43:36  2019-07-25  \n",
       "1         246  2019      7   25 2019-07-25 11:11:42  2019-07-25  \n",
       "2         248  2019      7   25 2019-07-25 11:28:47  2019-07-25  \n",
       "3         248  2019      7   25 2019-07-25 11:28:47  2019-07-25  \n",
       "4         248  2019      7   25 2019-07-25 11:48:42  2019-07-25  \n",
       "...       ...   ...    ...  ...                 ...         ...  \n",
       "244121    247  2019      8    7 2019-08-07 21:12:25  2019-08-07  \n",
       "244122    246  2019      8    7 2019-08-07 21:13:59  2019-08-07  \n",
       "244123    246  2019      8    7 2019-08-07 21:14:43  2019-08-07  \n",
       "244124    246  2019      8    7 2019-08-07 21:14:58  2019-08-07  \n",
       "244125    246  2019      8    7 2019-08-07 21:15:17  2019-08-07  \n",
       "\n",
       "[244126 rows x 9 columns]"
      ]
     },
     "execution_count": 22,
     "metadata": {},
     "output_type": "execute_result"
    }
   ],
   "source": [
    "exp_logs"
   ]
  },
  {
   "cell_type": "markdown",
   "metadata": {},
   "source": [
    "- Mari kita drop beberapa kolom yang tidak diperlukan. Hal ini berkaitan dengan penulusuran dan manipulasi data yang sebelumnya untuk kita hapus dan menggunakan yang relevan. Manipulasi data sebelumnya bertujuan untuk memeriksa temuan-temuan yang menunjang untuk analisis."
   ]
  },
  {
   "cell_type": "code",
   "execution_count": 23,
   "metadata": {},
   "outputs": [],
   "source": [
    "# Menghapus kolom yang tidak diperlukan\n",
    "exp_logs.drop('day', axis=1, inplace=True)\n",
    "exp_logs.drop('event_time_stamp', axis=1, inplace=True)"
   ]
  },
  {
   "cell_type": "code",
   "execution_count": 24,
   "metadata": {},
   "outputs": [
    {
     "data": {
      "text/html": [
       "<div>\n",
       "<style scoped>\n",
       "    .dataframe tbody tr th:only-of-type {\n",
       "        vertical-align: middle;\n",
       "    }\n",
       "\n",
       "    .dataframe tbody tr th {\n",
       "        vertical-align: top;\n",
       "    }\n",
       "\n",
       "    .dataframe thead th {\n",
       "        text-align: right;\n",
       "    }\n",
       "</style>\n",
       "<table border=\"1\" class=\"dataframe\">\n",
       "  <thead>\n",
       "    <tr style=\"text-align: right;\">\n",
       "      <th></th>\n",
       "      <th>event_name</th>\n",
       "      <th>device_id_hash</th>\n",
       "      <th>exp_id</th>\n",
       "      <th>year</th>\n",
       "      <th>month</th>\n",
       "      <th>datetime</th>\n",
       "      <th>date</th>\n",
       "    </tr>\n",
       "  </thead>\n",
       "  <tbody>\n",
       "    <tr>\n",
       "      <th>0</th>\n",
       "      <td>MainScreenAppear</td>\n",
       "      <td>4575588528974610257</td>\n",
       "      <td>246</td>\n",
       "      <td>2019</td>\n",
       "      <td>7</td>\n",
       "      <td>2019-07-25 04:43:36</td>\n",
       "      <td>2019-07-25</td>\n",
       "    </tr>\n",
       "    <tr>\n",
       "      <th>1</th>\n",
       "      <td>MainScreenAppear</td>\n",
       "      <td>7416695313311560658</td>\n",
       "      <td>246</td>\n",
       "      <td>2019</td>\n",
       "      <td>7</td>\n",
       "      <td>2019-07-25 11:11:42</td>\n",
       "      <td>2019-07-25</td>\n",
       "    </tr>\n",
       "    <tr>\n",
       "      <th>2</th>\n",
       "      <td>PaymentScreenSuccessful</td>\n",
       "      <td>3518123091307005509</td>\n",
       "      <td>248</td>\n",
       "      <td>2019</td>\n",
       "      <td>7</td>\n",
       "      <td>2019-07-25 11:28:47</td>\n",
       "      <td>2019-07-25</td>\n",
       "    </tr>\n",
       "    <tr>\n",
       "      <th>3</th>\n",
       "      <td>CartScreenAppear</td>\n",
       "      <td>3518123091307005509</td>\n",
       "      <td>248</td>\n",
       "      <td>2019</td>\n",
       "      <td>7</td>\n",
       "      <td>2019-07-25 11:28:47</td>\n",
       "      <td>2019-07-25</td>\n",
       "    </tr>\n",
       "    <tr>\n",
       "      <th>4</th>\n",
       "      <td>PaymentScreenSuccessful</td>\n",
       "      <td>6217807653094995999</td>\n",
       "      <td>248</td>\n",
       "      <td>2019</td>\n",
       "      <td>7</td>\n",
       "      <td>2019-07-25 11:48:42</td>\n",
       "      <td>2019-07-25</td>\n",
       "    </tr>\n",
       "    <tr>\n",
       "      <th>...</th>\n",
       "      <td>...</td>\n",
       "      <td>...</td>\n",
       "      <td>...</td>\n",
       "      <td>...</td>\n",
       "      <td>...</td>\n",
       "      <td>...</td>\n",
       "      <td>...</td>\n",
       "    </tr>\n",
       "    <tr>\n",
       "      <th>244121</th>\n",
       "      <td>MainScreenAppear</td>\n",
       "      <td>4599628364049201812</td>\n",
       "      <td>247</td>\n",
       "      <td>2019</td>\n",
       "      <td>8</td>\n",
       "      <td>2019-08-07 21:12:25</td>\n",
       "      <td>2019-08-07</td>\n",
       "    </tr>\n",
       "    <tr>\n",
       "      <th>244122</th>\n",
       "      <td>MainScreenAppear</td>\n",
       "      <td>5849806612437486590</td>\n",
       "      <td>246</td>\n",
       "      <td>2019</td>\n",
       "      <td>8</td>\n",
       "      <td>2019-08-07 21:13:59</td>\n",
       "      <td>2019-08-07</td>\n",
       "    </tr>\n",
       "    <tr>\n",
       "      <th>244123</th>\n",
       "      <td>MainScreenAppear</td>\n",
       "      <td>5746969938801999050</td>\n",
       "      <td>246</td>\n",
       "      <td>2019</td>\n",
       "      <td>8</td>\n",
       "      <td>2019-08-07 21:14:43</td>\n",
       "      <td>2019-08-07</td>\n",
       "    </tr>\n",
       "    <tr>\n",
       "      <th>244124</th>\n",
       "      <td>MainScreenAppear</td>\n",
       "      <td>5746969938801999050</td>\n",
       "      <td>246</td>\n",
       "      <td>2019</td>\n",
       "      <td>8</td>\n",
       "      <td>2019-08-07 21:14:58</td>\n",
       "      <td>2019-08-07</td>\n",
       "    </tr>\n",
       "    <tr>\n",
       "      <th>244125</th>\n",
       "      <td>OffersScreenAppear</td>\n",
       "      <td>5746969938801999050</td>\n",
       "      <td>246</td>\n",
       "      <td>2019</td>\n",
       "      <td>8</td>\n",
       "      <td>2019-08-07 21:15:17</td>\n",
       "      <td>2019-08-07</td>\n",
       "    </tr>\n",
       "  </tbody>\n",
       "</table>\n",
       "<p>244126 rows × 7 columns</p>\n",
       "</div>"
      ],
      "text/plain": [
       "                     event_name       device_id_hash exp_id  year  month  \\\n",
       "0              MainScreenAppear  4575588528974610257    246  2019      7   \n",
       "1              MainScreenAppear  7416695313311560658    246  2019      7   \n",
       "2       PaymentScreenSuccessful  3518123091307005509    248  2019      7   \n",
       "3              CartScreenAppear  3518123091307005509    248  2019      7   \n",
       "4       PaymentScreenSuccessful  6217807653094995999    248  2019      7   \n",
       "...                         ...                  ...    ...   ...    ...   \n",
       "244121         MainScreenAppear  4599628364049201812    247  2019      8   \n",
       "244122         MainScreenAppear  5849806612437486590    246  2019      8   \n",
       "244123         MainScreenAppear  5746969938801999050    246  2019      8   \n",
       "244124         MainScreenAppear  5746969938801999050    246  2019      8   \n",
       "244125       OffersScreenAppear  5746969938801999050    246  2019      8   \n",
       "\n",
       "                  datetime        date  \n",
       "0      2019-07-25 04:43:36  2019-07-25  \n",
       "1      2019-07-25 11:11:42  2019-07-25  \n",
       "2      2019-07-25 11:28:47  2019-07-25  \n",
       "3      2019-07-25 11:28:47  2019-07-25  \n",
       "4      2019-07-25 11:48:42  2019-07-25  \n",
       "...                    ...         ...  \n",
       "244121 2019-08-07 21:12:25  2019-08-07  \n",
       "244122 2019-08-07 21:13:59  2019-08-07  \n",
       "244123 2019-08-07 21:14:43  2019-08-07  \n",
       "244124 2019-08-07 21:14:58  2019-08-07  \n",
       "244125 2019-08-07 21:15:17  2019-08-07  \n",
       "\n",
       "[244126 rows x 7 columns]"
      ]
     },
     "execution_count": 24,
     "metadata": {},
     "output_type": "execute_result"
    }
   ],
   "source": [
    "# Memeriksa kembali kolom tanggal dan waktu\n",
    "exp_logs"
   ]
  },
  {
   "cell_type": "code",
   "execution_count": 25,
   "metadata": {},
   "outputs": [
    {
     "name": "stdout",
     "output_type": "stream",
     "text": [
      "<class 'pandas.core.frame.DataFrame'>\n",
      "RangeIndex: 244126 entries, 0 to 244125\n",
      "Data columns (total 7 columns):\n",
      " #   Column          Non-Null Count   Dtype         \n",
      "---  ------          --------------   -----         \n",
      " 0   event_name      244126 non-null  object        \n",
      " 1   device_id_hash  244126 non-null  object        \n",
      " 2   exp_id          244126 non-null  object        \n",
      " 3   year            244126 non-null  int64         \n",
      " 4   month           244126 non-null  int64         \n",
      " 5   datetime        244126 non-null  datetime64[ns]\n",
      " 6   date            244126 non-null  object        \n",
      "dtypes: datetime64[ns](1), int64(2), object(4)\n",
      "memory usage: 13.0+ MB\n"
     ]
    }
   ],
   "source": [
    "# Memeriksa kembali informasi datetime\n",
    "exp_logs.info()"
   ]
  },
  {
   "cell_type": "markdown",
   "metadata": {},
   "source": [
    "<font color = green > Kesimpulan Sementara </font>\n",
    "- Mulai dari sub bab **\"Menambahkan Kolom Tanggal dan Waktu\"** kolom `event_time_stamp` akan diganti oleh `datetime`. Kita di sini juga melakukan langkah untuk mengspesifikasikan terhadap kolom-kolom tanggal waktu seperti memisahkan hari, bulan dan tahun."
   ]
  },
  {
   "cell_type": "markdown",
   "metadata": {},
   "source": [
    "-------"
   ]
  },
  {
   "cell_type": "markdown",
   "metadata": {},
   "source": [
    "## Mempelajari dan Memeriksa Data \n",
    "- Kita akan pelajari dan periksa datanya."
   ]
  },
  {
   "cell_type": "markdown",
   "metadata": {},
   "source": [
    "### Berapa Banyak Peristiwa yang Tercatat dalam Log?\n",
    "- Mari kita lihat peristiwa umum dan distribusinya."
   ]
  },
  {
   "cell_type": "code",
   "execution_count": 26,
   "metadata": {},
   "outputs": [
    {
     "data": {
      "text/plain": [
       "244126"
      ]
     },
     "execution_count": 26,
     "metadata": {},
     "output_type": "execute_result"
    }
   ],
   "source": [
    "# Jumlah umum peristiwa yang terjadi\n",
    "jumlah_peristiwa = len(exp_logs)\n",
    "jumlah_peristiwa\n"
   ]
  },
  {
   "cell_type": "code",
   "execution_count": 27,
   "metadata": {},
   "outputs": [
    {
     "data": {
      "image/png": "[encoded data removed]",
      "text/plain": [
       "<Figure size 720x432 with 1 Axes>"
      ]
     },
     "metadata": {
      "needs_background": "light"
     },
     "output_type": "display_data"
    }
   ],
   "source": [
    "# Menghitung jumlah peristiwa untuk setiap event_name\n",
    "jumlah_peristiwa_per_event = exp_logs['event_name'].value_counts()\n",
    "\n",
    "# Membuat grafik batang\n",
    "plt.figure(figsize=(10, 6))\n",
    "jumlah_peristiwa_per_event.plot(kind='bar', color='skyblue')\n",
    "plt.title('Jumlah Peristiwa untuk Setiap Event Name')\n",
    "plt.xlabel('Event Name')\n",
    "plt.ylabel('Jumlah Peristiwa')\n",
    "plt.xticks(rotation=45, ha='right')\n",
    "plt.show()\n"
   ]
  },
  {
   "cell_type": "markdown",
   "metadata": {},
   "source": [
    "<font color = green> Kesimpulan Sementara </font>\n",
    "- Peristiwa yang terjadi, secara visualisasi terdapat beberapa nama event. Salah satu traffic tertinggi berada di **\"MainScreenAppear\"**. Hal ini bisa dipastikan beberapa pengguna hanya mengalami idle atau sedang memilih mana saja yang akan mereka lakukan untuk tahap berikutnya."
   ]
  },
  {
   "cell_type": "markdown",
   "metadata": {},
   "source": [
    "------"
   ]
  },
  {
   "cell_type": "markdown",
   "metadata": {},
   "source": [
    "### Berapa Banyak Pengguna yang Tercatat dalam Log?\n",
    "- Melihat jumlah umum serta distribusinya"
   ]
  },
  {
   "cell_type": "code",
   "execution_count": 28,
   "metadata": {},
   "outputs": [
    {
     "data": {
      "text/plain": [
       "7551"
      ]
     },
     "execution_count": 28,
     "metadata": {},
     "output_type": "execute_result"
    }
   ],
   "source": [
    "# Menghitung jumlah pengguna yang tercatat dalam log\n",
    "jumlah_pengguna = exp_logs['device_id_hash'].nunique()\n",
    "jumlah_pengguna"
   ]
  },
  {
   "cell_type": "code",
   "execution_count": 29,
   "metadata": {},
   "outputs": [
    {
     "data": {
      "image/png": "[encoded data removed]",
      "text/plain": [
       "<Figure size 864x432 with 1 Axes>"
      ]
     },
     "metadata": {
      "needs_background": "light"
     },
     "output_type": "display_data"
    }
   ],
   "source": [
    "# Menghitung jumlah peristiwa untuk setiap device_id_hash\n",
    "jumlah_peristiwa_per_device = exp_logs['device_id_hash'].value_counts()\n",
    "\n",
    "# Membuat line plot\n",
    "plt.figure(figsize=(12, 6))\n",
    "jumlah_peristiwa_per_device.sort_index().plot(kind='line', marker='o', color='green')\n",
    "plt.title('Distribusi Jumlah Peristiwa per Pengguna')\n",
    "plt.xlabel('Pengguna')\n",
    "plt.ylabel('Jumlah Peristiwa')\n",
    "plt.xticks(rotation=45, ha='right')\n",
    "plt.show()"
   ]
  },
  {
   "cell_type": "markdown",
   "metadata": {},
   "source": [
    "<font color = green> Temuan </font>\n",
    "- Bisa dipastikan beberapa dalam setiap pengguna mengalami jumlah peristiwa yang bisa dibilang sangat besar. Hal ini bisa saja semacam outliers atau memang pengguna tersebut mengalami idle dalam proses bisnis tersebut. Mari kita tinjau dengan persebaran datanya menggunakan scatter plot."
   ]
  },
  {
   "cell_type": "code",
   "execution_count": 30,
   "metadata": {},
   "outputs": [
    {
     "data": {
      "image/png": "[encoded data removed]",
      "text/plain": [
       "<Figure size 864x432 with 1 Axes>"
      ]
     },
     "metadata": {
      "needs_background": "light"
     },
     "output_type": "display_data"
    }
   ],
   "source": [
    "# Menghitung jumlah peristiwa untuk setiap device_id_hash\n",
    "jumlah_peristiwa_per_device = exp_logs['device_id_hash'].value_counts()\n",
    "\n",
    "# Menambah kolom baru untuk menghitung jumlah peristiwa\n",
    "exp_logs['jumlah_peristiwa'] = exp_logs['device_id_hash'].map(jumlah_peristiwa_per_device)\n",
    "\n",
    "# Membuat scatter plot\n",
    "plt.figure(figsize=(12, 6))\n",
    "plt.scatter(exp_logs['datetime'], exp_logs['jumlah_peristiwa'], alpha=0.5, color='orange')\n",
    "plt.title('Hubungan antara Jumlah Peristiwa per Pengguna dan Waktu')\n",
    "plt.xlabel('Waktu')\n",
    "plt.ylabel('Jumlah Peristiwa per Pengguna')\n",
    "plt.show()"
   ]
  },
  {
   "cell_type": "markdown",
   "metadata": {},
   "source": [
    "<font color = green> Kesimpulan Sementara</font>\n",
    "- Bisa dipastikan di dalam scatter plot ini bukan outliers, melainkan kestabilan serorang atau lebih pengguna yang sedang idle dalam proses bisnis tertentu di waktu tertentu."
   ]
  },
  {
   "cell_type": "markdown",
   "metadata": {},
   "source": [
    "------"
   ]
  },
  {
   "cell_type": "markdown",
   "metadata": {},
   "source": [
    "### Berapa Jumlah Rata-Rata Peristiwa untuk Setiap Pengguna?\n",
    "- Kita akan jumlahkan rata-rata peristiwa pada setiap masing-masing pengguna."
   ]
  },
  {
   "cell_type": "code",
   "execution_count": 31,
   "metadata": {},
   "outputs": [
    {
     "name": "stdout",
     "output_type": "stream",
     "text": [
      "Jumlah rata-rata peristiwa per pengguna: 32.33028737915508\n"
     ]
    }
   ],
   "source": [
    "# Menghitung jumlah peristiwa untuk setiap device_id_hash\n",
    "jumlah_peristiwa_per_device = exp_logs['device_id_hash'].value_counts()\n",
    "\n",
    "# Menghitung rata-rata peristiwa per pengguna\n",
    "rata_rata_peristiwa = jumlah_peristiwa_per_device.mean()\n",
    "\n",
    "print(\"Jumlah rata-rata peristiwa per pengguna:\", rata_rata_peristiwa)"
   ]
  },
  {
   "cell_type": "code",
   "execution_count": 32,
   "metadata": {},
   "outputs": [
    {
     "data": {
      "image/png": "[encoded data removed]",
      "text/plain": [
       "<Figure size 864x432 with 1 Axes>"
      ]
     },
     "metadata": {
      "needs_background": "light"
     },
     "output_type": "display_data"
    }
   ],
   "source": [
    "# Membuat line plot untuk menunjukkan rata-rata peristiwa per pengguna\n",
    "plt.figure(figsize=(12, 6))\n",
    "plt.plot(['Rata-rata Per Pengguna'], [rata_rata_peristiwa], marker='o', color='orange')\n",
    "plt.title('Rata-rata Peristiwa per Pengguna')\n",
    "plt.xlabel('Pengguna')\n",
    "plt.ylabel('Jumlah Rata-rata Peristiwa')\n",
    "plt.show()"
   ]
  },
  {
   "cell_type": "markdown",
   "metadata": {},
   "source": [
    "<font color = green> Kesimpulan Sementara </font>\n",
    "- Jika kita interpertasi dari lineplot di atas dengan hasil tersebut, bisa dipastikan bahwa rata-rata peristiwa yang terjadi dalam proses bisnis ini adalah sekitar 32 peristiwa."
   ]
  },
  {
   "cell_type": "markdown",
   "metadata": {},
   "source": [
    "---------"
   ]
  },
  {
   "cell_type": "markdown",
   "metadata": {},
   "source": [
    "### Periode Waktu Mana yang Dicakup oleh Data?\n",
    "- Temukan tanggal maksimum dan minimumnya. Lalu buat sebuah histogram berdasarkan tanggal dan waktu. Bisakah kita memastikan bahwa data yang kita miliki sama lengkapnya untuk seluruh periode? Peristiwa terdahulu bisa saja muncul dalam log beberapa pengguna karena alasan teknis dan ini bisa mengacaukan distribusi data secara keseluruhan. Temukan momen ketika data mulai dirasa lengkap dan abaikan data lama tersebut. Periode mana yang benar-benar diwakili oleh data yang kita miliki?"
   ]
  },
  {
   "cell_type": "code",
   "execution_count": 33,
   "metadata": {},
   "outputs": [
    {
     "name": "stdout",
     "output_type": "stream",
     "text": [
      "2019-07-25 04:43:36 -- 2019-08-07 21:15:17\n"
     ]
    }
   ],
   "source": [
    "# Menampilkan tanggal minimum dan maksimum dari kolom datetime\n",
    "tanggal_minimum = exp_logs['datetime'].min()\n",
    "tanggal_maksimum = exp_logs['datetime'].max()\n",
    "\n",
    "print(tanggal_minimum, \"--\", tanggal_maksimum)"
   ]
  },
  {
   "cell_type": "code",
   "execution_count": 34,
   "metadata": {},
   "outputs": [
    {
     "data": {
      "image/png": "[encoded data removed]",
      "text/plain": [
       "<Figure size 1008x432 with 1 Axes>"
      ]
     },
     "metadata": {
      "needs_background": "light"
     },
     "output_type": "display_data"
    }
   ],
   "source": [
    "# Menghitung frekuensi peristiwa per tanggal\n",
    "frekuensi_per_tanggal = exp_logs['date'].value_counts()\n",
    "\n",
    "# Membuat histogram\n",
    "plt.figure(figsize=(14, 6))\n",
    "frekuensi_per_tanggal.plot(kind='bar', color='skyblue')\n",
    "plt.title('Frekuensi Peristiwa per Tanggal')\n",
    "plt.xlabel('Tanggal')\n",
    "plt.ylabel('Frekuensi Peristiwa')\n",
    "plt.xticks(rotation=45, ha='right')\n",
    "plt.show()"
   ]
  },
  {
   "cell_type": "markdown",
   "metadata": {},
   "source": [
    "- Histogram ini akan menunjukkan frekuensi peristiwa untuk setiap tanggal. Jika ada tanggal yang memiliki frekuensi yang signifikan lebih rendah dari yang diharapkan, itu mungkin menunjukkan adanya ketidaklengkapan data pada tanggal tersebut."
   ]
  },
  {
   "cell_type": "code",
   "execution_count": 35,
   "metadata": {},
   "outputs": [
    {
     "data": {
      "image/png": "[encoded data removed]",
      "text/plain": [
       "<Figure size 864x432 with 1 Axes>"
      ]
     },
     "metadata": {
      "needs_background": "light"
     },
     "output_type": "display_data"
    },
    {
     "data": {
      "image/png": "[encoded data removed]",
      "text/plain": [
       "<Figure size 864x432 with 1 Axes>"
      ]
     },
     "metadata": {
      "needs_background": "light"
     },
     "output_type": "display_data"
    }
   ],
   "source": [
    "# Mengonversi kolom date menjadi tipe data datetime\n",
    "exp_logs['date'] = pd.to_datetime(exp_logs['date'])\n",
    "\n",
    "# Menampilkan kolom date dalam format \"YYYY-MM-DD\"\n",
    "exp_logs['formatted_date'] = exp_logs['date'].dt.strftime('%Y-%m-%d')\n",
    "\n",
    "# Filter data hanya untuk bulan Juli (07)\n",
    "data_juli = exp_logs[exp_logs['date'].dt.month == 7]\n",
    "\n",
    "# Filter data hanya untuk bulan Agustus (08)\n",
    "data_agustus = exp_logs[exp_logs['date'].dt.month == 8]\n",
    "\n",
    "# Visualisasi distribusi peristiwa untuk bulan Juli\n",
    "plt.figure(figsize=(12, 6))\n",
    "data_juli['date'].hist(bins=20, color='skyblue', edgecolor='black')\n",
    "plt.title('Distribusi Peristiwa pada Bulan Juli')\n",
    "plt.xlabel('Tanggal')\n",
    "plt.ylabel('Frekuensi Peristiwa')\n",
    "plt.show()\n",
    "\n",
    "# Visualisasi distribusi peristiwa untuk bulan Agustus\n",
    "plt.figure(figsize=(12, 6))\n",
    "data_agustus['date'].hist(bins=20, color='lightcoral', edgecolor='black')\n",
    "plt.title('Distribusi Peristiwa pada Bulan Agustus')\n",
    "plt.xlabel('Tanggal')\n",
    "plt.ylabel('Frekuensi Peristiwa')\n",
    "plt.show()"
   ]
  },
  {
   "cell_type": "markdown",
   "metadata": {},
   "source": [
    "- Untuk memastikan kembali, kita coba pisah visualisasi untuk periode bulan 07 dan bulan 08.\n",
    "\n",
    "<font color = green > Kesimpulan Sementara </font>\n",
    "- Bisa dipastikan bukan adanya nilai yang aneh, melainkan pengguna di periode tertentu memang ada traffic. Bisa kita lihat bahwa di bulan 08 ada banyak kegiatan secara stabil setelah periode bulan 07 selesai."
   ]
  },
  {
   "cell_type": "markdown",
   "metadata": {},
   "source": [
    "-------"
   ]
  },
  {
   "cell_type": "markdown",
   "metadata": {},
   "source": [
    "### Apakah Data Banyak yang Hilang Saat Menyingkirkan Data Lama Peristiwa dan Pengguna?\n",
    "- Kita akan memeriksa untuk setiap periodenya apakah kita benar-benar kehilangan data yang sangat banyak untuk menghapus data yang lama?"
   ]
  },
  {
   "cell_type": "code",
   "execution_count": 36,
   "metadata": {},
   "outputs": [
    {
     "data": {
      "text/html": [
       "<div>\n",
       "<style scoped>\n",
       "    .dataframe tbody tr th:only-of-type {\n",
       "        vertical-align: middle;\n",
       "    }\n",
       "\n",
       "    .dataframe tbody tr th {\n",
       "        vertical-align: top;\n",
       "    }\n",
       "\n",
       "    .dataframe thead th {\n",
       "        text-align: right;\n",
       "    }\n",
       "</style>\n",
       "<table border=\"1\" class=\"dataframe\">\n",
       "  <thead>\n",
       "    <tr style=\"text-align: right;\">\n",
       "      <th></th>\n",
       "      <th>event_name</th>\n",
       "      <th>device_id_hash</th>\n",
       "      <th>exp_id</th>\n",
       "      <th>year</th>\n",
       "      <th>month</th>\n",
       "      <th>datetime</th>\n",
       "      <th>date</th>\n",
       "      <th>jumlah_peristiwa</th>\n",
       "      <th>formatted_date</th>\n",
       "    </tr>\n",
       "  </thead>\n",
       "  <tbody>\n",
       "    <tr>\n",
       "      <th>0</th>\n",
       "      <td>MainScreenAppear</td>\n",
       "      <td>4575588528974610257</td>\n",
       "      <td>246</td>\n",
       "      <td>2019</td>\n",
       "      <td>7</td>\n",
       "      <td>2019-07-25 04:43:36</td>\n",
       "      <td>2019-07-25</td>\n",
       "      <td>23</td>\n",
       "      <td>2019-07-25</td>\n",
       "    </tr>\n",
       "    <tr>\n",
       "      <th>1</th>\n",
       "      <td>MainScreenAppear</td>\n",
       "      <td>7416695313311560658</td>\n",
       "      <td>246</td>\n",
       "      <td>2019</td>\n",
       "      <td>7</td>\n",
       "      <td>2019-07-25 11:11:42</td>\n",
       "      <td>2019-07-25</td>\n",
       "      <td>40</td>\n",
       "      <td>2019-07-25</td>\n",
       "    </tr>\n",
       "    <tr>\n",
       "      <th>2</th>\n",
       "      <td>PaymentScreenSuccessful</td>\n",
       "      <td>3518123091307005509</td>\n",
       "      <td>248</td>\n",
       "      <td>2019</td>\n",
       "      <td>7</td>\n",
       "      <td>2019-07-25 11:28:47</td>\n",
       "      <td>2019-07-25</td>\n",
       "      <td>53</td>\n",
       "      <td>2019-07-25</td>\n",
       "    </tr>\n",
       "    <tr>\n",
       "      <th>3</th>\n",
       "      <td>CartScreenAppear</td>\n",
       "      <td>3518123091307005509</td>\n",
       "      <td>248</td>\n",
       "      <td>2019</td>\n",
       "      <td>7</td>\n",
       "      <td>2019-07-25 11:28:47</td>\n",
       "      <td>2019-07-25</td>\n",
       "      <td>53</td>\n",
       "      <td>2019-07-25</td>\n",
       "    </tr>\n",
       "    <tr>\n",
       "      <th>4</th>\n",
       "      <td>PaymentScreenSuccessful</td>\n",
       "      <td>6217807653094995999</td>\n",
       "      <td>248</td>\n",
       "      <td>2019</td>\n",
       "      <td>7</td>\n",
       "      <td>2019-07-25 11:48:42</td>\n",
       "      <td>2019-07-25</td>\n",
       "      <td>22</td>\n",
       "      <td>2019-07-25</td>\n",
       "    </tr>\n",
       "    <tr>\n",
       "      <th>5</th>\n",
       "      <td>CartScreenAppear</td>\n",
       "      <td>6217807653094995999</td>\n",
       "      <td>248</td>\n",
       "      <td>2019</td>\n",
       "      <td>7</td>\n",
       "      <td>2019-07-25 11:48:43</td>\n",
       "      <td>2019-07-25</td>\n",
       "      <td>22</td>\n",
       "      <td>2019-07-25</td>\n",
       "    </tr>\n",
       "    <tr>\n",
       "      <th>6</th>\n",
       "      <td>OffersScreenAppear</td>\n",
       "      <td>8351860793733343758</td>\n",
       "      <td>246</td>\n",
       "      <td>2019</td>\n",
       "      <td>7</td>\n",
       "      <td>2019-07-25 14:50:42</td>\n",
       "      <td>2019-07-25</td>\n",
       "      <td>11</td>\n",
       "      <td>2019-07-25</td>\n",
       "    </tr>\n",
       "    <tr>\n",
       "      <th>7</th>\n",
       "      <td>MainScreenAppear</td>\n",
       "      <td>5682100281902512875</td>\n",
       "      <td>246</td>\n",
       "      <td>2019</td>\n",
       "      <td>7</td>\n",
       "      <td>2019-07-25 20:14:37</td>\n",
       "      <td>2019-07-25</td>\n",
       "      <td>21</td>\n",
       "      <td>2019-07-25</td>\n",
       "    </tr>\n",
       "    <tr>\n",
       "      <th>8</th>\n",
       "      <td>MainScreenAppear</td>\n",
       "      <td>1850981295691852772</td>\n",
       "      <td>247</td>\n",
       "      <td>2019</td>\n",
       "      <td>7</td>\n",
       "      <td>2019-07-25 20:31:42</td>\n",
       "      <td>2019-07-25</td>\n",
       "      <td>69</td>\n",
       "      <td>2019-07-25</td>\n",
       "    </tr>\n",
       "  </tbody>\n",
       "</table>\n",
       "</div>"
      ],
      "text/plain": [
       "                event_name       device_id_hash exp_id  year  month  \\\n",
       "0         MainScreenAppear  4575588528974610257    246  2019      7   \n",
       "1         MainScreenAppear  7416695313311560658    246  2019      7   \n",
       "2  PaymentScreenSuccessful  3518123091307005509    248  2019      7   \n",
       "3         CartScreenAppear  3518123091307005509    248  2019      7   \n",
       "4  PaymentScreenSuccessful  6217807653094995999    248  2019      7   \n",
       "5         CartScreenAppear  6217807653094995999    248  2019      7   \n",
       "6       OffersScreenAppear  8351860793733343758    246  2019      7   \n",
       "7         MainScreenAppear  5682100281902512875    246  2019      7   \n",
       "8         MainScreenAppear  1850981295691852772    247  2019      7   \n",
       "\n",
       "             datetime       date  jumlah_peristiwa formatted_date  \n",
       "0 2019-07-25 04:43:36 2019-07-25                23     2019-07-25  \n",
       "1 2019-07-25 11:11:42 2019-07-25                40     2019-07-25  \n",
       "2 2019-07-25 11:28:47 2019-07-25                53     2019-07-25  \n",
       "3 2019-07-25 11:28:47 2019-07-25                53     2019-07-25  \n",
       "4 2019-07-25 11:48:42 2019-07-25                22     2019-07-25  \n",
       "5 2019-07-25 11:48:43 2019-07-25                22     2019-07-25  \n",
       "6 2019-07-25 14:50:42 2019-07-25                11     2019-07-25  \n",
       "7 2019-07-25 20:14:37 2019-07-25                21     2019-07-25  \n",
       "8 2019-07-25 20:31:42 2019-07-25                69     2019-07-25  "
      ]
     },
     "execution_count": 36,
     "metadata": {},
     "output_type": "execute_result"
    }
   ],
   "source": [
    "# Filter data bulan Juli\n",
    "exp_logs[exp_logs['formatted_date'] == '2019-07-25']"
   ]
  },
  {
   "cell_type": "markdown",
   "metadata": {},
   "source": [
    "- Secara umum, data lama adalah data yang muncul pertama secara urutan tanggal. Kita bisa lihat bahwa bulan Juli merupakan data lama. Mari kita lakukan permisalan data lama dan data baru dengan memfilter saja."
   ]
  },
  {
   "cell_type": "code",
   "execution_count": 37,
   "metadata": {},
   "outputs": [
    {
     "data": {
      "text/html": [
       "<div>\n",
       "<style scoped>\n",
       "    .dataframe tbody tr th:only-of-type {\n",
       "        vertical-align: middle;\n",
       "    }\n",
       "\n",
       "    .dataframe tbody tr th {\n",
       "        vertical-align: top;\n",
       "    }\n",
       "\n",
       "    .dataframe thead th {\n",
       "        text-align: right;\n",
       "    }\n",
       "</style>\n",
       "<table border=\"1\" class=\"dataframe\">\n",
       "  <thead>\n",
       "    <tr style=\"text-align: right;\">\n",
       "      <th></th>\n",
       "      <th>event_name</th>\n",
       "      <th>device_id_hash</th>\n",
       "      <th>exp_id</th>\n",
       "      <th>year</th>\n",
       "      <th>month</th>\n",
       "      <th>datetime</th>\n",
       "      <th>date</th>\n",
       "      <th>jumlah_peristiwa</th>\n",
       "      <th>formatted_date</th>\n",
       "    </tr>\n",
       "  </thead>\n",
       "  <tbody>\n",
       "    <tr>\n",
       "      <th>212982</th>\n",
       "      <td>MainScreenAppear</td>\n",
       "      <td>8500974247653924940</td>\n",
       "      <td>248</td>\n",
       "      <td>2019</td>\n",
       "      <td>8</td>\n",
       "      <td>2019-08-07 00:02:19</td>\n",
       "      <td>2019-08-07</td>\n",
       "      <td>52</td>\n",
       "      <td>2019-08-07</td>\n",
       "    </tr>\n",
       "    <tr>\n",
       "      <th>212983</th>\n",
       "      <td>OffersScreenAppear</td>\n",
       "      <td>8500974247653924940</td>\n",
       "      <td>248</td>\n",
       "      <td>2019</td>\n",
       "      <td>8</td>\n",
       "      <td>2019-08-07 00:02:52</td>\n",
       "      <td>2019-08-07</td>\n",
       "      <td>52</td>\n",
       "      <td>2019-08-07</td>\n",
       "    </tr>\n",
       "    <tr>\n",
       "      <th>212984</th>\n",
       "      <td>MainScreenAppear</td>\n",
       "      <td>4293428370257583636</td>\n",
       "      <td>248</td>\n",
       "      <td>2019</td>\n",
       "      <td>8</td>\n",
       "      <td>2019-08-07 00:04:03</td>\n",
       "      <td>2019-08-07</td>\n",
       "      <td>39</td>\n",
       "      <td>2019-08-07</td>\n",
       "    </tr>\n",
       "    <tr>\n",
       "      <th>212985</th>\n",
       "      <td>MainScreenAppear</td>\n",
       "      <td>8508320995962440734</td>\n",
       "      <td>248</td>\n",
       "      <td>2019</td>\n",
       "      <td>8</td>\n",
       "      <td>2019-08-07 00:06:44</td>\n",
       "      <td>2019-08-07</td>\n",
       "      <td>28</td>\n",
       "      <td>2019-08-07</td>\n",
       "    </tr>\n",
       "    <tr>\n",
       "      <th>212986</th>\n",
       "      <td>MainScreenAppear</td>\n",
       "      <td>1775630733957320125</td>\n",
       "      <td>246</td>\n",
       "      <td>2019</td>\n",
       "      <td>8</td>\n",
       "      <td>2019-08-07 00:07:40</td>\n",
       "      <td>2019-08-07</td>\n",
       "      <td>75</td>\n",
       "      <td>2019-08-07</td>\n",
       "    </tr>\n",
       "    <tr>\n",
       "      <th>...</th>\n",
       "      <td>...</td>\n",
       "      <td>...</td>\n",
       "      <td>...</td>\n",
       "      <td>...</td>\n",
       "      <td>...</td>\n",
       "      <td>...</td>\n",
       "      <td>...</td>\n",
       "      <td>...</td>\n",
       "      <td>...</td>\n",
       "    </tr>\n",
       "    <tr>\n",
       "      <th>244121</th>\n",
       "      <td>MainScreenAppear</td>\n",
       "      <td>4599628364049201812</td>\n",
       "      <td>247</td>\n",
       "      <td>2019</td>\n",
       "      <td>8</td>\n",
       "      <td>2019-08-07 21:12:25</td>\n",
       "      <td>2019-08-07</td>\n",
       "      <td>116</td>\n",
       "      <td>2019-08-07</td>\n",
       "    </tr>\n",
       "    <tr>\n",
       "      <th>244122</th>\n",
       "      <td>MainScreenAppear</td>\n",
       "      <td>5849806612437486590</td>\n",
       "      <td>246</td>\n",
       "      <td>2019</td>\n",
       "      <td>8</td>\n",
       "      <td>2019-08-07 21:13:59</td>\n",
       "      <td>2019-08-07</td>\n",
       "      <td>16</td>\n",
       "      <td>2019-08-07</td>\n",
       "    </tr>\n",
       "    <tr>\n",
       "      <th>244123</th>\n",
       "      <td>MainScreenAppear</td>\n",
       "      <td>5746969938801999050</td>\n",
       "      <td>246</td>\n",
       "      <td>2019</td>\n",
       "      <td>8</td>\n",
       "      <td>2019-08-07 21:14:43</td>\n",
       "      <td>2019-08-07</td>\n",
       "      <td>35</td>\n",
       "      <td>2019-08-07</td>\n",
       "    </tr>\n",
       "    <tr>\n",
       "      <th>244124</th>\n",
       "      <td>MainScreenAppear</td>\n",
       "      <td>5746969938801999050</td>\n",
       "      <td>246</td>\n",
       "      <td>2019</td>\n",
       "      <td>8</td>\n",
       "      <td>2019-08-07 21:14:58</td>\n",
       "      <td>2019-08-07</td>\n",
       "      <td>35</td>\n",
       "      <td>2019-08-07</td>\n",
       "    </tr>\n",
       "    <tr>\n",
       "      <th>244125</th>\n",
       "      <td>OffersScreenAppear</td>\n",
       "      <td>5746969938801999050</td>\n",
       "      <td>246</td>\n",
       "      <td>2019</td>\n",
       "      <td>8</td>\n",
       "      <td>2019-08-07 21:15:17</td>\n",
       "      <td>2019-08-07</td>\n",
       "      <td>35</td>\n",
       "      <td>2019-08-07</td>\n",
       "    </tr>\n",
       "  </tbody>\n",
       "</table>\n",
       "<p>31144 rows × 9 columns</p>\n",
       "</div>"
      ],
      "text/plain": [
       "                event_name       device_id_hash exp_id  year  month  \\\n",
       "212982    MainScreenAppear  8500974247653924940    248  2019      8   \n",
       "212983  OffersScreenAppear  8500974247653924940    248  2019      8   \n",
       "212984    MainScreenAppear  4293428370257583636    248  2019      8   \n",
       "212985    MainScreenAppear  8508320995962440734    248  2019      8   \n",
       "212986    MainScreenAppear  1775630733957320125    246  2019      8   \n",
       "...                    ...                  ...    ...   ...    ...   \n",
       "244121    MainScreenAppear  4599628364049201812    247  2019      8   \n",
       "244122    MainScreenAppear  5849806612437486590    246  2019      8   \n",
       "244123    MainScreenAppear  5746969938801999050    246  2019      8   \n",
       "244124    MainScreenAppear  5746969938801999050    246  2019      8   \n",
       "244125  OffersScreenAppear  5746969938801999050    246  2019      8   \n",
       "\n",
       "                  datetime       date  jumlah_peristiwa formatted_date  \n",
       "212982 2019-08-07 00:02:19 2019-08-07                52     2019-08-07  \n",
       "212983 2019-08-07 00:02:52 2019-08-07                52     2019-08-07  \n",
       "212984 2019-08-07 00:04:03 2019-08-07                39     2019-08-07  \n",
       "212985 2019-08-07 00:06:44 2019-08-07                28     2019-08-07  \n",
       "212986 2019-08-07 00:07:40 2019-08-07                75     2019-08-07  \n",
       "...                    ...        ...               ...            ...  \n",
       "244121 2019-08-07 21:12:25 2019-08-07               116     2019-08-07  \n",
       "244122 2019-08-07 21:13:59 2019-08-07                16     2019-08-07  \n",
       "244123 2019-08-07 21:14:43 2019-08-07                35     2019-08-07  \n",
       "244124 2019-08-07 21:14:58 2019-08-07                35     2019-08-07  \n",
       "244125 2019-08-07 21:15:17 2019-08-07                35     2019-08-07  \n",
       "\n",
       "[31144 rows x 9 columns]"
      ]
     },
     "execution_count": 37,
     "metadata": {},
     "output_type": "execute_result"
    }
   ],
   "source": [
    "# Filter data bulan Agustus\n",
    "exp_logs[exp_logs['formatted_date'] == '2019-08-07']"
   ]
  },
  {
   "cell_type": "code",
   "execution_count": 38,
   "metadata": {},
   "outputs": [],
   "source": [
    "# Variable bulan Juli\n",
    "exp_logs_july_sum = exp_logs[exp_logs['formatted_date'] == '2019-07-25']"
   ]
  },
  {
   "cell_type": "code",
   "execution_count": 39,
   "metadata": {},
   "outputs": [
    {
     "data": {
      "text/plain": [
       "314"
      ]
     },
     "execution_count": 39,
     "metadata": {},
     "output_type": "execute_result"
    }
   ],
   "source": [
    "# Jumlah peristiwa bulan Juli (secara mapping)\n",
    "exp_logs_july_sum['jumlah_peristiwa'].sum()"
   ]
  },
  {
   "cell_type": "code",
   "execution_count": 40,
   "metadata": {},
   "outputs": [],
   "source": [
    "# Variable bulan Agustus\n",
    "exp_logs_august_sum = exp_logs[exp_logs['formatted_date'] == '2019-08-07']"
   ]
  },
  {
   "cell_type": "code",
   "execution_count": 41,
   "metadata": {},
   "outputs": [
    {
     "data": {
      "text/plain": [
       "3790365"
      ]
     },
     "execution_count": 41,
     "metadata": {},
     "output_type": "execute_result"
    }
   ],
   "source": [
    "# Jumlah peristiwa bulan Agustus (secara mapping)\n",
    "exp_logs_august_sum['jumlah_peristiwa'].sum()"
   ]
  },
  {
   "cell_type": "markdown",
   "metadata": {},
   "source": [
    "<font color = green > Kesimpulan Sementara </font>\n",
    "- Bisa dipastikan bahwa dengan data yang dihapus sementara atau filter sementara, angka data lama merupakan angka yang sangat kecil dibandingkan dengan data baru. Oleh karena itu relevansi data sekarang berada di bulan Agustus. **Dengan kata lain, kita tidak kehilangan banyak data jika menghapus data yang lama.**"
   ]
  },
  {
   "cell_type": "markdown",
   "metadata": {},
   "source": [
    "------"
   ]
  },
  {
   "cell_type": "markdown",
   "metadata": {},
   "source": [
    "### Mengetahui Pengguna dari Ketiga Kelompok Eksperimen\n",
    "- Pastikan kita memiliki pengguna dari ketiga kelompok eksperimen."
   ]
  },
  {
   "cell_type": "code",
   "execution_count": 42,
   "metadata": {},
   "outputs": [
    {
     "name": "stdout",
     "output_type": "stream",
     "text": [
      "Apakah ada pengguna dari kelompok eksperimen 246?  True\n",
      "Apakah ada pengguna dari kelompok eksperimen 247?  True\n",
      "Apakah ada pengguna dari kelompok eksperimen 248?  True\n"
     ]
    }
   ],
   "source": [
    "# Memastikan keberadaan pengguna dari kelompok eksperimen 246 (kontrol)\n",
    "exist_in_group_246 = exp_logs['exp_id'].eq('246').any()\n",
    "\n",
    "# Memastikan keberadaan pengguna dari kelompok eksperimen 247 (kontrol)\n",
    "exist_in_group_247 = exp_logs['exp_id'].eq('247').any()\n",
    "\n",
    "# Memastikan keberadaan pengguna dari kelompok eksperimen 248 (uji)\n",
    "exist_in_group_248 = exp_logs['exp_id'].eq('248').any()\n",
    "\n",
    "# Menampilkan hasil\n",
    "print(\"Apakah ada pengguna dari kelompok eksperimen 246? \", exist_in_group_246)\n",
    "print(\"Apakah ada pengguna dari kelompok eksperimen 247? \", exist_in_group_247)\n",
    "print(\"Apakah ada pengguna dari kelompok eksperimen 248? \", exist_in_group_248)\n"
   ]
  },
  {
   "cell_type": "markdown",
   "metadata": {},
   "source": [
    "- Interpretasi dari hasil code tersebut adalah bahwa dalam kolom 'exp_id', terdapat setidaknya satu pengguna yang termasuk ke dalam masing-masing kelompok eksperimen: 246 (kelompok kontrol), 247 (kelompok kontrol), dan 248 (kelompok uji)."
   ]
  },
  {
   "cell_type": "markdown",
   "metadata": {},
   "source": [
    "<font color = green> Kesimpulan Sementara </font>\n",
    "- Dari mengetahui pengguna dari ketiga kelompok eksperimen, jika semua hasilnya True, itu berarti data kita memenuhi kriteria untuk melanjutkan analisis terkait A/A/B testing, dan kita dapat melanjutkan dengan percaya diri bahwa kita memiliki representasi dari kondisi awal (kontrol) dan kondisi yang diuji (uji)."
   ]
  },
  {
   "cell_type": "markdown",
   "metadata": {},
   "source": [
    "-----"
   ]
  },
  {
   "cell_type": "markdown",
   "metadata": {},
   "source": [
    "## Mempelajari Funnel Peristiwa\n",
    "- Kita akan pelajari funnel dari peristiwa-peristiwa yang ada di dalam dataset."
   ]
  },
  {
   "cell_type": "markdown",
   "metadata": {},
   "source": [
    "### Melihat Peristiwa Apa Saja yang Ada dalam Log\n",
    "- Lihat peristiwa apa saja yang ada dalam log dan berapa banyak frekuensi kemunculannya. Urutkan peristiwa tersebut berdasarkan frekuensi."
   ]
  },
  {
   "cell_type": "code",
   "execution_count": 43,
   "metadata": {},
   "outputs": [
    {
     "data": {
      "text/html": [
       "<div>\n",
       "<style scoped>\n",
       "    .dataframe tbody tr th:only-of-type {\n",
       "        vertical-align: middle;\n",
       "    }\n",
       "\n",
       "    .dataframe tbody tr th {\n",
       "        vertical-align: top;\n",
       "    }\n",
       "\n",
       "    .dataframe thead th {\n",
       "        text-align: right;\n",
       "    }\n",
       "</style>\n",
       "<table border=\"1\" class=\"dataframe\">\n",
       "  <thead>\n",
       "    <tr style=\"text-align: right;\">\n",
       "      <th></th>\n",
       "      <th>event_name</th>\n",
       "      <th>device_id_hash</th>\n",
       "      <th>exp_id</th>\n",
       "      <th>year</th>\n",
       "      <th>month</th>\n",
       "      <th>datetime</th>\n",
       "      <th>date</th>\n",
       "      <th>jumlah_peristiwa</th>\n",
       "      <th>formatted_date</th>\n",
       "    </tr>\n",
       "  </thead>\n",
       "  <tbody>\n",
       "    <tr>\n",
       "      <th>0</th>\n",
       "      <td>MainScreenAppear</td>\n",
       "      <td>4575588528974610257</td>\n",
       "      <td>246</td>\n",
       "      <td>2019</td>\n",
       "      <td>7</td>\n",
       "      <td>2019-07-25 04:43:36</td>\n",
       "      <td>2019-07-25</td>\n",
       "      <td>23</td>\n",
       "      <td>2019-07-25</td>\n",
       "    </tr>\n",
       "    <tr>\n",
       "      <th>1</th>\n",
       "      <td>MainScreenAppear</td>\n",
       "      <td>7416695313311560658</td>\n",
       "      <td>246</td>\n",
       "      <td>2019</td>\n",
       "      <td>7</td>\n",
       "      <td>2019-07-25 11:11:42</td>\n",
       "      <td>2019-07-25</td>\n",
       "      <td>40</td>\n",
       "      <td>2019-07-25</td>\n",
       "    </tr>\n",
       "    <tr>\n",
       "      <th>2</th>\n",
       "      <td>PaymentScreenSuccessful</td>\n",
       "      <td>3518123091307005509</td>\n",
       "      <td>248</td>\n",
       "      <td>2019</td>\n",
       "      <td>7</td>\n",
       "      <td>2019-07-25 11:28:47</td>\n",
       "      <td>2019-07-25</td>\n",
       "      <td>53</td>\n",
       "      <td>2019-07-25</td>\n",
       "    </tr>\n",
       "    <tr>\n",
       "      <th>3</th>\n",
       "      <td>CartScreenAppear</td>\n",
       "      <td>3518123091307005509</td>\n",
       "      <td>248</td>\n",
       "      <td>2019</td>\n",
       "      <td>7</td>\n",
       "      <td>2019-07-25 11:28:47</td>\n",
       "      <td>2019-07-25</td>\n",
       "      <td>53</td>\n",
       "      <td>2019-07-25</td>\n",
       "    </tr>\n",
       "    <tr>\n",
       "      <th>4</th>\n",
       "      <td>PaymentScreenSuccessful</td>\n",
       "      <td>6217807653094995999</td>\n",
       "      <td>248</td>\n",
       "      <td>2019</td>\n",
       "      <td>7</td>\n",
       "      <td>2019-07-25 11:48:42</td>\n",
       "      <td>2019-07-25</td>\n",
       "      <td>22</td>\n",
       "      <td>2019-07-25</td>\n",
       "    </tr>\n",
       "    <tr>\n",
       "      <th>...</th>\n",
       "      <td>...</td>\n",
       "      <td>...</td>\n",
       "      <td>...</td>\n",
       "      <td>...</td>\n",
       "      <td>...</td>\n",
       "      <td>...</td>\n",
       "      <td>...</td>\n",
       "      <td>...</td>\n",
       "      <td>...</td>\n",
       "    </tr>\n",
       "    <tr>\n",
       "      <th>244121</th>\n",
       "      <td>MainScreenAppear</td>\n",
       "      <td>4599628364049201812</td>\n",
       "      <td>247</td>\n",
       "      <td>2019</td>\n",
       "      <td>8</td>\n",
       "      <td>2019-08-07 21:12:25</td>\n",
       "      <td>2019-08-07</td>\n",
       "      <td>116</td>\n",
       "      <td>2019-08-07</td>\n",
       "    </tr>\n",
       "    <tr>\n",
       "      <th>244122</th>\n",
       "      <td>MainScreenAppear</td>\n",
       "      <td>5849806612437486590</td>\n",
       "      <td>246</td>\n",
       "      <td>2019</td>\n",
       "      <td>8</td>\n",
       "      <td>2019-08-07 21:13:59</td>\n",
       "      <td>2019-08-07</td>\n",
       "      <td>16</td>\n",
       "      <td>2019-08-07</td>\n",
       "    </tr>\n",
       "    <tr>\n",
       "      <th>244123</th>\n",
       "      <td>MainScreenAppear</td>\n",
       "      <td>5746969938801999050</td>\n",
       "      <td>246</td>\n",
       "      <td>2019</td>\n",
       "      <td>8</td>\n",
       "      <td>2019-08-07 21:14:43</td>\n",
       "      <td>2019-08-07</td>\n",
       "      <td>35</td>\n",
       "      <td>2019-08-07</td>\n",
       "    </tr>\n",
       "    <tr>\n",
       "      <th>244124</th>\n",
       "      <td>MainScreenAppear</td>\n",
       "      <td>5746969938801999050</td>\n",
       "      <td>246</td>\n",
       "      <td>2019</td>\n",
       "      <td>8</td>\n",
       "      <td>2019-08-07 21:14:58</td>\n",
       "      <td>2019-08-07</td>\n",
       "      <td>35</td>\n",
       "      <td>2019-08-07</td>\n",
       "    </tr>\n",
       "    <tr>\n",
       "      <th>244125</th>\n",
       "      <td>OffersScreenAppear</td>\n",
       "      <td>5746969938801999050</td>\n",
       "      <td>246</td>\n",
       "      <td>2019</td>\n",
       "      <td>8</td>\n",
       "      <td>2019-08-07 21:15:17</td>\n",
       "      <td>2019-08-07</td>\n",
       "      <td>35</td>\n",
       "      <td>2019-08-07</td>\n",
       "    </tr>\n",
       "  </tbody>\n",
       "</table>\n",
       "<p>244126 rows × 9 columns</p>\n",
       "</div>"
      ],
      "text/plain": [
       "                     event_name       device_id_hash exp_id  year  month  \\\n",
       "0              MainScreenAppear  4575588528974610257    246  2019      7   \n",
       "1              MainScreenAppear  7416695313311560658    246  2019      7   \n",
       "2       PaymentScreenSuccessful  3518123091307005509    248  2019      7   \n",
       "3              CartScreenAppear  3518123091307005509    248  2019      7   \n",
       "4       PaymentScreenSuccessful  6217807653094995999    248  2019      7   \n",
       "...                         ...                  ...    ...   ...    ...   \n",
       "244121         MainScreenAppear  4599628364049201812    247  2019      8   \n",
       "244122         MainScreenAppear  5849806612437486590    246  2019      8   \n",
       "244123         MainScreenAppear  5746969938801999050    246  2019      8   \n",
       "244124         MainScreenAppear  5746969938801999050    246  2019      8   \n",
       "244125       OffersScreenAppear  5746969938801999050    246  2019      8   \n",
       "\n",
       "                  datetime       date  jumlah_peristiwa formatted_date  \n",
       "0      2019-07-25 04:43:36 2019-07-25                23     2019-07-25  \n",
       "1      2019-07-25 11:11:42 2019-07-25                40     2019-07-25  \n",
       "2      2019-07-25 11:28:47 2019-07-25                53     2019-07-25  \n",
       "3      2019-07-25 11:28:47 2019-07-25                53     2019-07-25  \n",
       "4      2019-07-25 11:48:42 2019-07-25                22     2019-07-25  \n",
       "...                    ...        ...               ...            ...  \n",
       "244121 2019-08-07 21:12:25 2019-08-07               116     2019-08-07  \n",
       "244122 2019-08-07 21:13:59 2019-08-07                16     2019-08-07  \n",
       "244123 2019-08-07 21:14:43 2019-08-07                35     2019-08-07  \n",
       "244124 2019-08-07 21:14:58 2019-08-07                35     2019-08-07  \n",
       "244125 2019-08-07 21:15:17 2019-08-07                35     2019-08-07  \n",
       "\n",
       "[244126 rows x 9 columns]"
      ]
     },
     "execution_count": 43,
     "metadata": {},
     "output_type": "execute_result"
    }
   ],
   "source": [
    "# Periksa dataset\n",
    "exp_logs"
   ]
  },
  {
   "cell_type": "code",
   "execution_count": 44,
   "metadata": {},
   "outputs": [
    {
     "data": {
      "text/plain": [
       "array(['MainScreenAppear', 'PaymentScreenSuccessful', 'CartScreenAppear',\n",
       "       'OffersScreenAppear', 'Tutorial'], dtype=object)"
      ]
     },
     "execution_count": 44,
     "metadata": {},
     "output_type": "execute_result"
    }
   ],
   "source": [
    "# Periksa di kolom event apa saja nama peristiwa yang tersedia\n",
    "exp_logs['event_name'].unique()"
   ]
  },
  {
   "cell_type": "markdown",
   "metadata": {},
   "source": [
    "<font color = green > Temuan </font > \n",
    "- Terdapat 5 peristiwa yang akan diukur berdasarkan frekuensi."
   ]
  },
  {
   "cell_type": "code",
   "execution_count": 45,
   "metadata": {},
   "outputs": [],
   "source": [
    "# Menghitung masing-masing jumlah peristiwa\n",
    "freq_event = pd.pivot_table(data= exp_logs, index = 'event_name', values = 'jumlah_peristiwa', aggfunc = 'count').reset_index()"
   ]
  },
  {
   "cell_type": "code",
   "execution_count": 46,
   "metadata": {},
   "outputs": [
    {
     "data": {
      "text/html": [
       "<div>\n",
       "<style scoped>\n",
       "    .dataframe tbody tr th:only-of-type {\n",
       "        vertical-align: middle;\n",
       "    }\n",
       "\n",
       "    .dataframe tbody tr th {\n",
       "        vertical-align: top;\n",
       "    }\n",
       "\n",
       "    .dataframe thead th {\n",
       "        text-align: right;\n",
       "    }\n",
       "</style>\n",
       "<table border=\"1\" class=\"dataframe\">\n",
       "  <thead>\n",
       "    <tr style=\"text-align: right;\">\n",
       "      <th></th>\n",
       "      <th>event_name</th>\n",
       "      <th>jumlah_peristiwa</th>\n",
       "    </tr>\n",
       "  </thead>\n",
       "  <tbody>\n",
       "    <tr>\n",
       "      <th>0</th>\n",
       "      <td>CartScreenAppear</td>\n",
       "      <td>42731</td>\n",
       "    </tr>\n",
       "    <tr>\n",
       "      <th>1</th>\n",
       "      <td>MainScreenAppear</td>\n",
       "      <td>119205</td>\n",
       "    </tr>\n",
       "    <tr>\n",
       "      <th>2</th>\n",
       "      <td>OffersScreenAppear</td>\n",
       "      <td>46825</td>\n",
       "    </tr>\n",
       "    <tr>\n",
       "      <th>3</th>\n",
       "      <td>PaymentScreenSuccessful</td>\n",
       "      <td>34313</td>\n",
       "    </tr>\n",
       "    <tr>\n",
       "      <th>4</th>\n",
       "      <td>Tutorial</td>\n",
       "      <td>1052</td>\n",
       "    </tr>\n",
       "  </tbody>\n",
       "</table>\n",
       "</div>"
      ],
      "text/plain": [
       "                event_name  jumlah_peristiwa\n",
       "0         CartScreenAppear             42731\n",
       "1         MainScreenAppear            119205\n",
       "2       OffersScreenAppear             46825\n",
       "3  PaymentScreenSuccessful             34313\n",
       "4                 Tutorial              1052"
      ]
     },
     "execution_count": 46,
     "metadata": {},
     "output_type": "execute_result"
    }
   ],
   "source": [
    "freq_event"
   ]
  },
  {
   "cell_type": "code",
   "execution_count": 47,
   "metadata": {},
   "outputs": [],
   "source": [
    "# Mengurutkan peristiwa dari yang terbesar ke terkecil\n",
    "freq_event_sorted = freq_event.sort_values(by='jumlah_peristiwa', ascending=False)\n",
    "\n",
    "# Menghitung persentase\n",
    "total_peristiwa = freq_event_sorted['jumlah_peristiwa'].sum()\n",
    "freq_event_sorted['persentase'] = (freq_event_sorted['jumlah_peristiwa'] / total_peristiwa) * 100"
   ]
  },
  {
   "cell_type": "code",
   "execution_count": 48,
   "metadata": {},
   "outputs": [
    {
     "data": {
      "text/html": [
       "<div>\n",
       "<style scoped>\n",
       "    .dataframe tbody tr th:only-of-type {\n",
       "        vertical-align: middle;\n",
       "    }\n",
       "\n",
       "    .dataframe tbody tr th {\n",
       "        vertical-align: top;\n",
       "    }\n",
       "\n",
       "    .dataframe thead th {\n",
       "        text-align: right;\n",
       "    }\n",
       "</style>\n",
       "<table border=\"1\" class=\"dataframe\">\n",
       "  <thead>\n",
       "    <tr style=\"text-align: right;\">\n",
       "      <th></th>\n",
       "      <th>event_name</th>\n",
       "      <th>jumlah_peristiwa</th>\n",
       "      <th>persentase</th>\n",
       "    </tr>\n",
       "  </thead>\n",
       "  <tbody>\n",
       "    <tr>\n",
       "      <th>1</th>\n",
       "      <td>MainScreenAppear</td>\n",
       "      <td>119205</td>\n",
       "      <td>48.829293</td>\n",
       "    </tr>\n",
       "    <tr>\n",
       "      <th>2</th>\n",
       "      <td>OffersScreenAppear</td>\n",
       "      <td>46825</td>\n",
       "      <td>19.180669</td>\n",
       "    </tr>\n",
       "    <tr>\n",
       "      <th>0</th>\n",
       "      <td>CartScreenAppear</td>\n",
       "      <td>42731</td>\n",
       "      <td>17.503666</td>\n",
       "    </tr>\n",
       "    <tr>\n",
       "      <th>3</th>\n",
       "      <td>PaymentScreenSuccessful</td>\n",
       "      <td>34313</td>\n",
       "      <td>14.055447</td>\n",
       "    </tr>\n",
       "    <tr>\n",
       "      <th>4</th>\n",
       "      <td>Tutorial</td>\n",
       "      <td>1052</td>\n",
       "      <td>0.430925</td>\n",
       "    </tr>\n",
       "  </tbody>\n",
       "</table>\n",
       "</div>"
      ],
      "text/plain": [
       "                event_name  jumlah_peristiwa  persentase\n",
       "1         MainScreenAppear            119205   48.829293\n",
       "2       OffersScreenAppear             46825   19.180669\n",
       "0         CartScreenAppear             42731   17.503666\n",
       "3  PaymentScreenSuccessful             34313   14.055447\n",
       "4                 Tutorial              1052    0.430925"
      ]
     },
     "execution_count": 48,
     "metadata": {},
     "output_type": "execute_result"
    }
   ],
   "source": [
    "freq_event_sorted "
   ]
  },
  {
   "cell_type": "code",
   "execution_count": 101,
   "metadata": {},
   "outputs": [
    {
     "data": {
      "application/vnd.plotly.v1+json": {
       "config": {
        "plotlyServerURL": "https://plot.ly"
       },
       "data": [
        {
         "hovertemplate": "number=%{x}<br>stage=%{y}<br>persentase=%{text}<extra></extra>",
         "legendgroup": "",
         "marker": {
          "color": "#636efa"
         },
         "name": "",
         "orientation": "h",
         "showlegend": false,
         "text": [
          48.83,
          19.18,
          17.5,
          14.06,
          0.43
         ],
         "textinfo": "text+percent total",
         "texttemplate": "%{text:.2f}%",
         "type": "funnel",
         "x": [
          119205,
          46825,
          42731,
          34313,
          1052
         ],
         "xaxis": "x",
         "y": [
          "MainScreenAppear",
          "OffersScreenAppear",
          "CartScreenAppear",
          "PaymentScreenSuccessful",
          "Tutorial"
         ],
         "yaxis": "y"
        }
       ],
       "layout": {
        "legend": {
         "tracegroupgap": 0
        },
        "template": {
         "data": {
          "bar": [
           {
            "error_x": {
             "color": "#2a3f5f"
            },
            "error_y": {
             "color": "#2a3f5f"
            },
            "marker": {
             "line": {
              "color": "#E5ECF6",
              "width": 0.5
             },
             "pattern": {
              "fillmode": "overlay",
              "size": 10,
              "solidity": 0.2
             }
            },
            "type": "bar"
           }
          ],
          "barpolar": [
           {
            "marker": {
             "line": {
              "color": "#E5ECF6",
              "width": 0.5
             },
             "pattern": {
              "fillmode": "overlay",
              "size": 10,
              "solidity": 0.2
             }
            },
            "type": "barpolar"
           }
          ],
          "carpet": [
           {
            "aaxis": {
             "endlinecolor": "#2a3f5f",
             "gridcolor": "white",
             "linecolor": "white",
             "minorgridcolor": "white",
             "startlinecolor": "#2a3f5f"
            },
            "baxis": {
             "endlinecolor": "#2a3f5f",
             "gridcolor": "white",
             "linecolor": "white",
             "minorgridcolor": "white",
             "startlinecolor": "#2a3f5f"
            },
            "type": "carpet"
           }
          ],
          "choropleth": [
           {
            "colorbar": {
             "outlinewidth": 0,
             "ticks": ""
            },
            "type": "choropleth"
           }
          ],
          "contour": [
           {
            "colorbar": {
             "outlinewidth": 0,
             "ticks": ""
            },
            "colorscale": [
             [
              0,
              "#0d0887"
             ],
             [
              0.1111111111111111,
              "#46039f"
             ],
             [
              0.2222222222222222,
              "#7201a8"
             ],
             [
              0.3333333333333333,
              "#9c179e"
             ],
             [
              0.4444444444444444,
              "#bd3786"
             ],
             [
              0.5555555555555556,
              "#d8576b"
             ],
             [
              0.6666666666666666,
              "#ed7953"
             ],
             [
              0.7777777777777778,
              "#fb9f3a"
             ],
             [
              0.8888888888888888,
              "#fdca26"
             ],
             [
              1,
              "#f0f921"
             ]
            ],
            "type": "contour"
           }
          ],
          "contourcarpet": [
           {
            "colorbar": {
             "outlinewidth": 0,
             "ticks": ""
            },
            "type": "contourcarpet"
           }
          ],
          "heatmap": [
           {
            "colorbar": {
             "outlinewidth": 0,
             "ticks": ""
            },
            "colorscale": [
             [
              0,
              "#0d0887"
             ],
             [
              0.1111111111111111,
              "#46039f"
             ],
             [
              0.2222222222222222,
              "#7201a8"
             ],
             [
              0.3333333333333333,
              "#9c179e"
             ],
             [
              0.4444444444444444,
              "#bd3786"
             ],
             [
              0.5555555555555556,
              "#d8576b"
             ],
             [
              0.6666666666666666,
              "#ed7953"
             ],
             [
              0.7777777777777778,
              "#fb9f3a"
             ],
             [
              0.8888888888888888,
              "#fdca26"
             ],
             [
              1,
              "#f0f921"
             ]
            ],
            "type": "heatmap"
           }
          ],
          "heatmapgl": [
           {
            "colorbar": {
             "outlinewidth": 0,
             "ticks": ""
            },
            "colorscale": [
             [
              0,
              "#0d0887"
             ],
             [
              0.1111111111111111,
              "#46039f"
             ],
             [
              0.2222222222222222,
              "#7201a8"
             ],
             [
              0.3333333333333333,
              "#9c179e"
             ],
             [
              0.4444444444444444,
              "#bd3786"
             ],
             [
              0.5555555555555556,
              "#d8576b"
             ],
             [
              0.6666666666666666,
              "#ed7953"
             ],
             [
              0.7777777777777778,
              "#fb9f3a"
             ],
             [
              0.8888888888888888,
              "#fdca26"
             ],
             [
              1,
              "#f0f921"
             ]
            ],
            "type": "heatmapgl"
           }
          ],
          "histogram": [
           {
            "marker": {
             "pattern": {
              "fillmode": "overlay",
              "size": 10,
              "solidity": 0.2
             }
            },
            "type": "histogram"
           }
          ],
          "histogram2d": [
           {
            "colorbar": {
             "outlinewidth": 0,
             "ticks": ""
            },
            "colorscale": [
             [
              0,
              "#0d0887"
             ],
             [
              0.1111111111111111,
              "#46039f"
             ],
             [
              0.2222222222222222,
              "#7201a8"
             ],
             [
              0.3333333333333333,
              "#9c179e"
             ],
             [
              0.4444444444444444,
              "#bd3786"
             ],
             [
              0.5555555555555556,
              "#d8576b"
             ],
             [
              0.6666666666666666,
              "#ed7953"
             ],
             [
              0.7777777777777778,
              "#fb9f3a"
             ],
             [
              0.8888888888888888,
              "#fdca26"
             ],
             [
              1,
              "#f0f921"
             ]
            ],
            "type": "histogram2d"
           }
          ],
          "histogram2dcontour": [
           {
            "colorbar": {
             "outlinewidth": 0,
             "ticks": ""
            },
            "colorscale": [
             [
              0,
              "#0d0887"
             ],
             [
              0.1111111111111111,
              "#46039f"
             ],
             [
              0.2222222222222222,
              "#7201a8"
             ],
             [
              0.3333333333333333,
              "#9c179e"
             ],
             [
              0.4444444444444444,
              "#bd3786"
             ],
             [
              0.5555555555555556,
              "#d8576b"
             ],
             [
              0.6666666666666666,
              "#ed7953"
             ],
             [
              0.7777777777777778,
              "#fb9f3a"
             ],
             [
              0.8888888888888888,
              "#fdca26"
             ],
             [
              1,
              "#f0f921"
             ]
            ],
            "type": "histogram2dcontour"
           }
          ],
          "mesh3d": [
           {
            "colorbar": {
             "outlinewidth": 0,
             "ticks": ""
            },
            "type": "mesh3d"
           }
          ],
          "parcoords": [
           {
            "line": {
             "colorbar": {
              "outlinewidth": 0,
              "ticks": ""
             }
            },
            "type": "parcoords"
           }
          ],
          "pie": [
           {
            "automargin": true,
            "type": "pie"
           }
          ],
          "scatter": [
           {
            "marker": {
             "colorbar": {
              "outlinewidth": 0,
              "ticks": ""
             }
            },
            "type": "scatter"
           }
          ],
          "scatter3d": [
           {
            "line": {
             "colorbar": {
              "outlinewidth": 0,
              "ticks": ""
             }
            },
            "marker": {
             "colorbar": {
              "outlinewidth": 0,
              "ticks": ""
             }
            },
            "type": "scatter3d"
           }
          ],
          "scattercarpet": [
           {
            "marker": {
             "colorbar": {
              "outlinewidth": 0,
              "ticks": ""
             }
            },
            "type": "scattercarpet"
           }
          ],
          "scattergeo": [
           {
            "marker": {
             "colorbar": {
              "outlinewidth": 0,
              "ticks": ""
             }
            },
            "type": "scattergeo"
           }
          ],
          "scattergl": [
           {
            "marker": {
             "colorbar": {
              "outlinewidth": 0,
              "ticks": ""
             }
            },
            "type": "scattergl"
           }
          ],
          "scattermapbox": [
           {
            "marker": {
             "colorbar": {
              "outlinewidth": 0,
              "ticks": ""
             }
            },
            "type": "scattermapbox"
           }
          ],
          "scatterpolar": [
           {
            "marker": {
             "colorbar": {
              "outlinewidth": 0,
              "ticks": ""
             }
            },
            "type": "scatterpolar"
           }
          ],
          "scatterpolargl": [
           {
            "marker": {
             "colorbar": {
              "outlinewidth": 0,
              "ticks": ""
             }
            },
            "type": "scatterpolargl"
           }
          ],
          "scatterternary": [
           {
            "marker": {
             "colorbar": {
              "outlinewidth": 0,
              "ticks": ""
             }
            },
            "type": "scatterternary"
           }
          ],
          "surface": [
           {
            "colorbar": {
             "outlinewidth": 0,
             "ticks": ""
            },
            "colorscale": [
             [
              0,
              "#0d0887"
             ],
             [
              0.1111111111111111,
              "#46039f"
             ],
             [
              0.2222222222222222,
              "#7201a8"
             ],
             [
              0.3333333333333333,
              "#9c179e"
             ],
             [
              0.4444444444444444,
              "#bd3786"
             ],
             [
              0.5555555555555556,
              "#d8576b"
             ],
             [
              0.6666666666666666,
              "#ed7953"
             ],
             [
              0.7777777777777778,
              "#fb9f3a"
             ],
             [
              0.8888888888888888,
              "#fdca26"
             ],
             [
              1,
              "#f0f921"
             ]
            ],
            "type": "surface"
           }
          ],
          "table": [
           {
            "cells": {
             "fill": {
              "color": "#EBF0F8"
             },
             "line": {
              "color": "white"
             }
            },
            "header": {
             "fill": {
              "color": "#C8D4E3"
             },
             "line": {
              "color": "white"
             }
            },
            "type": "table"
           }
          ]
         },
         "layout": {
          "annotationdefaults": {
           "arrowcolor": "#2a3f5f",
           "arrowhead": 0,
           "arrowwidth": 1
          },
          "autotypenumbers": "strict",
          "coloraxis": {
           "colorbar": {
            "outlinewidth": 0,
            "ticks": ""
           }
          },
          "colorscale": {
           "diverging": [
            [
             0,
             "#8e0152"
            ],
            [
             0.1,
             "#c51b7d"
            ],
            [
             0.2,
             "#de77ae"
            ],
            [
             0.3,
             "#f1b6da"
            ],
            [
             0.4,
             "#fde0ef"
            ],
            [
             0.5,
             "#f7f7f7"
            ],
            [
             0.6,
             "#e6f5d0"
            ],
            [
             0.7,
             "#b8e186"
            ],
            [
             0.8,
             "#7fbc41"
            ],
            [
             0.9,
             "#4d9221"
            ],
            [
             1,
             "#276419"
            ]
           ],
           "sequential": [
            [
             0,
             "#0d0887"
            ],
            [
             0.1111111111111111,
             "#46039f"
            ],
            [
             0.2222222222222222,
             "#7201a8"
            ],
            [
             0.3333333333333333,
             "#9c179e"
            ],
            [
             0.4444444444444444,
             "#bd3786"
            ],
            [
             0.5555555555555556,
             "#d8576b"
            ],
            [
             0.6666666666666666,
             "#ed7953"
            ],
            [
             0.7777777777777778,
             "#fb9f3a"
            ],
            [
             0.8888888888888888,
             "#fdca26"
            ],
            [
             1,
             "#f0f921"
            ]
           ],
           "sequentialminus": [
            [
             0,
             "#0d0887"
            ],
            [
             0.1111111111111111,
             "#46039f"
            ],
            [
             0.2222222222222222,
             "#7201a8"
            ],
            [
             0.3333333333333333,
             "#9c179e"
            ],
            [
             0.4444444444444444,
             "#bd3786"
            ],
            [
             0.5555555555555556,
             "#d8576b"
            ],
            [
             0.6666666666666666,
             "#ed7953"
            ],
            [
             0.7777777777777778,
             "#fb9f3a"
            ],
            [
             0.8888888888888888,
             "#fdca26"
            ],
            [
             1,
             "#f0f921"
            ]
           ]
          },
          "colorway": [
           "#636efa",
           "#EF553B",
           "#00cc96",
           "#ab63fa",
           "#FFA15A",
           "#19d3f3",
           "#FF6692",
           "#B6E880",
           "#FF97FF",
           "#FECB52"
          ],
          "font": {
           "color": "#2a3f5f"
          },
          "geo": {
           "bgcolor": "white",
           "lakecolor": "white",
           "landcolor": "#E5ECF6",
           "showlakes": true,
           "showland": true,
           "subunitcolor": "white"
          },
          "hoverlabel": {
           "align": "left"
          },
          "hovermode": "closest",
          "mapbox": {
           "style": "light"
          },
          "paper_bgcolor": "white",
          "plot_bgcolor": "#E5ECF6",
          "polar": {
           "angularaxis": {
            "gridcolor": "white",
            "linecolor": "white",
            "ticks": ""
           },
           "bgcolor": "#E5ECF6",
           "radialaxis": {
            "gridcolor": "white",
            "linecolor": "white",
            "ticks": ""
           }
          },
          "scene": {
           "xaxis": {
            "backgroundcolor": "#E5ECF6",
            "gridcolor": "white",
            "gridwidth": 2,
            "linecolor": "white",
            "showbackground": true,
            "ticks": "",
            "zerolinecolor": "white"
           },
           "yaxis": {
            "backgroundcolor": "#E5ECF6",
            "gridcolor": "white",
            "gridwidth": 2,
            "linecolor": "white",
            "showbackground": true,
            "ticks": "",
            "zerolinecolor": "white"
           },
           "zaxis": {
            "backgroundcolor": "#E5ECF6",
            "gridcolor": "white",
            "gridwidth": 2,
            "linecolor": "white",
            "showbackground": true,
            "ticks": "",
            "zerolinecolor": "white"
           }
          },
          "shapedefaults": {
           "line": {
            "color": "#2a3f5f"
           }
          },
          "ternary": {
           "aaxis": {
            "gridcolor": "white",
            "linecolor": "white",
            "ticks": ""
           },
           "baxis": {
            "gridcolor": "white",
            "linecolor": "white",
            "ticks": ""
           },
           "bgcolor": "#E5ECF6",
           "caxis": {
            "gridcolor": "white",
            "linecolor": "white",
            "ticks": ""
           }
          },
          "title": {
           "x": 0.05
          },
          "xaxis": {
           "automargin": true,
           "gridcolor": "white",
           "linecolor": "white",
           "ticks": "",
           "title": {
            "standoff": 15
           },
           "zerolinecolor": "white",
           "zerolinewidth": 2
          },
          "yaxis": {
           "automargin": true,
           "gridcolor": "white",
           "linecolor": "white",
           "ticks": "",
           "title": {
            "standoff": 15
           },
           "zerolinecolor": "white",
           "zerolinewidth": 2
          }
         }
        },
        "title": {
         "text": "Funnel Analysis with Percentage"
        },
        "xaxis": {
         "anchor": "y",
         "domain": [
          0,
          1
         ],
         "title": {
          "text": "number"
         }
        },
        "yaxis": {
         "anchor": "x",
         "domain": [
          0,
          1
         ],
         "title": {
          "text": "stage"
         }
        }
       }
      },
      "text/html": [
       "<div>                            <div id=\"7d7b53c9-4eab-4af8-85eb-9974fc265946\" class=\"plotly-graph-div\" style=\"height:525px; width:100%;\"></div>            <script type=\"text/javascript\">                require([\"plotly\"], function(Plotly) {                    window.PLOTLYENV=window.PLOTLYENV || {};                                    if (document.getElementById(\"7d7b53c9-4eab-4af8-85eb-9974fc265946\")) {                    Plotly.newPlot(                        \"7d7b53c9-4eab-4af8-85eb-9974fc265946\",                        [{\"hovertemplate\":\"number=%{x}<br>stage=%{y}<br>persentase=%{text}<extra></extra>\",\"legendgroup\":\"\",\"marker\":{\"color\":\"#636efa\"},\"name\":\"\",\"orientation\":\"h\",\"showlegend\":false,\"text\":[48.83,19.18,17.5,14.06,0.43],\"x\":[119205,46825,42731,34313,1052],\"xaxis\":\"x\",\"y\":[\"MainScreenAppear\",\"OffersScreenAppear\",\"CartScreenAppear\",\"PaymentScreenSuccessful\",\"Tutorial\"],\"yaxis\":\"y\",\"type\":\"funnel\",\"textinfo\":\"text+percent total\",\"texttemplate\":\"%{text:.2f}%\"}],                        {\"template\":{\"data\":{\"bar\":[{\"error_x\":{\"color\":\"#2a3f5f\"},\"error_y\":{\"color\":\"#2a3f5f\"},\"marker\":{\"line\":{\"color\":\"#E5ECF6\",\"width\":0.5},\"pattern\":{\"fillmode\":\"overlay\",\"size\":10,\"solidity\":0.2}},\"type\":\"bar\"}],\"barpolar\":[{\"marker\":{\"line\":{\"color\":\"#E5ECF6\",\"width\":0.5},\"pattern\":{\"fillmode\":\"overlay\",\"size\":10,\"solidity\":0.2}},\"type\":\"barpolar\"}],\"carpet\":[{\"aaxis\":{\"endlinecolor\":\"#2a3f5f\",\"gridcolor\":\"white\",\"linecolor\":\"white\",\"minorgridcolor\":\"white\",\"startlinecolor\":\"#2a3f5f\"},\"baxis\":{\"endlinecolor\":\"#2a3f5f\",\"gridcolor\":\"white\",\"linecolor\":\"white\",\"minorgridcolor\":\"white\",\"startlinecolor\":\"#2a3f5f\"},\"type\":\"carpet\"}],\"choropleth\":[{\"colorbar\":{\"outlinewidth\":0,\"ticks\":\"\"},\"type\":\"choropleth\"}],\"contour\":[{\"colorbar\":{\"outlinewidth\":0,\"ticks\":\"\"},\"colorscale\":[[0.0,\"#0d0887\"],[0.1111111111111111,\"#46039f\"],[0.2222222222222222,\"#7201a8\"],[0.3333333333333333,\"#9c179e\"],[0.4444444444444444,\"#bd3786\"],[0.5555555555555556,\"#d8576b\"],[0.6666666666666666,\"#ed7953\"],[0.7777777777777778,\"#fb9f3a\"],[0.8888888888888888,\"#fdca26\"],[1.0,\"#f0f921\"]],\"type\":\"contour\"}],\"contourcarpet\":[{\"colorbar\":{\"outlinewidth\":0,\"ticks\":\"\"},\"type\":\"contourcarpet\"}],\"heatmap\":[{\"colorbar\":{\"outlinewidth\":0,\"ticks\":\"\"},\"colorscale\":[[0.0,\"#0d0887\"],[0.1111111111111111,\"#46039f\"],[0.2222222222222222,\"#7201a8\"],[0.3333333333333333,\"#9c179e\"],[0.4444444444444444,\"#bd3786\"],[0.5555555555555556,\"#d8576b\"],[0.6666666666666666,\"#ed7953\"],[0.7777777777777778,\"#fb9f3a\"],[0.8888888888888888,\"#fdca26\"],[1.0,\"#f0f921\"]],\"type\":\"heatmap\"}],\"heatmapgl\":[{\"colorbar\":{\"outlinewidth\":0,\"ticks\":\"\"},\"colorscale\":[[0.0,\"#0d0887\"],[0.1111111111111111,\"#46039f\"],[0.2222222222222222,\"#7201a8\"],[0.3333333333333333,\"#9c179e\"],[0.4444444444444444,\"#bd3786\"],[0.5555555555555556,\"#d8576b\"],[0.6666666666666666,\"#ed7953\"],[0.7777777777777778,\"#fb9f3a\"],[0.8888888888888888,\"#fdca26\"],[1.0,\"#f0f921\"]],\"type\":\"heatmapgl\"}],\"histogram\":[{\"marker\":{\"pattern\":{\"fillmode\":\"overlay\",\"size\":10,\"solidity\":0.2}},\"type\":\"histogram\"}],\"histogram2d\":[{\"colorbar\":{\"outlinewidth\":0,\"ticks\":\"\"},\"colorscale\":[[0.0,\"#0d0887\"],[0.1111111111111111,\"#46039f\"],[0.2222222222222222,\"#7201a8\"],[0.3333333333333333,\"#9c179e\"],[0.4444444444444444,\"#bd3786\"],[0.5555555555555556,\"#d8576b\"],[0.6666666666666666,\"#ed7953\"],[0.7777777777777778,\"#fb9f3a\"],[0.8888888888888888,\"#fdca26\"],[1.0,\"#f0f921\"]],\"type\":\"histogram2d\"}],\"histogram2dcontour\":[{\"colorbar\":{\"outlinewidth\":0,\"ticks\":\"\"},\"colorscale\":[[0.0,\"#0d0887\"],[0.1111111111111111,\"#46039f\"],[0.2222222222222222,\"#7201a8\"],[0.3333333333333333,\"#9c179e\"],[0.4444444444444444,\"#bd3786\"],[0.5555555555555556,\"#d8576b\"],[0.6666666666666666,\"#ed7953\"],[0.7777777777777778,\"#fb9f3a\"],[0.8888888888888888,\"#fdca26\"],[1.0,\"#f0f921\"]],\"type\":\"histogram2dcontour\"}],\"mesh3d\":[{\"colorbar\":{\"outlinewidth\":0,\"ticks\":\"\"},\"type\":\"mesh3d\"}],\"parcoords\":[{\"line\":{\"colorbar\":{\"outlinewidth\":0,\"ticks\":\"\"}},\"type\":\"parcoords\"}],\"pie\":[{\"automargin\":true,\"type\":\"pie\"}],\"scatter\":[{\"marker\":{\"colorbar\":{\"outlinewidth\":0,\"ticks\":\"\"}},\"type\":\"scatter\"}],\"scatter3d\":[{\"line\":{\"colorbar\":{\"outlinewidth\":0,\"ticks\":\"\"}},\"marker\":{\"colorbar\":{\"outlinewidth\":0,\"ticks\":\"\"}},\"type\":\"scatter3d\"}],\"scattercarpet\":[{\"marker\":{\"colorbar\":{\"outlinewidth\":0,\"ticks\":\"\"}},\"type\":\"scattercarpet\"}],\"scattergeo\":[{\"marker\":{\"colorbar\":{\"outlinewidth\":0,\"ticks\":\"\"}},\"type\":\"scattergeo\"}],\"scattergl\":[{\"marker\":{\"colorbar\":{\"outlinewidth\":0,\"ticks\":\"\"}},\"type\":\"scattergl\"}],\"scattermapbox\":[{\"marker\":{\"colorbar\":{\"outlinewidth\":0,\"ticks\":\"\"}},\"type\":\"scattermapbox\"}],\"scatterpolar\":[{\"marker\":{\"colorbar\":{\"outlinewidth\":0,\"ticks\":\"\"}},\"type\":\"scatterpolar\"}],\"scatterpolargl\":[{\"marker\":{\"colorbar\":{\"outlinewidth\":0,\"ticks\":\"\"}},\"type\":\"scatterpolargl\"}],\"scatterternary\":[{\"marker\":{\"colorbar\":{\"outlinewidth\":0,\"ticks\":\"\"}},\"type\":\"scatterternary\"}],\"surface\":[{\"colorbar\":{\"outlinewidth\":0,\"ticks\":\"\"},\"colorscale\":[[0.0,\"#0d0887\"],[0.1111111111111111,\"#46039f\"],[0.2222222222222222,\"#7201a8\"],[0.3333333333333333,\"#9c179e\"],[0.4444444444444444,\"#bd3786\"],[0.5555555555555556,\"#d8576b\"],[0.6666666666666666,\"#ed7953\"],[0.7777777777777778,\"#fb9f3a\"],[0.8888888888888888,\"#fdca26\"],[1.0,\"#f0f921\"]],\"type\":\"surface\"}],\"table\":[{\"cells\":{\"fill\":{\"color\":\"#EBF0F8\"},\"line\":{\"color\":\"white\"}},\"header\":{\"fill\":{\"color\":\"#C8D4E3\"},\"line\":{\"color\":\"white\"}},\"type\":\"table\"}]},\"layout\":{\"annotationdefaults\":{\"arrowcolor\":\"#2a3f5f\",\"arrowhead\":0,\"arrowwidth\":1},\"autotypenumbers\":\"strict\",\"coloraxis\":{\"colorbar\":{\"outlinewidth\":0,\"ticks\":\"\"}},\"colorscale\":{\"diverging\":[[0,\"#8e0152\"],[0.1,\"#c51b7d\"],[0.2,\"#de77ae\"],[0.3,\"#f1b6da\"],[0.4,\"#fde0ef\"],[0.5,\"#f7f7f7\"],[0.6,\"#e6f5d0\"],[0.7,\"#b8e186\"],[0.8,\"#7fbc41\"],[0.9,\"#4d9221\"],[1,\"#276419\"]],\"sequential\":[[0.0,\"#0d0887\"],[0.1111111111111111,\"#46039f\"],[0.2222222222222222,\"#7201a8\"],[0.3333333333333333,\"#9c179e\"],[0.4444444444444444,\"#bd3786\"],[0.5555555555555556,\"#d8576b\"],[0.6666666666666666,\"#ed7953\"],[0.7777777777777778,\"#fb9f3a\"],[0.8888888888888888,\"#fdca26\"],[1.0,\"#f0f921\"]],\"sequentialminus\":[[0.0,\"#0d0887\"],[0.1111111111111111,\"#46039f\"],[0.2222222222222222,\"#7201a8\"],[0.3333333333333333,\"#9c179e\"],[0.4444444444444444,\"#bd3786\"],[0.5555555555555556,\"#d8576b\"],[0.6666666666666666,\"#ed7953\"],[0.7777777777777778,\"#fb9f3a\"],[0.8888888888888888,\"#fdca26\"],[1.0,\"#f0f921\"]]},\"colorway\":[\"#636efa\",\"#EF553B\",\"#00cc96\",\"#ab63fa\",\"#FFA15A\",\"#19d3f3\",\"#FF6692\",\"#B6E880\",\"#FF97FF\",\"#FECB52\"],\"font\":{\"color\":\"#2a3f5f\"},\"geo\":{\"bgcolor\":\"white\",\"lakecolor\":\"white\",\"landcolor\":\"#E5ECF6\",\"showlakes\":true,\"showland\":true,\"subunitcolor\":\"white\"},\"hoverlabel\":{\"align\":\"left\"},\"hovermode\":\"closest\",\"mapbox\":{\"style\":\"light\"},\"paper_bgcolor\":\"white\",\"plot_bgcolor\":\"#E5ECF6\",\"polar\":{\"angularaxis\":{\"gridcolor\":\"white\",\"linecolor\":\"white\",\"ticks\":\"\"},\"bgcolor\":\"#E5ECF6\",\"radialaxis\":{\"gridcolor\":\"white\",\"linecolor\":\"white\",\"ticks\":\"\"}},\"scene\":{\"xaxis\":{\"backgroundcolor\":\"#E5ECF6\",\"gridcolor\":\"white\",\"gridwidth\":2,\"linecolor\":\"white\",\"showbackground\":true,\"ticks\":\"\",\"zerolinecolor\":\"white\"},\"yaxis\":{\"backgroundcolor\":\"#E5ECF6\",\"gridcolor\":\"white\",\"gridwidth\":2,\"linecolor\":\"white\",\"showbackground\":true,\"ticks\":\"\",\"zerolinecolor\":\"white\"},\"zaxis\":{\"backgroundcolor\":\"#E5ECF6\",\"gridcolor\":\"white\",\"gridwidth\":2,\"linecolor\":\"white\",\"showbackground\":true,\"ticks\":\"\",\"zerolinecolor\":\"white\"}},\"shapedefaults\":{\"line\":{\"color\":\"#2a3f5f\"}},\"ternary\":{\"aaxis\":{\"gridcolor\":\"white\",\"linecolor\":\"white\",\"ticks\":\"\"},\"baxis\":{\"gridcolor\":\"white\",\"linecolor\":\"white\",\"ticks\":\"\"},\"bgcolor\":\"#E5ECF6\",\"caxis\":{\"gridcolor\":\"white\",\"linecolor\":\"white\",\"ticks\":\"\"}},\"title\":{\"x\":0.05},\"xaxis\":{\"automargin\":true,\"gridcolor\":\"white\",\"linecolor\":\"white\",\"ticks\":\"\",\"title\":{\"standoff\":15},\"zerolinecolor\":\"white\",\"zerolinewidth\":2},\"yaxis\":{\"automargin\":true,\"gridcolor\":\"white\",\"linecolor\":\"white\",\"ticks\":\"\",\"title\":{\"standoff\":15},\"zerolinecolor\":\"white\",\"zerolinewidth\":2}}},\"xaxis\":{\"anchor\":\"y\",\"domain\":[0.0,1.0],\"title\":{\"text\":\"number\"}},\"yaxis\":{\"anchor\":\"x\",\"domain\":[0.0,1.0],\"title\":{\"text\":\"stage\"}},\"legend\":{\"tracegroupgap\":0},\"title\":{\"text\":\"Funnel Analysis with Percentage\"}},                        {\"responsive\": true}                    ).then(function(){\n",
       "                            \n",
       "var gd = document.getElementById('7d7b53c9-4eab-4af8-85eb-9974fc265946');\n",
       "var x = new MutationObserver(function (mutations, observer) {{\n",
       "        var display = window.getComputedStyle(gd).display;\n",
       "        if (!display || display === 'none') {{\n",
       "            console.log([gd, 'removed!']);\n",
       "            Plotly.purge(gd);\n",
       "            observer.disconnect();\n",
       "        }}\n",
       "}});\n",
       "\n",
       "// Listen for the removal of the full notebook cells\n",
       "var notebookContainer = gd.closest('#notebook-container');\n",
       "if (notebookContainer) {{\n",
       "    x.observe(notebookContainer, {childList: true});\n",
       "}}\n",
       "\n",
       "// Listen for the clearing of the current output cell\n",
       "var outputEl = gd.closest('.output');\n",
       "if (outputEl) {{\n",
       "    x.observe(outputEl, {childList: true});\n",
       "}}\n",
       "\n",
       "                        })                };                });            </script>        </div>"
      ]
     },
     "metadata": {},
     "output_type": "display_data"
    }
   ],
   "source": [
    "# Menghitung persentase untuk setiap peristiwa\n",
    "total_peristiwa = freq_event_sorted['jumlah_peristiwa'].sum()\n",
    "freq_event_sorted['persentase'] = (freq_event_sorted['jumlah_peristiwa'] / total_peristiwa) * 100\n",
    "\n",
    "# Membuat data frame untuk visualisasi\n",
    "data = dict(\n",
    "    number=freq_event_sorted['jumlah_peristiwa'],\n",
    "    stage=freq_event_sorted['event_name'],\n",
    "    persentase=freq_event_sorted['persentase'].round(2)  # Membulatkan persentase menjadi 2 angka desimal\n",
    ")\n",
    "\n",
    "# Membuat visualisasi corong dengan persentase\n",
    "fig = px.funnel(data, x='number', y='stage', text='persentase', title='Funnel Analysis with Percentage')\n",
    "fig.update_traces(texttemplate='%{text:.2f}%', textinfo='text+percent total')\n",
    "fig.show()"
   ]
  },
  {
   "cell_type": "markdown",
   "metadata": {},
   "source": [
    "<font color = green> Kesimpulan Sementara </font>\n",
    "- Deskripsi funnel:\n",
    "1. **MainScreenAppear : 48.83%**\n",
    "2. **OffersSCreenAppear : 19.18%**\n",
    "3. **CartScreenAppear : 17.50%**\n",
    "4. **PaymentScreenSuccessful : 14.06%**\n",
    "5. **Tutorial : 0.43%**\n",
    "- Dari funnel yang kita buat, **MainScreenAppear** memiliki persentase tertinggi, hal ini sudah jelas berdasarkan jumlah yang kita hitung di atas. Ini memungkinkan pengguna hanya sebatas melihat atau idle dengan waktu yang cukup panjang. Kecilnya angka Tutorial bisa saja banyak pengguna yang melakukan skip/melewati untuk masuk ke MainScreenAppear. Dari sekian banyak yang muncul di **MainScreenAppear**, hanya 14% pengguna yang benar-benar memproses hingga pembayaran."
   ]
  },
  {
   "cell_type": "markdown",
   "metadata": {},
   "source": [
    "--------"
   ]
  },
  {
   "cell_type": "markdown",
   "metadata": {},
   "source": [
    "### Temukan Jumlah Pengguna yang Melakukan Setiap Tindakan\n",
    "- Urutkan peristiwa berdasarkan jumlah pengguna. Hitung proporsi pengguna yang melakukan tindakan setidaknya satu kali."
   ]
  },
  {
   "cell_type": "code",
   "execution_count": 50,
   "metadata": {},
   "outputs": [
    {
     "data": {
      "text/html": [
       "<div>\n",
       "<style scoped>\n",
       "    .dataframe tbody tr th:only-of-type {\n",
       "        vertical-align: middle;\n",
       "    }\n",
       "\n",
       "    .dataframe tbody tr th {\n",
       "        vertical-align: top;\n",
       "    }\n",
       "\n",
       "    .dataframe thead th {\n",
       "        text-align: right;\n",
       "    }\n",
       "</style>\n",
       "<table border=\"1\" class=\"dataframe\">\n",
       "  <thead>\n",
       "    <tr style=\"text-align: right;\">\n",
       "      <th></th>\n",
       "      <th>event_name</th>\n",
       "      <th>device_id_hash</th>\n",
       "      <th>exp_id</th>\n",
       "      <th>year</th>\n",
       "      <th>month</th>\n",
       "      <th>datetime</th>\n",
       "      <th>date</th>\n",
       "      <th>jumlah_peristiwa</th>\n",
       "      <th>formatted_date</th>\n",
       "    </tr>\n",
       "  </thead>\n",
       "  <tbody>\n",
       "    <tr>\n",
       "      <th>0</th>\n",
       "      <td>MainScreenAppear</td>\n",
       "      <td>4575588528974610257</td>\n",
       "      <td>246</td>\n",
       "      <td>2019</td>\n",
       "      <td>7</td>\n",
       "      <td>2019-07-25 04:43:36</td>\n",
       "      <td>2019-07-25</td>\n",
       "      <td>23</td>\n",
       "      <td>2019-07-25</td>\n",
       "    </tr>\n",
       "    <tr>\n",
       "      <th>1</th>\n",
       "      <td>MainScreenAppear</td>\n",
       "      <td>7416695313311560658</td>\n",
       "      <td>246</td>\n",
       "      <td>2019</td>\n",
       "      <td>7</td>\n",
       "      <td>2019-07-25 11:11:42</td>\n",
       "      <td>2019-07-25</td>\n",
       "      <td>40</td>\n",
       "      <td>2019-07-25</td>\n",
       "    </tr>\n",
       "    <tr>\n",
       "      <th>2</th>\n",
       "      <td>PaymentScreenSuccessful</td>\n",
       "      <td>3518123091307005509</td>\n",
       "      <td>248</td>\n",
       "      <td>2019</td>\n",
       "      <td>7</td>\n",
       "      <td>2019-07-25 11:28:47</td>\n",
       "      <td>2019-07-25</td>\n",
       "      <td>53</td>\n",
       "      <td>2019-07-25</td>\n",
       "    </tr>\n",
       "    <tr>\n",
       "      <th>3</th>\n",
       "      <td>CartScreenAppear</td>\n",
       "      <td>3518123091307005509</td>\n",
       "      <td>248</td>\n",
       "      <td>2019</td>\n",
       "      <td>7</td>\n",
       "      <td>2019-07-25 11:28:47</td>\n",
       "      <td>2019-07-25</td>\n",
       "      <td>53</td>\n",
       "      <td>2019-07-25</td>\n",
       "    </tr>\n",
       "    <tr>\n",
       "      <th>4</th>\n",
       "      <td>PaymentScreenSuccessful</td>\n",
       "      <td>6217807653094995999</td>\n",
       "      <td>248</td>\n",
       "      <td>2019</td>\n",
       "      <td>7</td>\n",
       "      <td>2019-07-25 11:48:42</td>\n",
       "      <td>2019-07-25</td>\n",
       "      <td>22</td>\n",
       "      <td>2019-07-25</td>\n",
       "    </tr>\n",
       "    <tr>\n",
       "      <th>...</th>\n",
       "      <td>...</td>\n",
       "      <td>...</td>\n",
       "      <td>...</td>\n",
       "      <td>...</td>\n",
       "      <td>...</td>\n",
       "      <td>...</td>\n",
       "      <td>...</td>\n",
       "      <td>...</td>\n",
       "      <td>...</td>\n",
       "    </tr>\n",
       "    <tr>\n",
       "      <th>244121</th>\n",
       "      <td>MainScreenAppear</td>\n",
       "      <td>4599628364049201812</td>\n",
       "      <td>247</td>\n",
       "      <td>2019</td>\n",
       "      <td>8</td>\n",
       "      <td>2019-08-07 21:12:25</td>\n",
       "      <td>2019-08-07</td>\n",
       "      <td>116</td>\n",
       "      <td>2019-08-07</td>\n",
       "    </tr>\n",
       "    <tr>\n",
       "      <th>244122</th>\n",
       "      <td>MainScreenAppear</td>\n",
       "      <td>5849806612437486590</td>\n",
       "      <td>246</td>\n",
       "      <td>2019</td>\n",
       "      <td>8</td>\n",
       "      <td>2019-08-07 21:13:59</td>\n",
       "      <td>2019-08-07</td>\n",
       "      <td>16</td>\n",
       "      <td>2019-08-07</td>\n",
       "    </tr>\n",
       "    <tr>\n",
       "      <th>244123</th>\n",
       "      <td>MainScreenAppear</td>\n",
       "      <td>5746969938801999050</td>\n",
       "      <td>246</td>\n",
       "      <td>2019</td>\n",
       "      <td>8</td>\n",
       "      <td>2019-08-07 21:14:43</td>\n",
       "      <td>2019-08-07</td>\n",
       "      <td>35</td>\n",
       "      <td>2019-08-07</td>\n",
       "    </tr>\n",
       "    <tr>\n",
       "      <th>244124</th>\n",
       "      <td>MainScreenAppear</td>\n",
       "      <td>5746969938801999050</td>\n",
       "      <td>246</td>\n",
       "      <td>2019</td>\n",
       "      <td>8</td>\n",
       "      <td>2019-08-07 21:14:58</td>\n",
       "      <td>2019-08-07</td>\n",
       "      <td>35</td>\n",
       "      <td>2019-08-07</td>\n",
       "    </tr>\n",
       "    <tr>\n",
       "      <th>244125</th>\n",
       "      <td>OffersScreenAppear</td>\n",
       "      <td>5746969938801999050</td>\n",
       "      <td>246</td>\n",
       "      <td>2019</td>\n",
       "      <td>8</td>\n",
       "      <td>2019-08-07 21:15:17</td>\n",
       "      <td>2019-08-07</td>\n",
       "      <td>35</td>\n",
       "      <td>2019-08-07</td>\n",
       "    </tr>\n",
       "  </tbody>\n",
       "</table>\n",
       "<p>244126 rows × 9 columns</p>\n",
       "</div>"
      ],
      "text/plain": [
       "                     event_name       device_id_hash exp_id  year  month  \\\n",
       "0              MainScreenAppear  4575588528974610257    246  2019      7   \n",
       "1              MainScreenAppear  7416695313311560658    246  2019      7   \n",
       "2       PaymentScreenSuccessful  3518123091307005509    248  2019      7   \n",
       "3              CartScreenAppear  3518123091307005509    248  2019      7   \n",
       "4       PaymentScreenSuccessful  6217807653094995999    248  2019      7   \n",
       "...                         ...                  ...    ...   ...    ...   \n",
       "244121         MainScreenAppear  4599628364049201812    247  2019      8   \n",
       "244122         MainScreenAppear  5849806612437486590    246  2019      8   \n",
       "244123         MainScreenAppear  5746969938801999050    246  2019      8   \n",
       "244124         MainScreenAppear  5746969938801999050    246  2019      8   \n",
       "244125       OffersScreenAppear  5746969938801999050    246  2019      8   \n",
       "\n",
       "                  datetime       date  jumlah_peristiwa formatted_date  \n",
       "0      2019-07-25 04:43:36 2019-07-25                23     2019-07-25  \n",
       "1      2019-07-25 11:11:42 2019-07-25                40     2019-07-25  \n",
       "2      2019-07-25 11:28:47 2019-07-25                53     2019-07-25  \n",
       "3      2019-07-25 11:28:47 2019-07-25                53     2019-07-25  \n",
       "4      2019-07-25 11:48:42 2019-07-25                22     2019-07-25  \n",
       "...                    ...        ...               ...            ...  \n",
       "244121 2019-08-07 21:12:25 2019-08-07               116     2019-08-07  \n",
       "244122 2019-08-07 21:13:59 2019-08-07                16     2019-08-07  \n",
       "244123 2019-08-07 21:14:43 2019-08-07                35     2019-08-07  \n",
       "244124 2019-08-07 21:14:58 2019-08-07                35     2019-08-07  \n",
       "244125 2019-08-07 21:15:17 2019-08-07                35     2019-08-07  \n",
       "\n",
       "[244126 rows x 9 columns]"
      ]
     },
     "execution_count": 50,
     "metadata": {},
     "output_type": "execute_result"
    }
   ],
   "source": [
    "# Periksa dataset\n",
    "exp_logs"
   ]
  },
  {
   "cell_type": "code",
   "execution_count": 51,
   "metadata": {},
   "outputs": [
    {
     "data": {
      "text/html": [
       "<div>\n",
       "<style scoped>\n",
       "    .dataframe tbody tr th:only-of-type {\n",
       "        vertical-align: middle;\n",
       "    }\n",
       "\n",
       "    .dataframe tbody tr th {\n",
       "        vertical-align: top;\n",
       "    }\n",
       "\n",
       "    .dataframe thead th {\n",
       "        text-align: right;\n",
       "    }\n",
       "</style>\n",
       "<table border=\"1\" class=\"dataframe\">\n",
       "  <thead>\n",
       "    <tr style=\"text-align: right;\">\n",
       "      <th></th>\n",
       "      <th>event_name</th>\n",
       "      <th>jumlah_pengguna</th>\n",
       "    </tr>\n",
       "  </thead>\n",
       "  <tbody>\n",
       "    <tr>\n",
       "      <th>1</th>\n",
       "      <td>MainScreenAppear</td>\n",
       "      <td>7439</td>\n",
       "    </tr>\n",
       "    <tr>\n",
       "      <th>2</th>\n",
       "      <td>OffersScreenAppear</td>\n",
       "      <td>4613</td>\n",
       "    </tr>\n",
       "    <tr>\n",
       "      <th>0</th>\n",
       "      <td>CartScreenAppear</td>\n",
       "      <td>3749</td>\n",
       "    </tr>\n",
       "    <tr>\n",
       "      <th>3</th>\n",
       "      <td>PaymentScreenSuccessful</td>\n",
       "      <td>3547</td>\n",
       "    </tr>\n",
       "    <tr>\n",
       "      <th>4</th>\n",
       "      <td>Tutorial</td>\n",
       "      <td>847</td>\n",
       "    </tr>\n",
       "  </tbody>\n",
       "</table>\n",
       "</div>"
      ],
      "text/plain": [
       "                event_name  jumlah_pengguna\n",
       "1         MainScreenAppear             7439\n",
       "2       OffersScreenAppear             4613\n",
       "0         CartScreenAppear             3749\n",
       "3  PaymentScreenSuccessful             3547\n",
       "4                 Tutorial              847"
      ]
     },
     "execution_count": 51,
     "metadata": {},
     "output_type": "execute_result"
    }
   ],
   "source": [
    "# Menghitung jumlah pengguna yang melakukan setiap tindakan\n",
    "users_per_event = exp_logs.groupby('event_name')['device_id_hash'].nunique().reset_index()\n",
    "users_per_event.columns = ['event_name', 'jumlah_pengguna']\n",
    "\n",
    "# Mengurutkan peristiwa berdasarkan jumlah pengguna secara descending\n",
    "users_per_event_sorted = users_per_event.sort_values(by='jumlah_pengguna', ascending=False)\n",
    "\n",
    "# Menampilkan hasil\n",
    "users_per_event_sorted\n",
    "\n"
   ]
  },
  {
   "cell_type": "code",
   "execution_count": 52,
   "metadata": {
    "scrolled": true
   },
   "outputs": [
    {
     "data": {
      "image/png": "[encoded data removed]",
      "text/plain": [
       "<Figure size 720x432 with 1 Axes>"
      ]
     },
     "metadata": {
      "needs_background": "light"
     },
     "output_type": "display_data"
    }
   ],
   "source": [
    "# Membuat visualisasi bar chart\n",
    "plt.figure(figsize=(10, 6))\n",
    "plt.bar(users_per_event_sorted['event_name'], users_per_event_sorted['jumlah_pengguna'], color='skyblue')\n",
    "plt.title('Jumlah Pengguna yang Melakukan Setiap Tindakan')\n",
    "plt.xlabel('Tindakan')\n",
    "plt.ylabel('Jumlah Pengguna')\n",
    "plt.xticks(rotation=45, ha='right')  # Memutar label sumbu x untuk memudahkan pembacaan\n",
    "plt.tight_layout()\n",
    "\n",
    "# Menampilkan visualisasi\n",
    "plt.show()\n"
   ]
  },
  {
   "cell_type": "code",
   "execution_count": 53,
   "metadata": {},
   "outputs": [
    {
     "name": "stdout",
     "output_type": "stream",
     "text": [
      "Proporsi pengguna yang melakukan setidaknya satu tindakan: 0.07%\n"
     ]
    }
   ],
   "source": [
    "# Menghitung jumlah pengguna secara total\n",
    "total_users = exp_logs['device_id_hash'].nunique()\n",
    "\n",
    "# Menghitung jumlah pengguna yang melakukan setidaknya satu tindakan\n",
    "users_with_events = exp_logs['event_name'].nunique()\n",
    "\n",
    "# Menghitung proporsi pengguna yang melakukan tindakan setidaknya satu kali\n",
    "proporsi_users_with_events = users_with_events / total_users * 100\n",
    "\n",
    "# Menampilkan hasil\n",
    "print(f\"Proporsi pengguna yang melakukan setidaknya satu tindakan: {proporsi_users_with_events:.2f}%\")"
   ]
  },
  {
   "cell_type": "code",
   "execution_count": 54,
   "metadata": {},
   "outputs": [],
   "source": [
    "user_sum = users_per_event['jumlah_pengguna'].sum()"
   ]
  },
  {
   "cell_type": "code",
   "execution_count": 55,
   "metadata": {},
   "outputs": [
    {
     "name": "stdout",
     "output_type": "stream",
     "text": [
      "Jumlah pengguna yang setidaknya melakukan satu tindakan adalah 0.07%: 14\n"
     ]
    }
   ],
   "source": [
    "# Menentukan persentase yang diinginkan (0.07%)\n",
    "target_percentage = 0.07\n",
    "# Menghitung jumlah pengguna yang sesuai dengan persentase target\n",
    "target_users_count = int(user_sum * target_percentage / 100)\n",
    "\n",
    "print(f\"Jumlah pengguna yang setidaknya melakukan satu tindakan adalah {target_percentage}%: {target_users_count}\")"
   ]
  },
  {
   "cell_type": "markdown",
   "metadata": {},
   "source": [
    "<font color = green> Kesimpulan Sementara </font>\n",
    "- Terdapat total pengguna yaitu 20195 dengan masing-masing aktivitas. Aktivitas terbesar masih berada di stage MainScreenAppear dimana dari 20195 pengguna, terdapat pengguna yang setidaknya melakukan satu tindakan sekitar 0.07% dari jumlah pengguna. Jumlah pengguna yang setidaknya melakukan satu tindakan adalah 0.07% atau 14 pengguna."
   ]
  },
  {
   "cell_type": "markdown",
   "metadata": {},
   "source": [
    "-------"
   ]
  },
  {
   "cell_type": "markdown",
   "metadata": {},
   "source": [
    "### Memahami dalam Urutan Apa Tindakan-Tindakan Tersebut Terjadi?\n",
    "-  Apakah semuanya merupakan bagian dari satu urutan?\n"
   ]
  },
  {
   "cell_type": "code",
   "execution_count": 56,
   "metadata": {},
   "outputs": [
    {
     "data": {
      "application/vnd.plotly.v1+json": {
       "config": {
        "plotlyServerURL": "https://plot.ly"
       },
       "data": [
        {
         "hovertemplate": "number=%{x}<br>stage=%{y}<br>persentase=%{text}<extra></extra>",
         "legendgroup": "",
         "marker": {
          "color": "#636efa"
         },
         "name": "",
         "orientation": "h",
         "showlegend": false,
         "text": [
          48.83,
          19.18,
          17.5,
          14.06,
          0.43
         ],
         "textinfo": "text+percent total",
         "texttemplate": "%{text:.2f}%",
         "type": "funnel",
         "x": [
          119205,
          46825,
          42731,
          34313,
          1052
         ],
         "xaxis": "x",
         "y": [
          "MainScreenAppear",
          "OffersScreenAppear",
          "CartScreenAppear",
          "PaymentScreenSuccessful",
          "Tutorial"
         ],
         "yaxis": "y"
        }
       ],
       "layout": {
        "legend": {
         "tracegroupgap": 0
        },
        "template": {
         "data": {
          "bar": [
           {
            "error_x": {
             "color": "#2a3f5f"
            },
            "error_y": {
             "color": "#2a3f5f"
            },
            "marker": {
             "line": {
              "color": "#E5ECF6",
              "width": 0.5
             },
             "pattern": {
              "fillmode": "overlay",
              "size": 10,
              "solidity": 0.2
             }
            },
            "type": "bar"
           }
          ],
          "barpolar": [
           {
            "marker": {
             "line": {
              "color": "#E5ECF6",
              "width": 0.5
             },
             "pattern": {
              "fillmode": "overlay",
              "size": 10,
              "solidity": 0.2
             }
            },
            "type": "barpolar"
           }
          ],
          "carpet": [
           {
            "aaxis": {
             "endlinecolor": "#2a3f5f",
             "gridcolor": "white",
             "linecolor": "white",
             "minorgridcolor": "white",
             "startlinecolor": "#2a3f5f"
            },
            "baxis": {
             "endlinecolor": "#2a3f5f",
             "gridcolor": "white",
             "linecolor": "white",
             "minorgridcolor": "white",
             "startlinecolor": "#2a3f5f"
            },
            "type": "carpet"
           }
          ],
          "choropleth": [
           {
            "colorbar": {
             "outlinewidth": 0,
             "ticks": ""
            },
            "type": "choropleth"
           }
          ],
          "contour": [
           {
            "colorbar": {
             "outlinewidth": 0,
             "ticks": ""
            },
            "colorscale": [
             [
              0,
              "#0d0887"
             ],
             [
              0.1111111111111111,
              "#46039f"
             ],
             [
              0.2222222222222222,
              "#7201a8"
             ],
             [
              0.3333333333333333,
              "#9c179e"
             ],
             [
              0.4444444444444444,
              "#bd3786"
             ],
             [
              0.5555555555555556,
              "#d8576b"
             ],
             [
              0.6666666666666666,
              "#ed7953"
             ],
             [
              0.7777777777777778,
              "#fb9f3a"
             ],
             [
              0.8888888888888888,
              "#fdca26"
             ],
             [
              1,
              "#f0f921"
             ]
            ],
            "type": "contour"
           }
          ],
          "contourcarpet": [
           {
            "colorbar": {
             "outlinewidth": 0,
             "ticks": ""
            },
            "type": "contourcarpet"
           }
          ],
          "heatmap": [
           {
            "colorbar": {
             "outlinewidth": 0,
             "ticks": ""
            },
            "colorscale": [
             [
              0,
              "#0d0887"
             ],
             [
              0.1111111111111111,
              "#46039f"
             ],
             [
              0.2222222222222222,
              "#7201a8"
             ],
             [
              0.3333333333333333,
              "#9c179e"
             ],
             [
              0.4444444444444444,
              "#bd3786"
             ],
             [
              0.5555555555555556,
              "#d8576b"
             ],
             [
              0.6666666666666666,
              "#ed7953"
             ],
             [
              0.7777777777777778,
              "#fb9f3a"
             ],
             [
              0.8888888888888888,
              "#fdca26"
             ],
             [
              1,
              "#f0f921"
             ]
            ],
            "type": "heatmap"
           }
          ],
          "heatmapgl": [
           {
            "colorbar": {
             "outlinewidth": 0,
             "ticks": ""
            },
            "colorscale": [
             [
              0,
              "#0d0887"
             ],
             [
              0.1111111111111111,
              "#46039f"
             ],
             [
              0.2222222222222222,
              "#7201a8"
             ],
             [
              0.3333333333333333,
              "#9c179e"
             ],
             [
              0.4444444444444444,
              "#bd3786"
             ],
             [
              0.5555555555555556,
              "#d8576b"
             ],
             [
              0.6666666666666666,
              "#ed7953"
             ],
             [
              0.7777777777777778,
              "#fb9f3a"
             ],
             [
              0.8888888888888888,
              "#fdca26"
             ],
             [
              1,
              "#f0f921"
             ]
            ],
            "type": "heatmapgl"
           }
          ],
          "histogram": [
           {
            "marker": {
             "pattern": {
              "fillmode": "overlay",
              "size": 10,
              "solidity": 0.2
             }
            },
            "type": "histogram"
           }
          ],
          "histogram2d": [
           {
            "colorbar": {
             "outlinewidth": 0,
             "ticks": ""
            },
            "colorscale": [
             [
              0,
              "#0d0887"
             ],
             [
              0.1111111111111111,
              "#46039f"
             ],
             [
              0.2222222222222222,
              "#7201a8"
             ],
             [
              0.3333333333333333,
              "#9c179e"
             ],
             [
              0.4444444444444444,
              "#bd3786"
             ],
             [
              0.5555555555555556,
              "#d8576b"
             ],
             [
              0.6666666666666666,
              "#ed7953"
             ],
             [
              0.7777777777777778,
              "#fb9f3a"
             ],
             [
              0.8888888888888888,
              "#fdca26"
             ],
             [
              1,
              "#f0f921"
             ]
            ],
            "type": "histogram2d"
           }
          ],
          "histogram2dcontour": [
           {
            "colorbar": {
             "outlinewidth": 0,
             "ticks": ""
            },
            "colorscale": [
             [
              0,
              "#0d0887"
             ],
             [
              0.1111111111111111,
              "#46039f"
             ],
             [
              0.2222222222222222,
              "#7201a8"
             ],
             [
              0.3333333333333333,
              "#9c179e"
             ],
             [
              0.4444444444444444,
              "#bd3786"
             ],
             [
              0.5555555555555556,
              "#d8576b"
             ],
             [
              0.6666666666666666,
              "#ed7953"
             ],
             [
              0.7777777777777778,
              "#fb9f3a"
             ],
             [
              0.8888888888888888,
              "#fdca26"
             ],
             [
              1,
              "#f0f921"
             ]
            ],
            "type": "histogram2dcontour"
           }
          ],
          "mesh3d": [
           {
            "colorbar": {
             "outlinewidth": 0,
             "ticks": ""
            },
            "type": "mesh3d"
           }
          ],
          "parcoords": [
           {
            "line": {
             "colorbar": {
              "outlinewidth": 0,
              "ticks": ""
             }
            },
            "type": "parcoords"
           }
          ],
          "pie": [
           {
            "automargin": true,
            "type": "pie"
           }
          ],
          "scatter": [
           {
            "marker": {
             "colorbar": {
              "outlinewidth": 0,
              "ticks": ""
             }
            },
            "type": "scatter"
           }
          ],
          "scatter3d": [
           {
            "line": {
             "colorbar": {
              "outlinewidth": 0,
              "ticks": ""
             }
            },
            "marker": {
             "colorbar": {
              "outlinewidth": 0,
              "ticks": ""
             }
            },
            "type": "scatter3d"
           }
          ],
          "scattercarpet": [
           {
            "marker": {
             "colorbar": {
              "outlinewidth": 0,
              "ticks": ""
             }
            },
            "type": "scattercarpet"
           }
          ],
          "scattergeo": [
           {
            "marker": {
             "colorbar": {
              "outlinewidth": 0,
              "ticks": ""
             }
            },
            "type": "scattergeo"
           }
          ],
          "scattergl": [
           {
            "marker": {
             "colorbar": {
              "outlinewidth": 0,
              "ticks": ""
             }
            },
            "type": "scattergl"
           }
          ],
          "scattermapbox": [
           {
            "marker": {
             "colorbar": {
              "outlinewidth": 0,
              "ticks": ""
             }
            },
            "type": "scattermapbox"
           }
          ],
          "scatterpolar": [
           {
            "marker": {
             "colorbar": {
              "outlinewidth": 0,
              "ticks": ""
             }
            },
            "type": "scatterpolar"
           }
          ],
          "scatterpolargl": [
           {
            "marker": {
             "colorbar": {
              "outlinewidth": 0,
              "ticks": ""
             }
            },
            "type": "scatterpolargl"
           }
          ],
          "scatterternary": [
           {
            "marker": {
             "colorbar": {
              "outlinewidth": 0,
              "ticks": ""
             }
            },
            "type": "scatterternary"
           }
          ],
          "surface": [
           {
            "colorbar": {
             "outlinewidth": 0,
             "ticks": ""
            },
            "colorscale": [
             [
              0,
              "#0d0887"
             ],
             [
              0.1111111111111111,
              "#46039f"
             ],
             [
              0.2222222222222222,
              "#7201a8"
             ],
             [
              0.3333333333333333,
              "#9c179e"
             ],
             [
              0.4444444444444444,
              "#bd3786"
             ],
             [
              0.5555555555555556,
              "#d8576b"
             ],
             [
              0.6666666666666666,
              "#ed7953"
             ],
             [
              0.7777777777777778,
              "#fb9f3a"
             ],
             [
              0.8888888888888888,
              "#fdca26"
             ],
             [
              1,
              "#f0f921"
             ]
            ],
            "type": "surface"
           }
          ],
          "table": [
           {
            "cells": {
             "fill": {
              "color": "#EBF0F8"
             },
             "line": {
              "color": "white"
             }
            },
            "header": {
             "fill": {
              "color": "#C8D4E3"
             },
             "line": {
              "color": "white"
             }
            },
            "type": "table"
           }
          ]
         },
         "layout": {
          "annotationdefaults": {
           "arrowcolor": "#2a3f5f",
           "arrowhead": 0,
           "arrowwidth": 1
          },
          "autotypenumbers": "strict",
          "coloraxis": {
           "colorbar": {
            "outlinewidth": 0,
            "ticks": ""
           }
          },
          "colorscale": {
           "diverging": [
            [
             0,
             "#8e0152"
            ],
            [
             0.1,
             "#c51b7d"
            ],
            [
             0.2,
             "#de77ae"
            ],
            [
             0.3,
             "#f1b6da"
            ],
            [
             0.4,
             "#fde0ef"
            ],
            [
             0.5,
             "#f7f7f7"
            ],
            [
             0.6,
             "#e6f5d0"
            ],
            [
             0.7,
             "#b8e186"
            ],
            [
             0.8,
             "#7fbc41"
            ],
            [
             0.9,
             "#4d9221"
            ],
            [
             1,
             "#276419"
            ]
           ],
           "sequential": [
            [
             0,
             "#0d0887"
            ],
            [
             0.1111111111111111,
             "#46039f"
            ],
            [
             0.2222222222222222,
             "#7201a8"
            ],
            [
             0.3333333333333333,
             "#9c179e"
            ],
            [
             0.4444444444444444,
             "#bd3786"
            ],
            [
             0.5555555555555556,
             "#d8576b"
            ],
            [
             0.6666666666666666,
             "#ed7953"
            ],
            [
             0.7777777777777778,
             "#fb9f3a"
            ],
            [
             0.8888888888888888,
             "#fdca26"
            ],
            [
             1,
             "#f0f921"
            ]
           ],
           "sequentialminus": [
            [
             0,
             "#0d0887"
            ],
            [
             0.1111111111111111,
             "#46039f"
            ],
            [
             0.2222222222222222,
             "#7201a8"
            ],
            [
             0.3333333333333333,
             "#9c179e"
            ],
            [
             0.4444444444444444,
             "#bd3786"
            ],
            [
             0.5555555555555556,
             "#d8576b"
            ],
            [
             0.6666666666666666,
             "#ed7953"
            ],
            [
             0.7777777777777778,
             "#fb9f3a"
            ],
            [
             0.8888888888888888,
             "#fdca26"
            ],
            [
             1,
             "#f0f921"
            ]
           ]
          },
          "colorway": [
           "#636efa",
           "#EF553B",
           "#00cc96",
           "#ab63fa",
           "#FFA15A",
           "#19d3f3",
           "#FF6692",
           "#B6E880",
           "#FF97FF",
           "#FECB52"
          ],
          "font": {
           "color": "#2a3f5f"
          },
          "geo": {
           "bgcolor": "white",
           "lakecolor": "white",
           "landcolor": "#E5ECF6",
           "showlakes": true,
           "showland": true,
           "subunitcolor": "white"
          },
          "hoverlabel": {
           "align": "left"
          },
          "hovermode": "closest",
          "mapbox": {
           "style": "light"
          },
          "paper_bgcolor": "white",
          "plot_bgcolor": "#E5ECF6",
          "polar": {
           "angularaxis": {
            "gridcolor": "white",
            "linecolor": "white",
            "ticks": ""
           },
           "bgcolor": "#E5ECF6",
           "radialaxis": {
            "gridcolor": "white",
            "linecolor": "white",
            "ticks": ""
           }
          },
          "scene": {
           "xaxis": {
            "backgroundcolor": "#E5ECF6",
            "gridcolor": "white",
            "gridwidth": 2,
            "linecolor": "white",
            "showbackground": true,
            "ticks": "",
            "zerolinecolor": "white"
           },
           "yaxis": {
            "backgroundcolor": "#E5ECF6",
            "gridcolor": "white",
            "gridwidth": 2,
            "linecolor": "white",
            "showbackground": true,
            "ticks": "",
            "zerolinecolor": "white"
           },
           "zaxis": {
            "backgroundcolor": "#E5ECF6",
            "gridcolor": "white",
            "gridwidth": 2,
            "linecolor": "white",
            "showbackground": true,
            "ticks": "",
            "zerolinecolor": "white"
           }
          },
          "shapedefaults": {
           "line": {
            "color": "#2a3f5f"
           }
          },
          "ternary": {
           "aaxis": {
            "gridcolor": "white",
            "linecolor": "white",
            "ticks": ""
           },
           "baxis": {
            "gridcolor": "white",
            "linecolor": "white",
            "ticks": ""
           },
           "bgcolor": "#E5ECF6",
           "caxis": {
            "gridcolor": "white",
            "linecolor": "white",
            "ticks": ""
           }
          },
          "title": {
           "x": 0.05
          },
          "xaxis": {
           "automargin": true,
           "gridcolor": "white",
           "linecolor": "white",
           "ticks": "",
           "title": {
            "standoff": 15
           },
           "zerolinecolor": "white",
           "zerolinewidth": 2
          },
          "yaxis": {
           "automargin": true,
           "gridcolor": "white",
           "linecolor": "white",
           "ticks": "",
           "title": {
            "standoff": 15
           },
           "zerolinecolor": "white",
           "zerolinewidth": 2
          }
         }
        },
        "title": {
         "text": "Funnel Analysis with Percentage"
        },
        "xaxis": {
         "anchor": "y",
         "domain": [
          0,
          1
         ],
         "title": {
          "text": "number"
         }
        },
        "yaxis": {
         "anchor": "x",
         "domain": [
          0,
          1
         ],
         "title": {
          "text": "stage"
         }
        }
       }
      },
      "text/html": [
       "<div>                            <div id=\"5ed9132b-d12f-4d0b-adc2-9e22b7a6ecba\" class=\"plotly-graph-div\" style=\"height:525px; width:100%;\"></div>            <script type=\"text/javascript\">                require([\"plotly\"], function(Plotly) {                    window.PLOTLYENV=window.PLOTLYENV || {};                                    if (document.getElementById(\"5ed9132b-d12f-4d0b-adc2-9e22b7a6ecba\")) {                    Plotly.newPlot(                        \"5ed9132b-d12f-4d0b-adc2-9e22b7a6ecba\",                        [{\"hovertemplate\":\"number=%{x}<br>stage=%{y}<br>persentase=%{text}<extra></extra>\",\"legendgroup\":\"\",\"marker\":{\"color\":\"#636efa\"},\"name\":\"\",\"orientation\":\"h\",\"showlegend\":false,\"text\":[48.83,19.18,17.5,14.06,0.43],\"x\":[119205,46825,42731,34313,1052],\"xaxis\":\"x\",\"y\":[\"MainScreenAppear\",\"OffersScreenAppear\",\"CartScreenAppear\",\"PaymentScreenSuccessful\",\"Tutorial\"],\"yaxis\":\"y\",\"type\":\"funnel\",\"textinfo\":\"text+percent total\",\"texttemplate\":\"%{text:.2f}%\"}],                        {\"template\":{\"data\":{\"bar\":[{\"error_x\":{\"color\":\"#2a3f5f\"},\"error_y\":{\"color\":\"#2a3f5f\"},\"marker\":{\"line\":{\"color\":\"#E5ECF6\",\"width\":0.5},\"pattern\":{\"fillmode\":\"overlay\",\"size\":10,\"solidity\":0.2}},\"type\":\"bar\"}],\"barpolar\":[{\"marker\":{\"line\":{\"color\":\"#E5ECF6\",\"width\":0.5},\"pattern\":{\"fillmode\":\"overlay\",\"size\":10,\"solidity\":0.2}},\"type\":\"barpolar\"}],\"carpet\":[{\"aaxis\":{\"endlinecolor\":\"#2a3f5f\",\"gridcolor\":\"white\",\"linecolor\":\"white\",\"minorgridcolor\":\"white\",\"startlinecolor\":\"#2a3f5f\"},\"baxis\":{\"endlinecolor\":\"#2a3f5f\",\"gridcolor\":\"white\",\"linecolor\":\"white\",\"minorgridcolor\":\"white\",\"startlinecolor\":\"#2a3f5f\"},\"type\":\"carpet\"}],\"choropleth\":[{\"colorbar\":{\"outlinewidth\":0,\"ticks\":\"\"},\"type\":\"choropleth\"}],\"contour\":[{\"colorbar\":{\"outlinewidth\":0,\"ticks\":\"\"},\"colorscale\":[[0.0,\"#0d0887\"],[0.1111111111111111,\"#46039f\"],[0.2222222222222222,\"#7201a8\"],[0.3333333333333333,\"#9c179e\"],[0.4444444444444444,\"#bd3786\"],[0.5555555555555556,\"#d8576b\"],[0.6666666666666666,\"#ed7953\"],[0.7777777777777778,\"#fb9f3a\"],[0.8888888888888888,\"#fdca26\"],[1.0,\"#f0f921\"]],\"type\":\"contour\"}],\"contourcarpet\":[{\"colorbar\":{\"outlinewidth\":0,\"ticks\":\"\"},\"type\":\"contourcarpet\"}],\"heatmap\":[{\"colorbar\":{\"outlinewidth\":0,\"ticks\":\"\"},\"colorscale\":[[0.0,\"#0d0887\"],[0.1111111111111111,\"#46039f\"],[0.2222222222222222,\"#7201a8\"],[0.3333333333333333,\"#9c179e\"],[0.4444444444444444,\"#bd3786\"],[0.5555555555555556,\"#d8576b\"],[0.6666666666666666,\"#ed7953\"],[0.7777777777777778,\"#fb9f3a\"],[0.8888888888888888,\"#fdca26\"],[1.0,\"#f0f921\"]],\"type\":\"heatmap\"}],\"heatmapgl\":[{\"colorbar\":{\"outlinewidth\":0,\"ticks\":\"\"},\"colorscale\":[[0.0,\"#0d0887\"],[0.1111111111111111,\"#46039f\"],[0.2222222222222222,\"#7201a8\"],[0.3333333333333333,\"#9c179e\"],[0.4444444444444444,\"#bd3786\"],[0.5555555555555556,\"#d8576b\"],[0.6666666666666666,\"#ed7953\"],[0.7777777777777778,\"#fb9f3a\"],[0.8888888888888888,\"#fdca26\"],[1.0,\"#f0f921\"]],\"type\":\"heatmapgl\"}],\"histogram\":[{\"marker\":{\"pattern\":{\"fillmode\":\"overlay\",\"size\":10,\"solidity\":0.2}},\"type\":\"histogram\"}],\"histogram2d\":[{\"colorbar\":{\"outlinewidth\":0,\"ticks\":\"\"},\"colorscale\":[[0.0,\"#0d0887\"],[0.1111111111111111,\"#46039f\"],[0.2222222222222222,\"#7201a8\"],[0.3333333333333333,\"#9c179e\"],[0.4444444444444444,\"#bd3786\"],[0.5555555555555556,\"#d8576b\"],[0.6666666666666666,\"#ed7953\"],[0.7777777777777778,\"#fb9f3a\"],[0.8888888888888888,\"#fdca26\"],[1.0,\"#f0f921\"]],\"type\":\"histogram2d\"}],\"histogram2dcontour\":[{\"colorbar\":{\"outlinewidth\":0,\"ticks\":\"\"},\"colorscale\":[[0.0,\"#0d0887\"],[0.1111111111111111,\"#46039f\"],[0.2222222222222222,\"#7201a8\"],[0.3333333333333333,\"#9c179e\"],[0.4444444444444444,\"#bd3786\"],[0.5555555555555556,\"#d8576b\"],[0.6666666666666666,\"#ed7953\"],[0.7777777777777778,\"#fb9f3a\"],[0.8888888888888888,\"#fdca26\"],[1.0,\"#f0f921\"]],\"type\":\"histogram2dcontour\"}],\"mesh3d\":[{\"colorbar\":{\"outlinewidth\":0,\"ticks\":\"\"},\"type\":\"mesh3d\"}],\"parcoords\":[{\"line\":{\"colorbar\":{\"outlinewidth\":0,\"ticks\":\"\"}},\"type\":\"parcoords\"}],\"pie\":[{\"automargin\":true,\"type\":\"pie\"}],\"scatter\":[{\"marker\":{\"colorbar\":{\"outlinewidth\":0,\"ticks\":\"\"}},\"type\":\"scatter\"}],\"scatter3d\":[{\"line\":{\"colorbar\":{\"outlinewidth\":0,\"ticks\":\"\"}},\"marker\":{\"colorbar\":{\"outlinewidth\":0,\"ticks\":\"\"}},\"type\":\"scatter3d\"}],\"scattercarpet\":[{\"marker\":{\"colorbar\":{\"outlinewidth\":0,\"ticks\":\"\"}},\"type\":\"scattercarpet\"}],\"scattergeo\":[{\"marker\":{\"colorbar\":{\"outlinewidth\":0,\"ticks\":\"\"}},\"type\":\"scattergeo\"}],\"scattergl\":[{\"marker\":{\"colorbar\":{\"outlinewidth\":0,\"ticks\":\"\"}},\"type\":\"scattergl\"}],\"scattermapbox\":[{\"marker\":{\"colorbar\":{\"outlinewidth\":0,\"ticks\":\"\"}},\"type\":\"scattermapbox\"}],\"scatterpolar\":[{\"marker\":{\"colorbar\":{\"outlinewidth\":0,\"ticks\":\"\"}},\"type\":\"scatterpolar\"}],\"scatterpolargl\":[{\"marker\":{\"colorbar\":{\"outlinewidth\":0,\"ticks\":\"\"}},\"type\":\"scatterpolargl\"}],\"scatterternary\":[{\"marker\":{\"colorbar\":{\"outlinewidth\":0,\"ticks\":\"\"}},\"type\":\"scatterternary\"}],\"surface\":[{\"colorbar\":{\"outlinewidth\":0,\"ticks\":\"\"},\"colorscale\":[[0.0,\"#0d0887\"],[0.1111111111111111,\"#46039f\"],[0.2222222222222222,\"#7201a8\"],[0.3333333333333333,\"#9c179e\"],[0.4444444444444444,\"#bd3786\"],[0.5555555555555556,\"#d8576b\"],[0.6666666666666666,\"#ed7953\"],[0.7777777777777778,\"#fb9f3a\"],[0.8888888888888888,\"#fdca26\"],[1.0,\"#f0f921\"]],\"type\":\"surface\"}],\"table\":[{\"cells\":{\"fill\":{\"color\":\"#EBF0F8\"},\"line\":{\"color\":\"white\"}},\"header\":{\"fill\":{\"color\":\"#C8D4E3\"},\"line\":{\"color\":\"white\"}},\"type\":\"table\"}]},\"layout\":{\"annotationdefaults\":{\"arrowcolor\":\"#2a3f5f\",\"arrowhead\":0,\"arrowwidth\":1},\"autotypenumbers\":\"strict\",\"coloraxis\":{\"colorbar\":{\"outlinewidth\":0,\"ticks\":\"\"}},\"colorscale\":{\"diverging\":[[0,\"#8e0152\"],[0.1,\"#c51b7d\"],[0.2,\"#de77ae\"],[0.3,\"#f1b6da\"],[0.4,\"#fde0ef\"],[0.5,\"#f7f7f7\"],[0.6,\"#e6f5d0\"],[0.7,\"#b8e186\"],[0.8,\"#7fbc41\"],[0.9,\"#4d9221\"],[1,\"#276419\"]],\"sequential\":[[0.0,\"#0d0887\"],[0.1111111111111111,\"#46039f\"],[0.2222222222222222,\"#7201a8\"],[0.3333333333333333,\"#9c179e\"],[0.4444444444444444,\"#bd3786\"],[0.5555555555555556,\"#d8576b\"],[0.6666666666666666,\"#ed7953\"],[0.7777777777777778,\"#fb9f3a\"],[0.8888888888888888,\"#fdca26\"],[1.0,\"#f0f921\"]],\"sequentialminus\":[[0.0,\"#0d0887\"],[0.1111111111111111,\"#46039f\"],[0.2222222222222222,\"#7201a8\"],[0.3333333333333333,\"#9c179e\"],[0.4444444444444444,\"#bd3786\"],[0.5555555555555556,\"#d8576b\"],[0.6666666666666666,\"#ed7953\"],[0.7777777777777778,\"#fb9f3a\"],[0.8888888888888888,\"#fdca26\"],[1.0,\"#f0f921\"]]},\"colorway\":[\"#636efa\",\"#EF553B\",\"#00cc96\",\"#ab63fa\",\"#FFA15A\",\"#19d3f3\",\"#FF6692\",\"#B6E880\",\"#FF97FF\",\"#FECB52\"],\"font\":{\"color\":\"#2a3f5f\"},\"geo\":{\"bgcolor\":\"white\",\"lakecolor\":\"white\",\"landcolor\":\"#E5ECF6\",\"showlakes\":true,\"showland\":true,\"subunitcolor\":\"white\"},\"hoverlabel\":{\"align\":\"left\"},\"hovermode\":\"closest\",\"mapbox\":{\"style\":\"light\"},\"paper_bgcolor\":\"white\",\"plot_bgcolor\":\"#E5ECF6\",\"polar\":{\"angularaxis\":{\"gridcolor\":\"white\",\"linecolor\":\"white\",\"ticks\":\"\"},\"bgcolor\":\"#E5ECF6\",\"radialaxis\":{\"gridcolor\":\"white\",\"linecolor\":\"white\",\"ticks\":\"\"}},\"scene\":{\"xaxis\":{\"backgroundcolor\":\"#E5ECF6\",\"gridcolor\":\"white\",\"gridwidth\":2,\"linecolor\":\"white\",\"showbackground\":true,\"ticks\":\"\",\"zerolinecolor\":\"white\"},\"yaxis\":{\"backgroundcolor\":\"#E5ECF6\",\"gridcolor\":\"white\",\"gridwidth\":2,\"linecolor\":\"white\",\"showbackground\":true,\"ticks\":\"\",\"zerolinecolor\":\"white\"},\"zaxis\":{\"backgroundcolor\":\"#E5ECF6\",\"gridcolor\":\"white\",\"gridwidth\":2,\"linecolor\":\"white\",\"showbackground\":true,\"ticks\":\"\",\"zerolinecolor\":\"white\"}},\"shapedefaults\":{\"line\":{\"color\":\"#2a3f5f\"}},\"ternary\":{\"aaxis\":{\"gridcolor\":\"white\",\"linecolor\":\"white\",\"ticks\":\"\"},\"baxis\":{\"gridcolor\":\"white\",\"linecolor\":\"white\",\"ticks\":\"\"},\"bgcolor\":\"#E5ECF6\",\"caxis\":{\"gridcolor\":\"white\",\"linecolor\":\"white\",\"ticks\":\"\"}},\"title\":{\"x\":0.05},\"xaxis\":{\"automargin\":true,\"gridcolor\":\"white\",\"linecolor\":\"white\",\"ticks\":\"\",\"title\":{\"standoff\":15},\"zerolinecolor\":\"white\",\"zerolinewidth\":2},\"yaxis\":{\"automargin\":true,\"gridcolor\":\"white\",\"linecolor\":\"white\",\"ticks\":\"\",\"title\":{\"standoff\":15},\"zerolinecolor\":\"white\",\"zerolinewidth\":2}}},\"xaxis\":{\"anchor\":\"y\",\"domain\":[0.0,1.0],\"title\":{\"text\":\"number\"}},\"yaxis\":{\"anchor\":\"x\",\"domain\":[0.0,1.0],\"title\":{\"text\":\"stage\"}},\"legend\":{\"tracegroupgap\":0},\"title\":{\"text\":\"Funnel Analysis with Percentage\"}},                        {\"responsive\": true}                    ).then(function(){\n",
       "                            \n",
       "var gd = document.getElementById('5ed9132b-d12f-4d0b-adc2-9e22b7a6ecba');\n",
       "var x = new MutationObserver(function (mutations, observer) {{\n",
       "        var display = window.getComputedStyle(gd).display;\n",
       "        if (!display || display === 'none') {{\n",
       "            console.log([gd, 'removed!']);\n",
       "            Plotly.purge(gd);\n",
       "            observer.disconnect();\n",
       "        }}\n",
       "}});\n",
       "\n",
       "// Listen for the removal of the full notebook cells\n",
       "var notebookContainer = gd.closest('#notebook-container');\n",
       "if (notebookContainer) {{\n",
       "    x.observe(notebookContainer, {childList: true});\n",
       "}}\n",
       "\n",
       "// Listen for the clearing of the current output cell\n",
       "var outputEl = gd.closest('.output');\n",
       "if (outputEl) {{\n",
       "    x.observe(outputEl, {childList: true});\n",
       "}}\n",
       "\n",
       "                        })                };                });            </script>        </div>"
      ]
     },
     "metadata": {},
     "output_type": "display_data"
    }
   ],
   "source": [
    "# Menghitung persentase untuk setiap peristiwa\n",
    "total_peristiwa = freq_event_sorted['jumlah_peristiwa'].sum()\n",
    "freq_event_sorted['persentase'] = (freq_event_sorted['jumlah_peristiwa'] / total_peristiwa) * 100\n",
    "\n",
    "# Membuat data frame untuk visualisasi\n",
    "data = dict(\n",
    "    number=freq_event_sorted['jumlah_peristiwa'],\n",
    "    stage=freq_event_sorted['event_name'],\n",
    "    persentase=freq_event_sorted['persentase'].round(2)  # Membulatkan persentase menjadi 2 angka desimal\n",
    ")\n",
    "\n",
    "# Membuat visualisasi corong dengan persentase\n",
    "fig = px.funnel(data, x='number', y='stage', text='persentase', title='Funnel Analysis with Percentage')\n",
    "fig.update_traces(texttemplate='%{text:.2f}%', textinfo='text+percent total')\n",
    "fig.show()"
   ]
  },
  {
   "cell_type": "markdown",
   "metadata": {},
   "source": [
    "- Deskripsi funnel:\n",
    "1. **MainScreenAppear : 48.83%**\n",
    "2. **OffersSCreenAppear : 19.18%**\n",
    "3. **CartScreenAppear : 17.50%**\n",
    "4. **PaymentScreenSuccessful : 14.06%**\n",
    "5. **Tutorial : 0.43%**"
   ]
  },
  {
   "cell_type": "code",
   "execution_count": 57,
   "metadata": {},
   "outputs": [
    {
     "data": {
      "text/html": [
       "<div>\n",
       "<style scoped>\n",
       "    .dataframe tbody tr th:only-of-type {\n",
       "        vertical-align: middle;\n",
       "    }\n",
       "\n",
       "    .dataframe tbody tr th {\n",
       "        vertical-align: top;\n",
       "    }\n",
       "\n",
       "    .dataframe thead th {\n",
       "        text-align: right;\n",
       "    }\n",
       "</style>\n",
       "<table border=\"1\" class=\"dataframe\">\n",
       "  <thead>\n",
       "    <tr style=\"text-align: right;\">\n",
       "      <th></th>\n",
       "      <th>event_name</th>\n",
       "      <th>device_id_hash</th>\n",
       "      <th>exp_id</th>\n",
       "      <th>year</th>\n",
       "      <th>month</th>\n",
       "      <th>datetime</th>\n",
       "      <th>date</th>\n",
       "      <th>jumlah_peristiwa</th>\n",
       "      <th>formatted_date</th>\n",
       "    </tr>\n",
       "  </thead>\n",
       "  <tbody>\n",
       "    <tr>\n",
       "      <th>0</th>\n",
       "      <td>MainScreenAppear</td>\n",
       "      <td>4575588528974610257</td>\n",
       "      <td>246</td>\n",
       "      <td>2019</td>\n",
       "      <td>7</td>\n",
       "      <td>2019-07-25 04:43:36</td>\n",
       "      <td>2019-07-25</td>\n",
       "      <td>23</td>\n",
       "      <td>2019-07-25</td>\n",
       "    </tr>\n",
       "    <tr>\n",
       "      <th>1</th>\n",
       "      <td>MainScreenAppear</td>\n",
       "      <td>7416695313311560658</td>\n",
       "      <td>246</td>\n",
       "      <td>2019</td>\n",
       "      <td>7</td>\n",
       "      <td>2019-07-25 11:11:42</td>\n",
       "      <td>2019-07-25</td>\n",
       "      <td>40</td>\n",
       "      <td>2019-07-25</td>\n",
       "    </tr>\n",
       "    <tr>\n",
       "      <th>2</th>\n",
       "      <td>PaymentScreenSuccessful</td>\n",
       "      <td>3518123091307005509</td>\n",
       "      <td>248</td>\n",
       "      <td>2019</td>\n",
       "      <td>7</td>\n",
       "      <td>2019-07-25 11:28:47</td>\n",
       "      <td>2019-07-25</td>\n",
       "      <td>53</td>\n",
       "      <td>2019-07-25</td>\n",
       "    </tr>\n",
       "    <tr>\n",
       "      <th>3</th>\n",
       "      <td>CartScreenAppear</td>\n",
       "      <td>3518123091307005509</td>\n",
       "      <td>248</td>\n",
       "      <td>2019</td>\n",
       "      <td>7</td>\n",
       "      <td>2019-07-25 11:28:47</td>\n",
       "      <td>2019-07-25</td>\n",
       "      <td>53</td>\n",
       "      <td>2019-07-25</td>\n",
       "    </tr>\n",
       "    <tr>\n",
       "      <th>4</th>\n",
       "      <td>PaymentScreenSuccessful</td>\n",
       "      <td>6217807653094995999</td>\n",
       "      <td>248</td>\n",
       "      <td>2019</td>\n",
       "      <td>7</td>\n",
       "      <td>2019-07-25 11:48:42</td>\n",
       "      <td>2019-07-25</td>\n",
       "      <td>22</td>\n",
       "      <td>2019-07-25</td>\n",
       "    </tr>\n",
       "    <tr>\n",
       "      <th>...</th>\n",
       "      <td>...</td>\n",
       "      <td>...</td>\n",
       "      <td>...</td>\n",
       "      <td>...</td>\n",
       "      <td>...</td>\n",
       "      <td>...</td>\n",
       "      <td>...</td>\n",
       "      <td>...</td>\n",
       "      <td>...</td>\n",
       "    </tr>\n",
       "    <tr>\n",
       "      <th>244121</th>\n",
       "      <td>MainScreenAppear</td>\n",
       "      <td>4599628364049201812</td>\n",
       "      <td>247</td>\n",
       "      <td>2019</td>\n",
       "      <td>8</td>\n",
       "      <td>2019-08-07 21:12:25</td>\n",
       "      <td>2019-08-07</td>\n",
       "      <td>116</td>\n",
       "      <td>2019-08-07</td>\n",
       "    </tr>\n",
       "    <tr>\n",
       "      <th>244122</th>\n",
       "      <td>MainScreenAppear</td>\n",
       "      <td>5849806612437486590</td>\n",
       "      <td>246</td>\n",
       "      <td>2019</td>\n",
       "      <td>8</td>\n",
       "      <td>2019-08-07 21:13:59</td>\n",
       "      <td>2019-08-07</td>\n",
       "      <td>16</td>\n",
       "      <td>2019-08-07</td>\n",
       "    </tr>\n",
       "    <tr>\n",
       "      <th>244123</th>\n",
       "      <td>MainScreenAppear</td>\n",
       "      <td>5746969938801999050</td>\n",
       "      <td>246</td>\n",
       "      <td>2019</td>\n",
       "      <td>8</td>\n",
       "      <td>2019-08-07 21:14:43</td>\n",
       "      <td>2019-08-07</td>\n",
       "      <td>35</td>\n",
       "      <td>2019-08-07</td>\n",
       "    </tr>\n",
       "    <tr>\n",
       "      <th>244124</th>\n",
       "      <td>MainScreenAppear</td>\n",
       "      <td>5746969938801999050</td>\n",
       "      <td>246</td>\n",
       "      <td>2019</td>\n",
       "      <td>8</td>\n",
       "      <td>2019-08-07 21:14:58</td>\n",
       "      <td>2019-08-07</td>\n",
       "      <td>35</td>\n",
       "      <td>2019-08-07</td>\n",
       "    </tr>\n",
       "    <tr>\n",
       "      <th>244125</th>\n",
       "      <td>OffersScreenAppear</td>\n",
       "      <td>5746969938801999050</td>\n",
       "      <td>246</td>\n",
       "      <td>2019</td>\n",
       "      <td>8</td>\n",
       "      <td>2019-08-07 21:15:17</td>\n",
       "      <td>2019-08-07</td>\n",
       "      <td>35</td>\n",
       "      <td>2019-08-07</td>\n",
       "    </tr>\n",
       "  </tbody>\n",
       "</table>\n",
       "<p>244126 rows × 9 columns</p>\n",
       "</div>"
      ],
      "text/plain": [
       "                     event_name       device_id_hash exp_id  year  month  \\\n",
       "0              MainScreenAppear  4575588528974610257    246  2019      7   \n",
       "1              MainScreenAppear  7416695313311560658    246  2019      7   \n",
       "2       PaymentScreenSuccessful  3518123091307005509    248  2019      7   \n",
       "3              CartScreenAppear  3518123091307005509    248  2019      7   \n",
       "4       PaymentScreenSuccessful  6217807653094995999    248  2019      7   \n",
       "...                         ...                  ...    ...   ...    ...   \n",
       "244121         MainScreenAppear  4599628364049201812    247  2019      8   \n",
       "244122         MainScreenAppear  5849806612437486590    246  2019      8   \n",
       "244123         MainScreenAppear  5746969938801999050    246  2019      8   \n",
       "244124         MainScreenAppear  5746969938801999050    246  2019      8   \n",
       "244125       OffersScreenAppear  5746969938801999050    246  2019      8   \n",
       "\n",
       "                  datetime       date  jumlah_peristiwa formatted_date  \n",
       "0      2019-07-25 04:43:36 2019-07-25                23     2019-07-25  \n",
       "1      2019-07-25 11:11:42 2019-07-25                40     2019-07-25  \n",
       "2      2019-07-25 11:28:47 2019-07-25                53     2019-07-25  \n",
       "3      2019-07-25 11:28:47 2019-07-25                53     2019-07-25  \n",
       "4      2019-07-25 11:48:42 2019-07-25                22     2019-07-25  \n",
       "...                    ...        ...               ...            ...  \n",
       "244121 2019-08-07 21:12:25 2019-08-07               116     2019-08-07  \n",
       "244122 2019-08-07 21:13:59 2019-08-07                16     2019-08-07  \n",
       "244123 2019-08-07 21:14:43 2019-08-07                35     2019-08-07  \n",
       "244124 2019-08-07 21:14:58 2019-08-07                35     2019-08-07  \n",
       "244125 2019-08-07 21:15:17 2019-08-07                35     2019-08-07  \n",
       "\n",
       "[244126 rows x 9 columns]"
      ]
     },
     "execution_count": 57,
     "metadata": {},
     "output_type": "execute_result"
    }
   ],
   "source": [
    "exp_logs"
   ]
  },
  {
   "cell_type": "code",
   "execution_count": 58,
   "metadata": {},
   "outputs": [
    {
     "data": {
      "text/html": [
       "<div>\n",
       "<style scoped>\n",
       "    .dataframe tbody tr th:only-of-type {\n",
       "        vertical-align: middle;\n",
       "    }\n",
       "\n",
       "    .dataframe tbody tr th {\n",
       "        vertical-align: top;\n",
       "    }\n",
       "\n",
       "    .dataframe thead th {\n",
       "        text-align: right;\n",
       "    }\n",
       "</style>\n",
       "<table border=\"1\" class=\"dataframe\">\n",
       "  <thead>\n",
       "    <tr style=\"text-align: right;\">\n",
       "      <th></th>\n",
       "      <th>event_name</th>\n",
       "      <th>device_id_hash</th>\n",
       "      <th>exp_id</th>\n",
       "      <th>year</th>\n",
       "      <th>month</th>\n",
       "      <th>datetime</th>\n",
       "      <th>date</th>\n",
       "      <th>jumlah_peristiwa</th>\n",
       "      <th>formatted_date</th>\n",
       "    </tr>\n",
       "  </thead>\n",
       "  <tbody>\n",
       "    <tr>\n",
       "      <th>0</th>\n",
       "      <td>MainScreenAppear</td>\n",
       "      <td>4575588528974610257</td>\n",
       "      <td>246</td>\n",
       "      <td>2019</td>\n",
       "      <td>7</td>\n",
       "      <td>2019-07-25 04:43:36</td>\n",
       "      <td>2019-07-25</td>\n",
       "      <td>23</td>\n",
       "      <td>2019-07-25</td>\n",
       "    </tr>\n",
       "    <tr>\n",
       "      <th>4583</th>\n",
       "      <td>MainScreenAppear</td>\n",
       "      <td>4575588528974610257</td>\n",
       "      <td>246</td>\n",
       "      <td>2019</td>\n",
       "      <td>8</td>\n",
       "      <td>2019-08-01 04:30:00</td>\n",
       "      <td>2019-08-01</td>\n",
       "      <td>23</td>\n",
       "      <td>2019-08-01</td>\n",
       "    </tr>\n",
       "    <tr>\n",
       "      <th>108616</th>\n",
       "      <td>MainScreenAppear</td>\n",
       "      <td>4575588528974610257</td>\n",
       "      <td>246</td>\n",
       "      <td>2019</td>\n",
       "      <td>8</td>\n",
       "      <td>2019-08-04 03:07:11</td>\n",
       "      <td>2019-08-04</td>\n",
       "      <td>23</td>\n",
       "      <td>2019-08-04</td>\n",
       "    </tr>\n",
       "    <tr>\n",
       "      <th>108618</th>\n",
       "      <td>OffersScreenAppear</td>\n",
       "      <td>4575588528974610257</td>\n",
       "      <td>246</td>\n",
       "      <td>2019</td>\n",
       "      <td>8</td>\n",
       "      <td>2019-08-04 03:07:50</td>\n",
       "      <td>2019-08-04</td>\n",
       "      <td>23</td>\n",
       "      <td>2019-08-04</td>\n",
       "    </tr>\n",
       "    <tr>\n",
       "      <th>108621</th>\n",
       "      <td>MainScreenAppear</td>\n",
       "      <td>4575588528974610257</td>\n",
       "      <td>246</td>\n",
       "      <td>2019</td>\n",
       "      <td>8</td>\n",
       "      <td>2019-08-04 03:09:03</td>\n",
       "      <td>2019-08-04</td>\n",
       "      <td>23</td>\n",
       "      <td>2019-08-04</td>\n",
       "    </tr>\n",
       "    <tr>\n",
       "      <th>108623</th>\n",
       "      <td>MainScreenAppear</td>\n",
       "      <td>4575588528974610257</td>\n",
       "      <td>246</td>\n",
       "      <td>2019</td>\n",
       "      <td>8</td>\n",
       "      <td>2019-08-04 03:10:03</td>\n",
       "      <td>2019-08-04</td>\n",
       "      <td>23</td>\n",
       "      <td>2019-08-04</td>\n",
       "    </tr>\n",
       "    <tr>\n",
       "      <th>108627</th>\n",
       "      <td>MainScreenAppear</td>\n",
       "      <td>4575588528974610257</td>\n",
       "      <td>246</td>\n",
       "      <td>2019</td>\n",
       "      <td>8</td>\n",
       "      <td>2019-08-04 03:11:02</td>\n",
       "      <td>2019-08-04</td>\n",
       "      <td>23</td>\n",
       "      <td>2019-08-04</td>\n",
       "    </tr>\n",
       "    <tr>\n",
       "      <th>108628</th>\n",
       "      <td>MainScreenAppear</td>\n",
       "      <td>4575588528974610257</td>\n",
       "      <td>246</td>\n",
       "      <td>2019</td>\n",
       "      <td>8</td>\n",
       "      <td>2019-08-04 03:11:46</td>\n",
       "      <td>2019-08-04</td>\n",
       "      <td>23</td>\n",
       "      <td>2019-08-04</td>\n",
       "    </tr>\n",
       "    <tr>\n",
       "      <th>111291</th>\n",
       "      <td>MainScreenAppear</td>\n",
       "      <td>4575588528974610257</td>\n",
       "      <td>246</td>\n",
       "      <td>2019</td>\n",
       "      <td>8</td>\n",
       "      <td>2019-08-04 06:22:41</td>\n",
       "      <td>2019-08-04</td>\n",
       "      <td>23</td>\n",
       "      <td>2019-08-04</td>\n",
       "    </tr>\n",
       "    <tr>\n",
       "      <th>111948</th>\n",
       "      <td>MainScreenAppear</td>\n",
       "      <td>4575588528974610257</td>\n",
       "      <td>246</td>\n",
       "      <td>2019</td>\n",
       "      <td>8</td>\n",
       "      <td>2019-08-04 06:54:03</td>\n",
       "      <td>2019-08-04</td>\n",
       "      <td>23</td>\n",
       "      <td>2019-08-04</td>\n",
       "    </tr>\n",
       "    <tr>\n",
       "      <th>112180</th>\n",
       "      <td>MainScreenAppear</td>\n",
       "      <td>4575588528974610257</td>\n",
       "      <td>246</td>\n",
       "      <td>2019</td>\n",
       "      <td>8</td>\n",
       "      <td>2019-08-04 07:01:06</td>\n",
       "      <td>2019-08-04</td>\n",
       "      <td>23</td>\n",
       "      <td>2019-08-04</td>\n",
       "    </tr>\n",
       "    <tr>\n",
       "      <th>112181</th>\n",
       "      <td>CartScreenAppear</td>\n",
       "      <td>4575588528974610257</td>\n",
       "      <td>246</td>\n",
       "      <td>2019</td>\n",
       "      <td>8</td>\n",
       "      <td>2019-08-04 07:01:08</td>\n",
       "      <td>2019-08-04</td>\n",
       "      <td>23</td>\n",
       "      <td>2019-08-04</td>\n",
       "    </tr>\n",
       "    <tr>\n",
       "      <th>112182</th>\n",
       "      <td>PaymentScreenSuccessful</td>\n",
       "      <td>4575588528974610257</td>\n",
       "      <td>246</td>\n",
       "      <td>2019</td>\n",
       "      <td>8</td>\n",
       "      <td>2019-08-04 07:01:08</td>\n",
       "      <td>2019-08-04</td>\n",
       "      <td>23</td>\n",
       "      <td>2019-08-04</td>\n",
       "    </tr>\n",
       "    <tr>\n",
       "      <th>112183</th>\n",
       "      <td>MainScreenAppear</td>\n",
       "      <td>4575588528974610257</td>\n",
       "      <td>246</td>\n",
       "      <td>2019</td>\n",
       "      <td>8</td>\n",
       "      <td>2019-08-04 07:01:08</td>\n",
       "      <td>2019-08-04</td>\n",
       "      <td>23</td>\n",
       "      <td>2019-08-04</td>\n",
       "    </tr>\n",
       "    <tr>\n",
       "      <th>112186</th>\n",
       "      <td>OffersScreenAppear</td>\n",
       "      <td>4575588528974610257</td>\n",
       "      <td>246</td>\n",
       "      <td>2019</td>\n",
       "      <td>8</td>\n",
       "      <td>2019-08-04 07:01:11</td>\n",
       "      <td>2019-08-04</td>\n",
       "      <td>23</td>\n",
       "      <td>2019-08-04</td>\n",
       "    </tr>\n",
       "    <tr>\n",
       "      <th>112217</th>\n",
       "      <td>CartScreenAppear</td>\n",
       "      <td>4575588528974610257</td>\n",
       "      <td>246</td>\n",
       "      <td>2019</td>\n",
       "      <td>8</td>\n",
       "      <td>2019-08-04 07:01:51</td>\n",
       "      <td>2019-08-04</td>\n",
       "      <td>23</td>\n",
       "      <td>2019-08-04</td>\n",
       "    </tr>\n",
       "    <tr>\n",
       "      <th>112218</th>\n",
       "      <td>PaymentScreenSuccessful</td>\n",
       "      <td>4575588528974610257</td>\n",
       "      <td>246</td>\n",
       "      <td>2019</td>\n",
       "      <td>8</td>\n",
       "      <td>2019-08-04 07:01:51</td>\n",
       "      <td>2019-08-04</td>\n",
       "      <td>23</td>\n",
       "      <td>2019-08-04</td>\n",
       "    </tr>\n",
       "    <tr>\n",
       "      <th>115315</th>\n",
       "      <td>MainScreenAppear</td>\n",
       "      <td>4575588528974610257</td>\n",
       "      <td>246</td>\n",
       "      <td>2019</td>\n",
       "      <td>8</td>\n",
       "      <td>2019-08-04 08:51:14</td>\n",
       "      <td>2019-08-04</td>\n",
       "      <td>23</td>\n",
       "      <td>2019-08-04</td>\n",
       "    </tr>\n",
       "    <tr>\n",
       "      <th>127614</th>\n",
       "      <td>MainScreenAppear</td>\n",
       "      <td>4575588528974610257</td>\n",
       "      <td>246</td>\n",
       "      <td>2019</td>\n",
       "      <td>8</td>\n",
       "      <td>2019-08-04 14:17:12</td>\n",
       "      <td>2019-08-04</td>\n",
       "      <td>23</td>\n",
       "      <td>2019-08-04</td>\n",
       "    </tr>\n",
       "    <tr>\n",
       "      <th>127615</th>\n",
       "      <td>OffersScreenAppear</td>\n",
       "      <td>4575588528974610257</td>\n",
       "      <td>246</td>\n",
       "      <td>2019</td>\n",
       "      <td>8</td>\n",
       "      <td>2019-08-04 14:17:16</td>\n",
       "      <td>2019-08-04</td>\n",
       "      <td>23</td>\n",
       "      <td>2019-08-04</td>\n",
       "    </tr>\n",
       "    <tr>\n",
       "      <th>127642</th>\n",
       "      <td>OffersScreenAppear</td>\n",
       "      <td>4575588528974610257</td>\n",
       "      <td>246</td>\n",
       "      <td>2019</td>\n",
       "      <td>8</td>\n",
       "      <td>2019-08-04 14:18:24</td>\n",
       "      <td>2019-08-04</td>\n",
       "      <td>23</td>\n",
       "      <td>2019-08-04</td>\n",
       "    </tr>\n",
       "    <tr>\n",
       "      <th>156054</th>\n",
       "      <td>MainScreenAppear</td>\n",
       "      <td>4575588528974610257</td>\n",
       "      <td>246</td>\n",
       "      <td>2019</td>\n",
       "      <td>8</td>\n",
       "      <td>2019-08-05 12:03:42</td>\n",
       "      <td>2019-08-05</td>\n",
       "      <td>23</td>\n",
       "      <td>2019-08-05</td>\n",
       "    </tr>\n",
       "    <tr>\n",
       "      <th>156181</th>\n",
       "      <td>OffersScreenAppear</td>\n",
       "      <td>4575588528974610257</td>\n",
       "      <td>246</td>\n",
       "      <td>2019</td>\n",
       "      <td>8</td>\n",
       "      <td>2019-08-05 12:06:24</td>\n",
       "      <td>2019-08-05</td>\n",
       "      <td>23</td>\n",
       "      <td>2019-08-05</td>\n",
       "    </tr>\n",
       "  </tbody>\n",
       "</table>\n",
       "</div>"
      ],
      "text/plain": [
       "                     event_name       device_id_hash exp_id  year  month  \\\n",
       "0              MainScreenAppear  4575588528974610257    246  2019      7   \n",
       "4583           MainScreenAppear  4575588528974610257    246  2019      8   \n",
       "108616         MainScreenAppear  4575588528974610257    246  2019      8   \n",
       "108618       OffersScreenAppear  4575588528974610257    246  2019      8   \n",
       "108621         MainScreenAppear  4575588528974610257    246  2019      8   \n",
       "108623         MainScreenAppear  4575588528974610257    246  2019      8   \n",
       "108627         MainScreenAppear  4575588528974610257    246  2019      8   \n",
       "108628         MainScreenAppear  4575588528974610257    246  2019      8   \n",
       "111291         MainScreenAppear  4575588528974610257    246  2019      8   \n",
       "111948         MainScreenAppear  4575588528974610257    246  2019      8   \n",
       "112180         MainScreenAppear  4575588528974610257    246  2019      8   \n",
       "112181         CartScreenAppear  4575588528974610257    246  2019      8   \n",
       "112182  PaymentScreenSuccessful  4575588528974610257    246  2019      8   \n",
       "112183         MainScreenAppear  4575588528974610257    246  2019      8   \n",
       "112186       OffersScreenAppear  4575588528974610257    246  2019      8   \n",
       "112217         CartScreenAppear  4575588528974610257    246  2019      8   \n",
       "112218  PaymentScreenSuccessful  4575588528974610257    246  2019      8   \n",
       "115315         MainScreenAppear  4575588528974610257    246  2019      8   \n",
       "127614         MainScreenAppear  4575588528974610257    246  2019      8   \n",
       "127615       OffersScreenAppear  4575588528974610257    246  2019      8   \n",
       "127642       OffersScreenAppear  4575588528974610257    246  2019      8   \n",
       "156054         MainScreenAppear  4575588528974610257    246  2019      8   \n",
       "156181       OffersScreenAppear  4575588528974610257    246  2019      8   \n",
       "\n",
       "                  datetime       date  jumlah_peristiwa formatted_date  \n",
       "0      2019-07-25 04:43:36 2019-07-25                23     2019-07-25  \n",
       "4583   2019-08-01 04:30:00 2019-08-01                23     2019-08-01  \n",
       "108616 2019-08-04 03:07:11 2019-08-04                23     2019-08-04  \n",
       "108618 2019-08-04 03:07:50 2019-08-04                23     2019-08-04  \n",
       "108621 2019-08-04 03:09:03 2019-08-04                23     2019-08-04  \n",
       "108623 2019-08-04 03:10:03 2019-08-04                23     2019-08-04  \n",
       "108627 2019-08-04 03:11:02 2019-08-04                23     2019-08-04  \n",
       "108628 2019-08-04 03:11:46 2019-08-04                23     2019-08-04  \n",
       "111291 2019-08-04 06:22:41 2019-08-04                23     2019-08-04  \n",
       "111948 2019-08-04 06:54:03 2019-08-04                23     2019-08-04  \n",
       "112180 2019-08-04 07:01:06 2019-08-04                23     2019-08-04  \n",
       "112181 2019-08-04 07:01:08 2019-08-04                23     2019-08-04  \n",
       "112182 2019-08-04 07:01:08 2019-08-04                23     2019-08-04  \n",
       "112183 2019-08-04 07:01:08 2019-08-04                23     2019-08-04  \n",
       "112186 2019-08-04 07:01:11 2019-08-04                23     2019-08-04  \n",
       "112217 2019-08-04 07:01:51 2019-08-04                23     2019-08-04  \n",
       "112218 2019-08-04 07:01:51 2019-08-04                23     2019-08-04  \n",
       "115315 2019-08-04 08:51:14 2019-08-04                23     2019-08-04  \n",
       "127614 2019-08-04 14:17:12 2019-08-04                23     2019-08-04  \n",
       "127615 2019-08-04 14:17:16 2019-08-04                23     2019-08-04  \n",
       "127642 2019-08-04 14:18:24 2019-08-04                23     2019-08-04  \n",
       "156054 2019-08-05 12:03:42 2019-08-05                23     2019-08-05  \n",
       "156181 2019-08-05 12:06:24 2019-08-05                23     2019-08-05  "
      ]
     },
     "execution_count": 58,
     "metadata": {},
     "output_type": "execute_result"
    }
   ],
   "source": [
    "# Sample 1 pengguna\n",
    "exp_logs[exp_logs['device_id_hash'] == '4575588528974610257']"
   ]
  },
  {
   "cell_type": "markdown",
   "metadata": {},
   "source": [
    "- **Dataset Sub Bab Memahami dalam Urutan Apa Tindakan-Tindakan Tersebut Terjadi?**"
   ]
  },
  {
   "cell_type": "markdown",
   "metadata": {},
   "source": [
    "\n",
    "<font color = green> Kesimpulan Sementara </font>\n",
    "- Jika kita lihat tutorial merupakan aktivtas terbawah, bisa dipastikan banyak orang yang memilih untuk melewati tutorial. Sehingga proses tersebut mengalami bypass dan muncul di MainScreenAppear. Pada umumnya tutorial merupakan bumper untuk setiap proses aktivitas. Dalam funnel ini kita bisa pelajari bahwa jika dengan jumlah MainScreenAppear yang banyak hingga melakukan aktivitas di dalam proses tersebut mengalami penurunan aktivitas yang cukup signifikan, bisa dipastikan ada 3 kemungkinan yaitu seorang pengguna yang idle atau pengguna tersebut memang tidak tertarik dan menutup aplikasi atau hanya membuka dan kemudian menutup aplikasi.\n",
    "\n",
    "- Seperti halnya contoh irisan data di atas(**Dataset Sub Bab Memahami dalam Urutan Apa Tindakan-Tindakan Tersebut Terjadi?**) , pengguna tersebut memang melakukan pembayaran namun kita bisa lihat seberapa lama dia menghabiskan waktu hanya di MainScreenApp"
   ]
  },
  {
   "cell_type": "markdown",
   "metadata": {},
   "source": [
    "-------"
   ]
  },
  {
   "cell_type": "markdown",
   "metadata": {},
   "source": [
    "### Menemukan Persentase Pengguna yang Terus Berlanjut dari Satu Tahap ke Tahap Berikutnya\n",
    "- Gunakan funnel peristiwa untuk menemukan persentase pengguna yang terus berlanjut dari satu tahap ke tahap berikutnya. (Misalnya, untuk urutan peristiwa A → B → C, hitung rasio pengguna pada tahap B terhadap jumlah pengguna pada tahap A, serta rasio pengguna pada tahap C terhadap jumlah pengguna pada tahap B)."
   ]
  },
  {
   "cell_type": "code",
   "execution_count": 59,
   "metadata": {},
   "outputs": [
    {
     "data": {
      "text/plain": [
       "array(['MainScreenAppear', 'PaymentScreenSuccessful', 'CartScreenAppear',\n",
       "       'OffersScreenAppear', 'Tutorial'], dtype=object)"
      ]
     },
     "execution_count": 59,
     "metadata": {},
     "output_type": "execute_result"
    }
   ],
   "source": [
    "# Melihat peristiwa yang tersedia\n",
    "exp_logs['event_name'].unique()"
   ]
  },
  {
   "cell_type": "code",
   "execution_count": 60,
   "metadata": {},
   "outputs": [
    {
     "name": "stdout",
     "output_type": "stream",
     "text": [
      "Persentase untuk A - B - B - C\n",
      "Persentase pengguna pada tahap OffersScreenAppear terhadap jumlah pengguna pada tahap MainScreenAppear: 62.01%\n",
      "Persentase pengguna pada tahap CartScreenAppear terhadap jumlah pengguna pada tahap OffersScreenAppear: 81.27%\n",
      "----------------------------------------------------------------------------------------------------------------------\n",
      "Perhitungan Persentase Berlanjut:\n",
      "Persentase pengguna pada tahap PaymentScreenSuccessful terhadap jumlah pengguna pada tahap CartScreenAppear: 94.61%\n"
     ]
    }
   ],
   "source": [
    "# Membuat fungsi untuk menghitung persentase pengguna yang berlanjut dari satu tahap ke tahap berikutnya\n",
    "def hitung_persentase_berlanjut(df, tahap_sebelumnya, tahap_berikutnya):\n",
    "    # Menghitung jumlah pengguna pada tahap sebelumnya\n",
    "    jumlah_pengguna_sebelumnya = df[df['event_name'] == tahap_sebelumnya]['device_id_hash'].nunique()\n",
    "\n",
    "    # Menghitung jumlah pengguna yang berlanjut ke tahap berikutnya\n",
    "    jumlah_pengguna_berlanjut = df[df['event_name'] == tahap_berikutnya]['device_id_hash'].nunique()\n",
    "\n",
    "    # Menghitung persentase pengguna yang berlanjut\n",
    "    persentase_berlanjut = (jumlah_pengguna_berlanjut / jumlah_pengguna_sebelumnya) * 100\n",
    "\n",
    "    return persentase_berlanjut\n",
    "\n",
    "# Fungsi untuk peristiwa MainScreenAppear → OffersScreenAppear\n",
    "print('Persentase untuk A - B - B - C')\n",
    "persentase_MainScreen_to_Offers = hitung_persentase_berlanjut(exp_logs, 'MainScreenAppear', 'OffersScreenAppear')\n",
    "print(f\"Persentase pengguna pada tahap OffersScreenAppear terhadap jumlah pengguna pada tahap MainScreenAppear: {persentase_MainScreen_to_Offers:.2f}%\")\n",
    "\n",
    "# Fungsi untuk peristiwa OffersScreenAppear → CartScreenAppear\n",
    "persentase_Offers_to_Cart = hitung_persentase_berlanjut(exp_logs, 'OffersScreenAppear', 'CartScreenAppear')\n",
    "print(f\"Persentase pengguna pada tahap CartScreenAppear terhadap jumlah pengguna pada tahap OffersScreenAppear: {persentase_Offers_to_Cart:.2f}%\")\n",
    "print('----------------------------------------------------------------------------------------------------------------------')\n",
    "print('Perhitungan Persentase Berlanjut:')\n",
    "# Fungsi peristiwa CartScreenAppear → PaymentScreenSuccessful\n",
    "persentase_Cart_to_Payment = hitung_persentase_berlanjut(exp_logs, 'CartScreenAppear', 'PaymentScreenSuccessful')\n",
    "print(f\"Persentase pengguna pada tahap PaymentScreenSuccessful terhadap jumlah pengguna pada tahap CartScreenAppear: {persentase_Cart_to_Payment:.2f}%\")\n"
   ]
  },
  {
   "cell_type": "code",
   "execution_count": 61,
   "metadata": {},
   "outputs": [
    {
     "data": {
      "image/png": "[encoded data removed]",
      "text/plain": [
       "<Figure size 720x432 with 1 Axes>"
      ]
     },
     "metadata": {
      "needs_background": "light"
     },
     "output_type": "display_data"
    }
   ],
   "source": [
    "# Fungsi untuk peristiwa MainScreenAppear → OffersScreenAppear\n",
    "persentase_MainScreen_to_Offers = hitung_persentase_berlanjut(exp_logs, 'MainScreenAppear', 'OffersScreenAppear')\n",
    "\n",
    "# Fungsi untuk peristiwa OffersScreenAppear → CartScreenAppear\n",
    "persentase_Offers_to_Cart = hitung_persentase_berlanjut(exp_logs, 'OffersScreenAppear', 'CartScreenAppear')\n",
    "\n",
    "# Fungsi untuk peristiwa CartScreenAppear → PaymentScreenSuccessful\n",
    "persentase_Cart_to_Payment = hitung_persentase_berlanjut(exp_logs, 'CartScreenAppear', 'PaymentScreenSuccessful')\n",
    "\n",
    "# Menyusun data untuk visualisasi\n",
    "tahapan = ['MainScreen → OffersScreen', 'OffersScreen → CartScreen', 'CartScreen → PaymentScreen']\n",
    "persentase = [persentase_MainScreen_to_Offers, persentase_Offers_to_Cart, persentase_Cart_to_Payment]\n",
    "\n",
    "# Membuat visualisasi dengan bar chart\n",
    "plt.figure(figsize=(10, 6))\n",
    "plt.bar(tahapan, persentase, color=['blue', 'green', 'orange'])\n",
    "plt.xlabel('Tahapan')\n",
    "plt.ylabel('Persentase Pengguna yang Berlanjut (%)')\n",
    "plt.title('Persentase Pengguna yang Berlanjut dari Tahap ke Tahap')\n",
    "plt.ylim(0, 100)  # Mengatur batas sumbu y antara 0 dan 100 untuk persentase\n",
    "plt.show()"
   ]
  },
  {
   "cell_type": "markdown",
   "metadata": {},
   "source": [
    "<font color = green> Kesimpulan Sementara </font>\n",
    "- Hasil ini memberikan gambaran tentang seberapa efektif aplikasi dalam memandu pengguna melalui tahapan-tahapan tersebut. Misalnya, persentase yang tinggi dari Offers Screen ke Cart Screen dan dari Cart Screen ke Payment Screen Successful dapat dianggap positif, menunjukkan bahwa sebagian besar pengguna melanjutkan melalui tahapan-tahapan ini:\n",
    "\n",
    "1. Persentase MainScreenAppear ke OffersScreenAppear: Dari total pengguna yang melihat Main Screen, sekitar 62.01% dari mereka melanjutkan untuk melihat Offers Screen.\n",
    "2. Persentase OffersScreenAppear ke CartScreenAppear: Dari total pengguna yang melihat Offers Screen, sekitar 81.27% dari mereka melanjutkan untuk melihat Cart Screen.\n",
    "3. Persentase CartScreenAppear ke PaymentScreenSuccessful: Dari total pengguna yang melihat Cart Screen, sekitar 94.61% dari mereka melanjutkan untuk menyelesaikan pembayaran dan mencapai Payment Screen Successful."
   ]
  },
  {
   "cell_type": "markdown",
   "metadata": {},
   "source": [
    "---------"
   ]
  },
  {
   "cell_type": "markdown",
   "metadata": {},
   "source": [
    "### Pada Tahap Apa Proses Tersebut Kehilangan Banyak Pengguna?\n",
    "- Berapa banyak jumlah yang menghilang untuk tahapan dari funnel tersebut?"
   ]
  },
  {
   "cell_type": "code",
   "execution_count": 62,
   "metadata": {},
   "outputs": [
    {
     "data": {
      "text/plain": [
       "event_name        MainScreenAppear\n",
       "device_id_hash                7439\n",
       "lost_users                  3690.0\n",
       "Name: 1, dtype: object"
      ]
     },
     "execution_count": 62,
     "metadata": {},
     "output_type": "execute_result"
    }
   ],
   "source": [
    "# Menghitung jumlah pengguna pada setiap tahapan\n",
    "users_per_event = exp_logs.groupby('event_name')['device_id_hash'].nunique().reset_index()\n",
    "\n",
    "# Menggunakan data users_per_event yang telah dihitung sebelumnya\n",
    "# Menampilkan perbedaan jumlah pengguna antar tahapan\n",
    "users_per_event['lost_users'] = users_per_event['device_id_hash'].diff()\n",
    "\n",
    "# Menampilkan tahapan dengan penurunan jumlah pengguna paling signifikan\n",
    "tahapan_dengan_penurunan_besar = users_per_event.loc[users_per_event['lost_users'].idxmax()]\n",
    "\n",
    "# Menampilkan hasil\n",
    "tahapan_dengan_penurunan_besar"
   ]
  },
  {
   "cell_type": "markdown",
   "metadata": {},
   "source": [
    "<font color = green> Kesimpulan Sementara </font>\n",
    "- MainScreenAppear mengalami kehilangan yang significant untuk melakukan proses tahap selanjutnya."
   ]
  },
  {
   "cell_type": "markdown",
   "metadata": {},
   "source": [
    "-----------"
   ]
  },
  {
   "cell_type": "markdown",
   "metadata": {},
   "source": [
    "### Berapa Banyak Persentase Pengguna yang Berhasil Menyelesaikan Seluruh Tahapan yang Ada?\n",
    "- Berapa banyak persentase pengguna yang berhasil menyelesaikan seluruh tahapan yang ada? Dari peristiwa pertama hingga pembayaran?"
   ]
  },
  {
   "cell_type": "code",
   "execution_count": 63,
   "metadata": {},
   "outputs": [
    {
     "name": "stdout",
     "output_type": "stream",
     "text": [
      "Persentase pengguna yang berhasil menyelesaikan seluruh tahapan: 47.68%\n"
     ]
    }
   ],
   "source": [
    "# Tahapan awal dan tahapan pembayaran\n",
    "tahapan_awal = 'MainScreenAppear'\n",
    "tahapan_pembayaran = 'PaymentScreenSuccessful'\n",
    "\n",
    "# Mengambil jumlah pengguna pada tahapan awal\n",
    "jumlah_pengguna_awal = users_per_event.loc[users_per_event['event_name'] == tahapan_awal, 'device_id_hash'].values[0]\n",
    "\n",
    "# Mengambil jumlah pengguna pada tahapan pembayaran\n",
    "jumlah_pengguna_pembayaran = users_per_event.loc[users_per_event['event_name'] == tahapan_pembayaran, 'device_id_hash'].values[0]\n",
    "\n",
    "# Menghitung persentase pengguna yang berhasil menyelesaikan seluruh tahapan\n",
    "persentase_penyelesaian_tahapan = (jumlah_pengguna_pembayaran / jumlah_pengguna_awal) * 100\n",
    "\n",
    "# Menampilkan hasil\n",
    "print(f\"Persentase pengguna yang berhasil menyelesaikan seluruh tahapan: {persentase_penyelesaian_tahapan:.2f}%\")\n"
   ]
  },
  {
   "cell_type": "code",
   "execution_count": 64,
   "metadata": {},
   "outputs": [
    {
     "data": {
      "image/png": "[encoded data removed]",
      "text/plain": [
       "<Figure size 576x360 with 1 Axes>"
      ]
     },
     "metadata": {
      "needs_background": "light"
     },
     "output_type": "display_data"
    }
   ],
   "source": [
    "# Membuat data frame untuk visualisasi\n",
    "data = {'Tahapan': [tahapan_awal, tahapan_pembayaran],\n",
    "        'Jumlah Pengguna': [jumlah_pengguna_awal, jumlah_pengguna_pembayaran]}\n",
    "\n",
    "df_visualisasi = pd.DataFrame(data)\n",
    "\n",
    "# Membuat visualisasi dengan bar chart\n",
    "plt.figure(figsize=(8, 5))\n",
    "plt.bar(df_visualisasi['Tahapan'], df_visualisasi['Jumlah Pengguna'], color=['blue', 'green'])\n",
    "plt.xlabel('Tahapan Funnel')\n",
    "plt.ylabel('Jumlah Pengguna')\n",
    "plt.title('Jumlah Pengguna pada Tahapan Awal dan Pembayaran')\n",
    "plt.show()"
   ]
  },
  {
   "cell_type": "markdown",
   "metadata": {},
   "source": [
    "<font color = green > Kesimpulan Sementara </font>\n",
    "- Kita bisa lihat jumlah pengguna pada tahapan awal dan pembayaran. Dari 7000 lebih pengguna yang kita asumsikan sebagai persentase 100% terdapat sekitar 3000 lebih pengguna yang benar-benar berhasil konfirmasi pembayaran atau sekitar 47.68% dari total tersebut."
   ]
  },
  {
   "cell_type": "markdown",
   "metadata": {},
   "source": [
    "---------"
   ]
  },
  {
   "cell_type": "markdown",
   "metadata": {},
   "source": [
    "## Mempelajari Hasil Eksperimen\n",
    "- Kita akan pelajari hasil eksperimen yang telah ditemukan "
   ]
  },
  {
   "cell_type": "markdown",
   "metadata": {},
   "source": [
    "### Berapa Banyak Pengguna yang Ada di Setiap Kelompok?\n",
    "- Kita dapat melihat masing-masing jumlah dari `exp_id`."
   ]
  },
  {
   "cell_type": "code",
   "execution_count": 65,
   "metadata": {},
   "outputs": [],
   "source": [
    "# Meliat jumlah masing-masing pengguna\n",
    "users_each_count = exp_logs.pivot_table(index = 'exp_id', values= 'device_id_hash', aggfunc = 'nunique').reset_index()"
   ]
  },
  {
   "cell_type": "code",
   "execution_count": 66,
   "metadata": {},
   "outputs": [
    {
     "data": {
      "text/html": [
       "<div>\n",
       "<style scoped>\n",
       "    .dataframe tbody tr th:only-of-type {\n",
       "        vertical-align: middle;\n",
       "    }\n",
       "\n",
       "    .dataframe tbody tr th {\n",
       "        vertical-align: top;\n",
       "    }\n",
       "\n",
       "    .dataframe thead th {\n",
       "        text-align: right;\n",
       "    }\n",
       "</style>\n",
       "<table border=\"1\" class=\"dataframe\">\n",
       "  <thead>\n",
       "    <tr style=\"text-align: right;\">\n",
       "      <th></th>\n",
       "      <th>exp_id</th>\n",
       "      <th>device_id_hash</th>\n",
       "    </tr>\n",
       "  </thead>\n",
       "  <tbody>\n",
       "    <tr>\n",
       "      <th>0</th>\n",
       "      <td>246</td>\n",
       "      <td>2489</td>\n",
       "    </tr>\n",
       "    <tr>\n",
       "      <th>1</th>\n",
       "      <td>247</td>\n",
       "      <td>2520</td>\n",
       "    </tr>\n",
       "    <tr>\n",
       "      <th>2</th>\n",
       "      <td>248</td>\n",
       "      <td>2542</td>\n",
       "    </tr>\n",
       "  </tbody>\n",
       "</table>\n",
       "</div>"
      ],
      "text/plain": [
       "  exp_id  device_id_hash\n",
       "0    246            2489\n",
       "1    247            2520\n",
       "2    248            2542"
      ]
     },
     "execution_count": 66,
     "metadata": {},
     "output_type": "execute_result"
    }
   ],
   "source": [
    "users_each_count"
   ]
  },
  {
   "cell_type": "code",
   "execution_count": 67,
   "metadata": {},
   "outputs": [
    {
     "data": {
      "text/plain": [
       "<AxesSubplot:xlabel='device_id_hash', ylabel='exp_id'>"
      ]
     },
     "execution_count": 67,
     "metadata": {},
     "output_type": "execute_result"
    },
    {
     "data": {
      "image/png": "[encoded data removed]",
      "text/plain": [
       "<Figure size 432x288 with 1 Axes>"
      ]
     },
     "metadata": {
      "needs_background": "light"
     },
     "output_type": "display_data"
    }
   ],
   "source": [
    "sns.barplot(data= users_each_count, x = 'device_id_hash', y = 'exp_id')"
   ]
  },
  {
   "cell_type": "markdown",
   "metadata": {},
   "source": [
    "<font color = green> Kesimpulan Sementara </font>\n",
    "- Terdapat 3 kelompok yang dimiliki yaitu 246, 247, dan 248. Masing-masing kelompok memiliki nilai yang tidak jauh berbeda dari segi jumlah yang dimiliki. Rata-rata jumlahnya yaitu 2517."
   ]
  },
  {
   "cell_type": "markdown",
   "metadata": {},
   "source": [
    "----------"
   ]
  },
  {
   "cell_type": "markdown",
   "metadata": {},
   "source": [
    "### Memeriksa Mekanisme dan Perhitungan Kelompok Kontrol dalam A/A Testing\n",
    "- Kita memiliki dua kelompok kontrol dalam A/A testing di mana kita memeriksa mekanisme dan perhitungan kita. Perhatikan apakah ada perbedaan yang signifikan secara statistik antara sampel 246 dan 247.\n"
   ]
  },
  {
   "cell_type": "code",
   "execution_count": 68,
   "metadata": {},
   "outputs": [
    {
     "data": {
      "text/plain": [
       "MainScreenAppear           38281\n",
       "OffersScreenAppear         14910\n",
       "CartScreenAppear           14819\n",
       "PaymentScreenSuccessful    11970\n",
       "Tutorial                     324\n",
       "Name: event_name, dtype: int64"
      ]
     },
     "execution_count": 68,
     "metadata": {},
     "output_type": "execute_result"
    }
   ],
   "source": [
    "# Mengiris data dengan id 246\n",
    "exp_246 = exp_logs[exp_logs['exp_id'] == '246']['event_name'].value_counts()\n",
    "exp_246"
   ]
  },
  {
   "cell_type": "code",
   "execution_count": 69,
   "metadata": {},
   "outputs": [
    {
     "data": {
      "text/plain": [
       "MainScreenAppear           39710\n",
       "OffersScreenAppear         15344\n",
       "CartScreenAppear           12570\n",
       "PaymentScreenSuccessful    10101\n",
       "Tutorial                     350\n",
       "Name: event_name, dtype: int64"
      ]
     },
     "execution_count": 69,
     "metadata": {},
     "output_type": "execute_result"
    }
   ],
   "source": [
    "# Mengiris data dengan id 247\n",
    "exp_247 = exp_logs[exp_logs['exp_id'] == '247']['event_name'].value_counts()\n",
    "exp_247"
   ]
  },
  {
   "cell_type": "code",
   "execution_count": 70,
   "metadata": {},
   "outputs": [
    {
     "data": {
      "text/plain": [
       "MainScreenAppear           1429\n",
       "OffersScreenAppear          434\n",
       "CartScreenAppear           2249\n",
       "PaymentScreenSuccessful    1869\n",
       "Tutorial                     26\n",
       "Name: event_name, dtype: int64"
      ]
     },
     "execution_count": 70,
     "metadata": {},
     "output_type": "execute_result"
    }
   ],
   "source": [
    "# Menghitung perbedaan dari kedua data dengan id 246 dan 247\n",
    "abs_diff = (exp_246 - exp_247).abs()\n",
    "abs_diff"
   ]
  },
  {
   "cell_type": "code",
   "execution_count": 71,
   "metadata": {},
   "outputs": [
    {
     "data": {
      "text/plain": [
       "MainScreenAppear            3.732922\n",
       "OffersScreenAppear          2.910798\n",
       "CartScreenAppear           15.176463\n",
       "PaymentScreenSuccessful    15.614035\n",
       "Tutorial                    8.024691\n",
       "Name: event_name, dtype: float64"
      ]
     },
     "execution_count": 71,
     "metadata": {},
     "output_type": "execute_result"
    }
   ],
   "source": [
    "# Persentase perbedaan absolut id 246\n",
    "abs_diff / exp_246 * 100"
   ]
  },
  {
   "cell_type": "code",
   "execution_count": 72,
   "metadata": {},
   "outputs": [
    {
     "data": {
      "text/plain": [
       "MainScreenAppear            3.598590\n",
       "OffersScreenAppear          2.828467\n",
       "CartScreenAppear           17.891806\n",
       "PaymentScreenSuccessful    18.503119\n",
       "Tutorial                    7.428571\n",
       "Name: event_name, dtype: float64"
      ]
     },
     "execution_count": 72,
     "metadata": {},
     "output_type": "execute_result"
    }
   ],
   "source": [
    "# Persentase perbedaan absolu id 247\n",
    "abs_diff / exp_247 * 100"
   ]
  },
  {
   "cell_type": "markdown",
   "metadata": {},
   "source": [
    "<font color = green > Kesimpulan Sementara </font>\n",
    "- Dapat disiimpulkan bahwa perbedaan dalam jumlah peristiwa antara kelompok 246 dan 247 mungkin adalah hasil dari variabilitas alami dan bukan karena perubahan yang diterapkan. Misalnya, di MainScreenAppear, eksperimen 247 memiliki lebih banyak peristiwa daripada eksperimen 246. Perbedaan ini bisa disebabkan oleh variabilitas alami atau perbedaan dalam distribusi pengguna antara dua kelompok. Jumlah peristiwa yang lebih tinggi atau lebih rendah dalam kelompok tertentu mungkin hanya hasil dari kesalahan acak atau fluktuasi. Serta perubahan variabilitas tidak begitu signifikan."
   ]
  },
  {
   "cell_type": "markdown",
   "metadata": {},
   "source": [
    "---------"
   ]
  },
  {
   "cell_type": "markdown",
   "metadata": {},
   "source": [
    "### Memilih Peristiwa yang Paling Populer\n",
    "- Pada setiap kelompok kontrol, temukan jumlah pengguna yang melakukan tindakan tersebut. Temukan persentasenya. Periksa apakah perbedaan antar kelompok signifikan secara statistik. Ulangi prosedur ini untuk semua peristiwa lainnya (akan menghemat waktu jika kamu bisa menciptakan sebuah fungsi khusus untuk melakukan pengujian ini). Bisakah kamu memastikan apakah kelompok-kelompok tersebut sudah dipisah dengan benar?"
   ]
  },
  {
   "cell_type": "markdown",
   "metadata": {},
   "source": [
    "- Kita akan periksa apakah perbedaan antar kelompok signifikan secara statistik dan membuat H0 dan H1 untuk hipotesis yang dimana:\n",
    "1. <font color = red> H0 = Tidak ada perbedaan yang signifikan antara kelompok kontrol 246 dan kelompok kontrol 247 dalam persentase pengguna yang melakukan tindakan tertentu. </font>\n",
    "2. <font color = blue > H1 = Terdapat perbedaan yang signifikan antara kelompok kontrol 246 dan kelompok kontrol 247 dalam persentase pengguna yang melakukan tindakan tertentu. </font> "
   ]
  },
  {
   "cell_type": "code",
   "execution_count": 73,
   "metadata": {},
   "outputs": [
    {
     "data": {
      "text/html": [
       "<div>\n",
       "<style scoped>\n",
       "    .dataframe tbody tr th:only-of-type {\n",
       "        vertical-align: middle;\n",
       "    }\n",
       "\n",
       "    .dataframe tbody tr th {\n",
       "        vertical-align: top;\n",
       "    }\n",
       "\n",
       "    .dataframe thead th {\n",
       "        text-align: right;\n",
       "    }\n",
       "</style>\n",
       "<table border=\"1\" class=\"dataframe\">\n",
       "  <thead>\n",
       "    <tr style=\"text-align: right;\">\n",
       "      <th></th>\n",
       "      <th>exp_id</th>\n",
       "      <th>device_id_hash</th>\n",
       "    </tr>\n",
       "  </thead>\n",
       "  <tbody>\n",
       "    <tr>\n",
       "      <th>0</th>\n",
       "      <td>246</td>\n",
       "      <td>2489</td>\n",
       "    </tr>\n",
       "    <tr>\n",
       "      <th>1</th>\n",
       "      <td>247</td>\n",
       "      <td>2520</td>\n",
       "    </tr>\n",
       "    <tr>\n",
       "      <th>2</th>\n",
       "      <td>248</td>\n",
       "      <td>2542</td>\n",
       "    </tr>\n",
       "  </tbody>\n",
       "</table>\n",
       "</div>"
      ],
      "text/plain": [
       "  exp_id  device_id_hash\n",
       "0    246            2489\n",
       "1    247            2520\n",
       "2    248            2542"
      ]
     },
     "execution_count": 73,
     "metadata": {},
     "output_type": "execute_result"
    }
   ],
   "source": [
    "# Memilih jumlah peristiwa yang populer\n",
    "users_each_count"
   ]
  },
  {
   "cell_type": "code",
   "execution_count": 74,
   "metadata": {},
   "outputs": [],
   "source": [
    "users_each_count['exp_id'] = users_each_count['exp_id'].astype('int')"
   ]
  },
  {
   "cell_type": "code",
   "execution_count": 75,
   "metadata": {},
   "outputs": [],
   "source": [
    "# Mengelompokan jumlah peristiwa yang populer\n",
    "users_event_each_group = exp_logs.pivot_table(index = 'event_name', \n",
    "                                              values = 'device_id_hash', \n",
    "                                              columns = 'exp_id',  \n",
    "                                              aggfunc ='nunique').reset_index()"
   ]
  },
  {
   "cell_type": "code",
   "execution_count": 76,
   "metadata": {},
   "outputs": [],
   "source": [
    "# Irisan untuk mengelompokan jumlah peristiwa yang populer yaitu kontrol 246 dan 247\n",
    "user_sum_246 = users_each_count[users_each_count['exp_id'] == 246]\n",
    "user_sum_247 = users_each_count[users_each_count['exp_id'] == 247]"
   ]
  },
  {
   "cell_type": "code",
   "execution_count": 77,
   "metadata": {},
   "outputs": [
    {
     "data": {
      "text/html": [
       "<div>\n",
       "<style scoped>\n",
       "    .dataframe tbody tr th:only-of-type {\n",
       "        vertical-align: middle;\n",
       "    }\n",
       "\n",
       "    .dataframe tbody tr th {\n",
       "        vertical-align: top;\n",
       "    }\n",
       "\n",
       "    .dataframe thead th {\n",
       "        text-align: right;\n",
       "    }\n",
       "</style>\n",
       "<table border=\"1\" class=\"dataframe\">\n",
       "  <thead>\n",
       "    <tr style=\"text-align: right;\">\n",
       "      <th>exp_id</th>\n",
       "      <th>event_name</th>\n",
       "      <th>246</th>\n",
       "      <th>247</th>\n",
       "      <th>248</th>\n",
       "    </tr>\n",
       "  </thead>\n",
       "  <tbody>\n",
       "    <tr>\n",
       "      <th>0</th>\n",
       "      <td>CartScreenAppear</td>\n",
       "      <td>1270</td>\n",
       "      <td>1240</td>\n",
       "      <td>1239</td>\n",
       "    </tr>\n",
       "    <tr>\n",
       "      <th>1</th>\n",
       "      <td>MainScreenAppear</td>\n",
       "      <td>2456</td>\n",
       "      <td>2482</td>\n",
       "      <td>2501</td>\n",
       "    </tr>\n",
       "    <tr>\n",
       "      <th>2</th>\n",
       "      <td>OffersScreenAppear</td>\n",
       "      <td>1545</td>\n",
       "      <td>1530</td>\n",
       "      <td>1538</td>\n",
       "    </tr>\n",
       "    <tr>\n",
       "      <th>3</th>\n",
       "      <td>PaymentScreenSuccessful</td>\n",
       "      <td>1202</td>\n",
       "      <td>1160</td>\n",
       "      <td>1185</td>\n",
       "    </tr>\n",
       "    <tr>\n",
       "      <th>4</th>\n",
       "      <td>Tutorial</td>\n",
       "      <td>279</td>\n",
       "      <td>286</td>\n",
       "      <td>282</td>\n",
       "    </tr>\n",
       "  </tbody>\n",
       "</table>\n",
       "</div>"
      ],
      "text/plain": [
       "exp_id               event_name   246   247   248\n",
       "0              CartScreenAppear  1270  1240  1239\n",
       "1              MainScreenAppear  2456  2482  2501\n",
       "2            OffersScreenAppear  1545  1530  1538\n",
       "3       PaymentScreenSuccessful  1202  1160  1185\n",
       "4                      Tutorial   279   286   282"
      ]
     },
     "execution_count": 77,
     "metadata": {},
     "output_type": "execute_result"
    }
   ],
   "source": [
    "users_event_each_group"
   ]
  },
  {
   "cell_type": "code",
   "execution_count": 78,
   "metadata": {},
   "outputs": [],
   "source": [
    "# Irisan untuk Pengelompokan fokus terhadap jumlah MainScreenAppear\n",
    "event_each_group_246 = users_event_each_group[users_event_each_group['246'] == 1270]\n",
    "event_each_group_247 = users_event_each_group[users_event_each_group['247'] == 1240]\n"
   ]
  },
  {
   "cell_type": "code",
   "execution_count": 79,
   "metadata": {},
   "outputs": [],
   "source": [
    "def check_hypothesis(successes1, successes2, trials1, trials2, alpha = 0.1):\n",
    "    # proporsi untuk successes1\n",
    "    p1 = successes1 / trials1\n",
    "    # proporsi untuk successes2\n",
    "    p2 = successes2 / trials2\n",
    "    # kombinasi dataset\n",
    "    p_combined = (successes1 + successes2) / (trials1 + trials2)\n",
    "    # selisih\n",
    "    difference = p1-p2\n",
    "    # hitung standar deviasi untuk distribusi normal\n",
    "    z_value = difference / math.sqrt(p_combined * (1 - p_combined) * (1/trials1 + 1/trials2))\n",
    "    # set standar distribusi normal yaitu mean 0 dan standar deviasi 1\n",
    "    distr = st.norm(0,1)\n",
    "\n",
    "    p_value = (1 - distr.cdf(abs(z_value))) * 2\n",
    "    \n",
    "    print('p-value:', p_value)\n",
    "    \n",
    "    if (p_value < alpha):\n",
    "        print('Menolak H0')\n",
    "    else:\n",
    "        print('Menerima H0')"
   ]
  },
  {
   "cell_type": "code",
   "execution_count": 80,
   "metadata": {},
   "outputs": [
    {
     "name": "stdout",
     "output_type": "stream",
     "text": [
      "p-value: 0.19817540651836918\n",
      "Menerima H0\n"
     ]
    }
   ],
   "source": [
    "# Mendapatkan jumlah keberhasilan dan jumlah percobaan untuk masing-masing kelompok\n",
    "successes_246 = event_each_group_246['246'].iloc[0]  \n",
    "trials_246 = user_sum_246['device_id_hash'].iloc[0]  \n",
    "\n",
    "successes_247 = event_each_group_247['247'].iloc[0]  \n",
    "trials_247 = user_sum_247['device_id_hash'].iloc[0]  \n",
    "\n",
    "check_hypothesis(successes_246, successes_247, trials_246, trials_247)"
   ]
  },
  {
   "cell_type": "markdown",
   "metadata": {},
   "source": [
    "**<font color = green > Hasil yaitu : Menerima H0 </font>**\n",
    "1. <font color = red> H0 = Tidak ada perbedaan yang signifikan antara kelompok kontrol 246 dan kelompok kontrol 247 dalam persentase pengguna yang melakukan tindakan tertentu. </font>\n",
    "2. <font color = blue > H1 = Terdapat perbedaan yang signifikan antara kelompok kontrol 246 dan kelompok kontrol 247 dalam persentase pengguna yang melakukan tindakan tertentu. </font> "
   ]
  },
  {
   "cell_type": "markdown",
   "metadata": {},
   "source": [
    "- Apakah setiap peristiwa dapat signifikansi yan serupa?"
   ]
  },
  {
   "cell_type": "code",
   "execution_count": 81,
   "metadata": {},
   "outputs": [
    {
     "data": {
      "text/html": [
       "<div>\n",
       "<style scoped>\n",
       "    .dataframe tbody tr th:only-of-type {\n",
       "        vertical-align: middle;\n",
       "    }\n",
       "\n",
       "    .dataframe tbody tr th {\n",
       "        vertical-align: top;\n",
       "    }\n",
       "\n",
       "    .dataframe thead th {\n",
       "        text-align: right;\n",
       "    }\n",
       "</style>\n",
       "<table border=\"1\" class=\"dataframe\">\n",
       "  <thead>\n",
       "    <tr style=\"text-align: right;\">\n",
       "      <th>exp_id</th>\n",
       "      <th>event_name</th>\n",
       "      <th>246</th>\n",
       "      <th>247</th>\n",
       "      <th>248</th>\n",
       "    </tr>\n",
       "  </thead>\n",
       "  <tbody>\n",
       "    <tr>\n",
       "      <th>0</th>\n",
       "      <td>CartScreenAppear</td>\n",
       "      <td>1270</td>\n",
       "      <td>1240</td>\n",
       "      <td>1239</td>\n",
       "    </tr>\n",
       "    <tr>\n",
       "      <th>1</th>\n",
       "      <td>MainScreenAppear</td>\n",
       "      <td>2456</td>\n",
       "      <td>2482</td>\n",
       "      <td>2501</td>\n",
       "    </tr>\n",
       "    <tr>\n",
       "      <th>2</th>\n",
       "      <td>OffersScreenAppear</td>\n",
       "      <td>1545</td>\n",
       "      <td>1530</td>\n",
       "      <td>1538</td>\n",
       "    </tr>\n",
       "    <tr>\n",
       "      <th>3</th>\n",
       "      <td>PaymentScreenSuccessful</td>\n",
       "      <td>1202</td>\n",
       "      <td>1160</td>\n",
       "      <td>1185</td>\n",
       "    </tr>\n",
       "    <tr>\n",
       "      <th>4</th>\n",
       "      <td>Tutorial</td>\n",
       "      <td>279</td>\n",
       "      <td>286</td>\n",
       "      <td>282</td>\n",
       "    </tr>\n",
       "  </tbody>\n",
       "</table>\n",
       "</div>"
      ],
      "text/plain": [
       "exp_id               event_name   246   247   248\n",
       "0              CartScreenAppear  1270  1240  1239\n",
       "1              MainScreenAppear  2456  2482  2501\n",
       "2            OffersScreenAppear  1545  1530  1538\n",
       "3       PaymentScreenSuccessful  1202  1160  1185\n",
       "4                      Tutorial   279   286   282"
      ]
     },
     "execution_count": 81,
     "metadata": {},
     "output_type": "execute_result"
    }
   ],
   "source": [
    "# memeriksa dataframe peristiwa\n",
    "users_event_each_group"
   ]
  },
  {
   "cell_type": "code",
   "execution_count": 82,
   "metadata": {},
   "outputs": [
    {
     "data": {
      "text/html": [
       "<div>\n",
       "<style scoped>\n",
       "    .dataframe tbody tr th:only-of-type {\n",
       "        vertical-align: middle;\n",
       "    }\n",
       "\n",
       "    .dataframe tbody tr th {\n",
       "        vertical-align: top;\n",
       "    }\n",
       "\n",
       "    .dataframe thead th {\n",
       "        text-align: right;\n",
       "    }\n",
       "</style>\n",
       "<table border=\"1\" class=\"dataframe\">\n",
       "  <thead>\n",
       "    <tr style=\"text-align: right;\">\n",
       "      <th></th>\n",
       "      <th>exp_id</th>\n",
       "      <th>device_id_hash</th>\n",
       "    </tr>\n",
       "  </thead>\n",
       "  <tbody>\n",
       "    <tr>\n",
       "      <th>0</th>\n",
       "      <td>246</td>\n",
       "      <td>2489</td>\n",
       "    </tr>\n",
       "    <tr>\n",
       "      <th>1</th>\n",
       "      <td>247</td>\n",
       "      <td>2520</td>\n",
       "    </tr>\n",
       "    <tr>\n",
       "      <th>2</th>\n",
       "      <td>248</td>\n",
       "      <td>2542</td>\n",
       "    </tr>\n",
       "  </tbody>\n",
       "</table>\n",
       "</div>"
      ],
      "text/plain": [
       "   exp_id  device_id_hash\n",
       "0     246            2489\n",
       "1     247            2520\n",
       "2     248            2542"
      ]
     },
     "execution_count": 82,
     "metadata": {},
     "output_type": "execute_result"
    }
   ],
   "source": [
    "# memeriksa dataframe jumlah per id\n",
    "users_each_count\n"
   ]
  },
  {
   "cell_type": "code",
   "execution_count": 83,
   "metadata": {},
   "outputs": [],
   "source": [
    "users_event_each_group_filtered = exp_logs.pivot_table(index = 'event_name', \n",
    "                                              values = 'device_id_hash', \n",
    "                                              columns = 'exp_id',  \n",
    "                                              aggfunc ='nunique').reset_index()\n",
    "\n"
   ]
  },
  {
   "cell_type": "markdown",
   "metadata": {},
   "source": [
    "- Berhubung data yang kita miliki sangatlah sedikit, maka kita akan membuat dataframe sendiri untuk keperluan uji hipotesis untuk setiap peristiwa."
   ]
  },
  {
   "cell_type": "code",
   "execution_count": 84,
   "metadata": {},
   "outputs": [
    {
     "name": "stdout",
     "output_type": "stream",
     "text": [
      "\n",
      "Event: CartScreenAppear\n",
      "Experiment 246: 51.02%\n",
      "Experiment 247: 49.21%\n",
      "\n",
      "Event: MainScreenAppear\n",
      "Experiment 246: 98.67%\n",
      "Experiment 247: 98.49%\n",
      "\n",
      "Event: OffersScreenAppear\n",
      "Experiment 246: 62.07%\n",
      "Experiment 247: 60.71%\n",
      "\n",
      "Event: PaymentScreenSuccessful\n",
      "Experiment 246: 48.29%\n",
      "Experiment 247: 46.03%\n",
      "\n",
      "Event: Tutorial\n",
      "Experiment 246: 11.21%\n",
      "Experiment 247: 11.35%\n"
     ]
    }
   ],
   "source": [
    "# Dataframe users_event_each_group\n",
    "users_event_each_group_filtered = pd.DataFrame({\n",
    "    'exp_id': [246, 247, 248],\n",
    "    'CartScreenAppear': [1270, 1240, 1239],\n",
    "    'MainScreenAppear': [2456, 2482, 2501],\n",
    "    'OffersScreenAppear': [1545, 1530, 1538],\n",
    "    'PaymentScreenSuccessful': [1202, 1160, 1185],\n",
    "    'Tutorial': [279, 286, 282]\n",
    "})\n",
    "\n",
    "# Dataframe users_each_count\n",
    "users_each_count = pd.DataFrame({\n",
    "    'exp_id': [246, 247],\n",
    "    'device_id_hash': [2489, 2520]\n",
    "})\n",
    "\n",
    "# Loop melalui setiap peristiwa\n",
    "for event in users_event_each_group_filtered.columns[1:]:\n",
    "    print(f\"\\nEvent: {event}\")\n",
    "    \n",
    "    # Hitung persentase untuk setiap eksperimen\n",
    "    for exp_id in users_each_count['exp_id']:\n",
    "        total_users_exp = users_each_count[users_each_count['exp_id'] == exp_id]['device_id_hash'].iloc[0]\n",
    "        users_with_event = users_event_each_group_filtered[users_event_each_group_filtered['exp_id'] == exp_id][event].iloc[0]\n",
    "        percentage = (users_with_event / total_users_exp) * 100\n",
    "        print(f\"Experiment {exp_id}: {percentage:.2f}%\")\n"
   ]
  },
  {
   "cell_type": "markdown",
   "metadata": {},
   "source": [
    "- Dari persentase yang kita miliki dihitung secara manual, perbedaan tidak signifikan. Mari kita uji dengan pengujian Z Test kemabail untuk A/A testing."
   ]
  },
  {
   "cell_type": "code",
   "execution_count": 85,
   "metadata": {},
   "outputs": [
    {
     "name": "stdout",
     "output_type": "stream",
     "text": [
      "\n",
      "Event: MainScreenAppear\n",
      "Menerima H0: Tidak ada perbedaan yang signifikan antara kelompok 246 dan 247.\n",
      "\n",
      "Event: OffersScreenAppear\n",
      "Menerima H0: Tidak ada perbedaan yang signifikan antara kelompok 246 dan 247.\n",
      "\n",
      "Event: CartScreenAppear\n",
      "Menerima H0: Tidak ada perbedaan yang signifikan antara kelompok 246 dan 247.\n",
      "\n",
      "Event: PaymentScreenSuccessful\n",
      "Menerima H0: Tidak ada perbedaan yang signifikan antara kelompok 246 dan 247.\n",
      "\n",
      "Event: Tutorial\n",
      "Menerima H0: Tidak ada perbedaan yang signifikan antara kelompok 246 dan 247.\n"
     ]
    }
   ],
   "source": [
    "def aa_test_z(users_event_each_group, users_each_count, events_to_test, alpha=0.1):\n",
    "    for event in events_to_test:\n",
    "        print(f\"\\nEvent: {event}\")\n",
    "\n",
    "        for exp1, exp2 in zip(users_each_count['exp_id'].values[:-1], users_each_count['exp_id'].values[1:]):\n",
    "            users_exp1 = users_event_each_group[users_event_each_group['exp_id'] == exp1][event].iloc[0]\n",
    "            users_exp2 = users_event_each_group[users_event_each_group['exp_id'] == exp2][event].iloc[0]\n",
    "\n",
    "            total_users_exp1 = users_each_count[users_each_count['exp_id'] == exp1]['device_id_hash'].iloc[0]\n",
    "            total_users_exp2 = users_each_count[users_each_count['exp_id'] == exp2]['device_id_hash'].iloc[0]\n",
    "\n",
    "            z_stat, p_value = proportions_ztest([users_exp1, users_exp2], [total_users_exp1, total_users_exp2])\n",
    "\n",
    "            if p_value < alpha:\n",
    "                print(f\"Menolak H0: Terdapat perbedaan yang signifikan antara kelompok {exp1} dan {exp2}.\")\n",
    "            else:\n",
    "                print(f\"Menerima H0: Tidak ada perbedaan yang signifikan antara kelompok {exp1} dan {exp2}.\")\n",
    "\n",
    "# List peristiwa yang akan diuji\n",
    "events_to_test = ['MainScreenAppear', 'OffersScreenAppear', 'CartScreenAppear', 'PaymentScreenSuccessful', 'Tutorial']\n",
    "\n",
    "# Menjalankan A/A testing untuk setiap peristiwa\n",
    "aa_test_z(users_event_each_group_filtered, users_each_count, events_to_test)"
   ]
  },
  {
   "cell_type": "markdown",
   "metadata": {},
   "source": [
    "<font color = green> Kesimpulan Sementara </font>\n",
    "\n",
    "- Event: CartScreenAppear\n",
    "<font color = red>Menerima H0: Tidak ada perbedaan yang signifikan antara kelompok 246 dan 247.</font >\n",
    "\n",
    "- Event: MainScreenAppear\n",
    "<font color = red>Menerima H0: Tidak ada perbedaan yang signifikan antara kelompok 246 dan 247.</font >\n",
    "\n",
    "- Event: OffersScreenAppear\n",
    "<font color = red>Menerima H0: Tidak ada perbedaan yang signifikan antara kelompok 246 dan 247.</font >\n",
    "\n",
    "- Event: PaymentScreenSuccessful\n",
    "<font color = red>Menerima H0: Tidak ada perbedaan yang signifikan antara kelompok 246 dan 247.</font >\n",
    "\n",
    "- Event: Tutorial\n",
    "<font color = red>Menerima H0: Tidak ada perbedaan yang signifikan antara kelompok 246 dan 247.</font>\n",
    "\n",
    "**Dengan kata lain, setiap peristiwa tidak ada bedanya.**"
   ]
  },
  {
   "cell_type": "markdown",
   "metadata": {},
   "source": [
    "--------"
   ]
  },
  {
   "cell_type": "markdown",
   "metadata": {},
   "source": [
    "### Lakukan Hal yang Sama untuk Kelompok Pengguna yang Diperlihatkan Versi Font Terbaru\n",
    "- Bandingkan hasilnya dengan masing-masing kelompok kontrol untuk setiap peristiwa secara terpisah. Bandingkan hasilnya dengan hasil gabungan untuk kelompok kontrol. Kita akan bandingkan dengan: \n",
    "**- 246 (A) dan 248 (B)**\n",
    "**- 247(A) dan 248(B)** \n",
    "**- 246(A) + 247(B) dan 248 (B)**"
   ]
  },
  {
   "cell_type": "code",
   "execution_count": 86,
   "metadata": {},
   "outputs": [],
   "source": [
    "# Menambahkan kembali exp_id 248 untuk dataframe users_each_count\n",
    "# Dataframe users_each_count\n",
    "users_each_count = pd.DataFrame({\n",
    "    'exp_id': [246, 247, 248],\n",
    "    'device_id_hash': [2489, 2520, 2542]\n",
    "})"
   ]
  },
  {
   "cell_type": "code",
   "execution_count": 87,
   "metadata": {},
   "outputs": [],
   "source": [
    "# Mengiris dataframe untuk exp_id 248\n",
    "event_each_group_248 = users_event_each_group[users_event_each_group['248'] == 1239]\n",
    "user_sum_248 = users_each_count[users_each_count['exp_id'] == 248]"
   ]
  },
  {
   "cell_type": "code",
   "execution_count": 88,
   "metadata": {},
   "outputs": [],
   "source": [
    "# Mendapatkan jumlah keberhasilan dan jumlah percobaan untuk masing-masing kelompok (code sebelumnya)\n",
    "\n",
    "successes_246 = event_each_group_246['246'].iloc[0]  \n",
    "trials_246 = user_sum_246['device_id_hash'].iloc[0]  \n",
    "\n",
    "successes_247 = event_each_group_247['247'].iloc[0]  \n",
    "trials_247 = user_sum_247['device_id_hash'].iloc[0]  \n",
    "\n",
    "successes_248 = event_each_group_248['248'].iloc[0]  \n",
    "trials_248 = user_sum_248['device_id_hash'].iloc[0]  \n",
    "\n"
   ]
  },
  {
   "cell_type": "code",
   "execution_count": 89,
   "metadata": {},
   "outputs": [
    {
     "name": "stdout",
     "output_type": "stream",
     "text": [
      "p-value: 0.10534150642722295\n",
      "Menerima H0\n"
     ]
    }
   ],
   "source": [
    "# Pengujian 246 (A) dam 248(B)\n",
    "check_hypothesis(successes_246, successes_248, trials_246, trials_248)"
   ]
  },
  {
   "cell_type": "code",
   "execution_count": 90,
   "metadata": {},
   "outputs": [
    {
     "name": "stdout",
     "output_type": "stream",
     "text": [
      "p-value: 0.7406094633808076\n",
      "Menerima H0\n"
     ]
    }
   ],
   "source": [
    "# Pengujian 247 (A) dam 248(B)\n",
    "check_hypothesis(successes_247, successes_248, trials_247, trials_248)"
   ]
  },
  {
   "cell_type": "code",
   "execution_count": 91,
   "metadata": {},
   "outputs": [],
   "source": [
    "# Menambahkan jumlah keberhasilan dan jumlah percobaan untuk kelompok kontrol 246 dan 247\n",
    "combined_successes_246_247 = successes_246 + successes_247\n",
    "combined_trials_246_247 = trials_246 + trials_247\n"
   ]
  },
  {
   "cell_type": "code",
   "execution_count": 92,
   "metadata": {},
   "outputs": [
    {
     "name": "stdout",
     "output_type": "stream",
     "text": [
      "p-value: 0.2609811882648243\n",
      "Menerima H0\n"
     ]
    }
   ],
   "source": [
    "# Pengujian 246(A) + 247(B) dan 248 (B)\n",
    "check_hypothesis(combined_successes_246_247, successes_248, combined_trials_246_247, trials_248)"
   ]
  },
  {
   "cell_type": "markdown",
   "metadata": {},
   "source": [
    "<font color = green> Kesimpulan Sementara </font>\n",
    "\n",
    "- Hasil Sub bab `Lakukan Hal yang Sama untuk Kelompok Pengguna yang Diperlihatkan Versi Font Terbaru`, seluruhnya adalah:\n",
    "\n",
    "**<font color = red>Menerima H0: Tidak ada perbedaan yang signifikan antara kelompok 246, 247, 248, dan jumlah kontrol dengan 248 .</font >**"
   ]
  },
  {
   "cell_type": "markdown",
   "metadata": {},
   "source": [
    "----------"
   ]
  },
  {
   "cell_type": "markdown",
   "metadata": {},
   "source": [
    "### Berapa Tingkat Signifikansi yang Kamu Tetapkan untuk Menguji Hipotesis Statistik yang Disebutkan di Atas?\n",
    "- Hitung berapa banyak pengujian hipotesis statistik yang telah kita lakukan. Dengan tingkat signifikansi statistik 0,1 - satu dari 10 hasil bisa saja salah. Berapa tingkat signifikansi yang seharusnya ditetapkan? Jika kita ingin mengubahnya, jalankan ulang tahap sebelumnya."
   ]
  },
  {
   "cell_type": "markdown",
   "metadata": {},
   "source": [
    "- Kita akan mulai dari fungsi yang hanya membandingkan peristiwa populer."
   ]
  },
  {
   "cell_type": "code",
   "execution_count": 93,
   "metadata": {},
   "outputs": [],
   "source": [
    "def check_hypothesis(successes1, successes2, trials1, trials2, alpha = 0.1):\n",
    "    # proporsi untuk successes1\n",
    "    p1 = successes1 / trials1\n",
    "    # proporsi untuk successes2\n",
    "    p2 = successes2 / trials2\n",
    "    # kombinasi dataset\n",
    "    p_combined = (successes1 + successes2) / (trials1 + trials2)\n",
    "    # selisih\n",
    "    difference = p1-p2\n",
    "    # hitung standar deviasi untuk distribusi normal\n",
    "    z_value = difference / math.sqrt(p_combined * (1 - p_combined) * (1/trials1 + 1/trials2))\n",
    "    # set standar distribusi normal yaitu mean 0 dan standar deviasi 1\n",
    "    distr = st.norm(0,1)\n",
    "\n",
    "    p_value = (1 - distr.cdf(abs(z_value))) * 2\n",
    "    \n",
    "    print('p-value:', p_value)\n",
    "    \n",
    "    if (p_value < alpha):\n",
    "        print('Menolak H0')\n",
    "    else:\n",
    "        print('Menerima H0')"
   ]
  },
  {
   "cell_type": "markdown",
   "metadata": {},
   "source": [
    "<font color = brown> **Catatan** </font>\n",
    "- Mari kita uji dengan contoh sederhana yaitu exp_id 246 dan 248 dengan alpha yang ditentukan. Kita cukup mengubah parameter yang telah dibuat di fungsi. Apapun fungsi yang kita jalankan, kita harus mengubah parameter alpha terlebih dahulu. \n",
    "\n",
    "**Kita akan memberikan parameter alpha 0.01, 0.05, dan 0.1 untuk setiap cell di jupyter notebook, hanya dengan satu sample**"
   ]
  },
  {
   "cell_type": "code",
   "execution_count": 94,
   "metadata": {},
   "outputs": [
    {
     "name": "stdout",
     "output_type": "stream",
     "text": [
      "p-value: 0.10534150642722295\n",
      "Menerima H0\n"
     ]
    }
   ],
   "source": [
    "# Alpha 0.01\n",
    "# Pengujian 246 (A) dam 248(B)\n",
    "check_hypothesis(successes_246, successes_248, trials_246, trials_248)"
   ]
  },
  {
   "cell_type": "code",
   "execution_count": 95,
   "metadata": {},
   "outputs": [
    {
     "name": "stdout",
     "output_type": "stream",
     "text": [
      "p-value: 0.10534150642722295\n",
      "Menerima H0\n"
     ]
    }
   ],
   "source": [
    "# Alpha 0.05\n",
    "# Pengujian 246 (A) dam 248(B)\n",
    "check_hypothesis(successes_246, successes_248, trials_246, trials_248)"
   ]
  },
  {
   "cell_type": "code",
   "execution_count": 96,
   "metadata": {},
   "outputs": [
    {
     "name": "stdout",
     "output_type": "stream",
     "text": [
      "p-value: 0.10534150642722295\n",
      "Menerima H0\n"
     ]
    }
   ],
   "source": [
    "# Alpha 0.1\n",
    "# Pengujian 246 (A) dam 248(B)\n",
    "check_hypothesis(successes_246, successes_248, trials_246, trials_248)"
   ]
  },
  {
   "cell_type": "markdown",
   "metadata": {},
   "source": [
    "- Lalu kita akan lanjut dengan beragam peristiwa"
   ]
  },
  {
   "cell_type": "code",
   "execution_count": 97,
   "metadata": {},
   "outputs": [],
   "source": [
    "def aa_test_z(users_event_each_group, users_each_count, events_to_test, alpha=0.1):\n",
    "    for event in events_to_test:\n",
    "        print(f\"\\nEvent: {event}\")\n",
    "\n",
    "        for exp1, exp2 in zip(users_each_count['exp_id'].values[:-1], users_each_count['exp_id'].values[1:]):\n",
    "            users_exp1 = users_event_each_group[users_event_each_group['exp_id'] == exp1][event].iloc[0]\n",
    "            users_exp2 = users_event_each_group[users_event_each_group['exp_id'] == exp2][event].iloc[0]\n",
    "\n",
    "            total_users_exp1 = users_each_count[users_each_count['exp_id'] == exp1]['device_id_hash'].iloc[0]\n",
    "            total_users_exp2 = users_each_count[users_each_count['exp_id'] == exp2]['device_id_hash'].iloc[0]\n",
    "\n",
    "            z_stat, p_value = proportions_ztest([users_exp1, users_exp2], [total_users_exp1, total_users_exp2])\n",
    "\n",
    "            if p_value < alpha:\n",
    "                print(f\"Menolak H0: Terdapat perbedaan yang signifikan antara kelompok {exp1} dan {exp2}.\")\n",
    "            else:\n",
    "                print(f\"Menerima H0: Tidak ada perbedaan yang signifikan antara kelompok {exp1} dan {exp2}.\")\n",
    "\n",
    "# List peristiwa yang akan diuji\n",
    "events_to_test = ['MainScreenAppear', 'OffersScreenAppear', 'CartScreenAppear', 'PaymentScreenSuccessful', 'Tutorial']\n",
    "\n"
   ]
  },
  {
   "cell_type": "code",
   "execution_count": 98,
   "metadata": {},
   "outputs": [
    {
     "name": "stdout",
     "output_type": "stream",
     "text": [
      "\n",
      "Event: MainScreenAppear\n",
      "Menerima H0: Tidak ada perbedaan yang signifikan antara kelompok 246 dan 247.\n",
      "Menerima H0: Tidak ada perbedaan yang signifikan antara kelompok 247 dan 248.\n",
      "\n",
      "Event: OffersScreenAppear\n",
      "Menerima H0: Tidak ada perbedaan yang signifikan antara kelompok 246 dan 247.\n",
      "Menerima H0: Tidak ada perbedaan yang signifikan antara kelompok 247 dan 248.\n",
      "\n",
      "Event: CartScreenAppear\n",
      "Menerima H0: Tidak ada perbedaan yang signifikan antara kelompok 246 dan 247.\n",
      "Menerima H0: Tidak ada perbedaan yang signifikan antara kelompok 247 dan 248.\n",
      "\n",
      "Event: PaymentScreenSuccessful\n",
      "Menerima H0: Tidak ada perbedaan yang signifikan antara kelompok 246 dan 247.\n",
      "Menerima H0: Tidak ada perbedaan yang signifikan antara kelompok 247 dan 248.\n",
      "\n",
      "Event: Tutorial\n",
      "Menerima H0: Tidak ada perbedaan yang signifikan antara kelompok 246 dan 247.\n",
      "Menerima H0: Tidak ada perbedaan yang signifikan antara kelompok 247 dan 248.\n"
     ]
    }
   ],
   "source": [
    "# Alpha 0.01\n",
    "# Menjalankan A/A testing untuk setiap peristiwa \n",
    "aa_test_z(users_event_each_group_filtered, users_each_count, events_to_test)"
   ]
  },
  {
   "cell_type": "code",
   "execution_count": 99,
   "metadata": {},
   "outputs": [
    {
     "name": "stdout",
     "output_type": "stream",
     "text": [
      "\n",
      "Event: MainScreenAppear\n",
      "Menerima H0: Tidak ada perbedaan yang signifikan antara kelompok 246 dan 247.\n",
      "Menerima H0: Tidak ada perbedaan yang signifikan antara kelompok 247 dan 248.\n",
      "\n",
      "Event: OffersScreenAppear\n",
      "Menerima H0: Tidak ada perbedaan yang signifikan antara kelompok 246 dan 247.\n",
      "Menerima H0: Tidak ada perbedaan yang signifikan antara kelompok 247 dan 248.\n",
      "\n",
      "Event: CartScreenAppear\n",
      "Menerima H0: Tidak ada perbedaan yang signifikan antara kelompok 246 dan 247.\n",
      "Menerima H0: Tidak ada perbedaan yang signifikan antara kelompok 247 dan 248.\n",
      "\n",
      "Event: PaymentScreenSuccessful\n",
      "Menerima H0: Tidak ada perbedaan yang signifikan antara kelompok 246 dan 247.\n",
      "Menerima H0: Tidak ada perbedaan yang signifikan antara kelompok 247 dan 248.\n",
      "\n",
      "Event: Tutorial\n",
      "Menerima H0: Tidak ada perbedaan yang signifikan antara kelompok 246 dan 247.\n",
      "Menerima H0: Tidak ada perbedaan yang signifikan antara kelompok 247 dan 248.\n"
     ]
    }
   ],
   "source": [
    "# Alpha 0.05\n",
    "# Menjalankan A/A testing untuk setiap peristiwa \n",
    "aa_test_z(users_event_each_group_filtered, users_each_count, events_to_test)"
   ]
  },
  {
   "cell_type": "code",
   "execution_count": 100,
   "metadata": {},
   "outputs": [
    {
     "name": "stdout",
     "output_type": "stream",
     "text": [
      "\n",
      "Event: MainScreenAppear\n",
      "Menerima H0: Tidak ada perbedaan yang signifikan antara kelompok 246 dan 247.\n",
      "Menerima H0: Tidak ada perbedaan yang signifikan antara kelompok 247 dan 248.\n",
      "\n",
      "Event: OffersScreenAppear\n",
      "Menerima H0: Tidak ada perbedaan yang signifikan antara kelompok 246 dan 247.\n",
      "Menerima H0: Tidak ada perbedaan yang signifikan antara kelompok 247 dan 248.\n",
      "\n",
      "Event: CartScreenAppear\n",
      "Menerima H0: Tidak ada perbedaan yang signifikan antara kelompok 246 dan 247.\n",
      "Menerima H0: Tidak ada perbedaan yang signifikan antara kelompok 247 dan 248.\n",
      "\n",
      "Event: PaymentScreenSuccessful\n",
      "Menerima H0: Tidak ada perbedaan yang signifikan antara kelompok 246 dan 247.\n",
      "Menerima H0: Tidak ada perbedaan yang signifikan antara kelompok 247 dan 248.\n",
      "\n",
      "Event: Tutorial\n",
      "Menerima H0: Tidak ada perbedaan yang signifikan antara kelompok 246 dan 247.\n",
      "Menerima H0: Tidak ada perbedaan yang signifikan antara kelompok 247 dan 248.\n"
     ]
    }
   ],
   "source": [
    "# Alpha 0.1\n",
    "# Menjalankan A/A testing untuk setiap peristiwa \n",
    "aa_test_z(users_event_each_group_filtered, users_each_count, events_to_test)"
   ]
  },
  {
   "cell_type": "markdown",
   "metadata": {},
   "source": [
    "<font color = green> Kesimpulan Sementara </font>\n",
    "- Berapapun alpha yang diubah, hasil tetap sama yaitu: **<font color = red>Menerima H0: Tidak ada perbedaan yang signifikan antara kelompok 246, 247, 248, dan jumlah kontrol dengan 248 .</font >**"
   ]
  },
  {
   "cell_type": "markdown",
   "metadata": {},
   "source": [
    "------"
   ]
  },
  {
   "cell_type": "markdown",
   "metadata": {},
   "source": [
    "## **Kesimpulan Umum**\n",
    "- Dataset ber variable exp_logs harus dieksplor terlebih dahulu dan harus dicek kualitas datanya.\n",
    "- Data untuk pertama-tama harus dimanipulasi terlebih dahulu untuk mudah dibaca. Dari segi penamaan serta pemisahan kolom.\n",
    "- Dengan adanya penambahan kolom day bisa dipastikan proses bisnis yang terjadi berlangsung dari tanggal 25 bulan 7 hingga tanggal 7 bulan 8, yang berarti proses bisnis terjadi sekitar 12 hari atau kurang dari 1 minggu.\n",
    "- Mulai dari sub bab \"Menambahkan Kolom Tanggal dan Waktu\" kolom event_time_stamp akan diganti oleh datetime. Kita di sini juga melakukan langkah untuk mengspesifikasikan terhadap kolom-kolom tanggal waktu seperti memisahkan hari, bulan dan tahun.\n",
    "- Peristiwa yang terjadi, secara visualisasi terdapat beberapa nama event. Salah satu traffic tertinggi berada di \"MainScreenAppear\". Hal ini bisa dipastikan beberapa pengguna hanya mengalami idle atau sedang memilih mana saja yang akan mereka lakukan untuk tahap berikutnya.\n",
    "------------------\n",
    "- Bisa dipastikan di dalam scatter plot ini bukan outliers, melainkan kestabilan serorang atau lebih pengguna yang sedang idle dalam proses bisnis tertentu di waktu tertentu.\n",
    "- Jika kita interpertasi dari lineplot di atas dengan hasil tersebut, bisa dipastikan bahwa rata-rata peristiwa yang terjadi dalam proses bisnis ini adalah sekitar 32 peristiwa.\n",
    "- Bisa dipastikan bukan adanya nilai yang aneh, melainkan pengguna di periode tertentu memang ada traffic. Bisa kita lihat bahwa di bulan 08 ada banyak kegiatan secara stabil setelah periode bulan 07 selesai.\n",
    "- Bisa dipastikan bahwa dengan data yang dihapus sementara atau filter sementara, angka data lama merupakan angka yang sangat kecil dibandingkan dengan data baru. Oleh karena itu relevansi data sekarang berada di bulan Agustus. Dengan kata lain, kita tidak kehilangan banyak data jika menghapus data yang lama.\n",
    "- Dari mengetahui pengguna dari ketiga kelompok eksperimen, jika semua hasilnya True, itu berarti data kita memenuhi kriteria untuk melanjutkan analisis terkait A/A/B testing, dan kita dapat melanjutkan dengan percaya diri bahwa kita memiliki representasi dari kondisi awal (kontrol) dan kondisi yang diuji (uji).\n",
    "------------------\n",
    "- Dari funnel yang kita buat, MainScreenAppear memiliki persentase tertinggi, hal ini sudah jelas berdasarkan jumlah yang kita hitung di atas. Ini memungkinkan pengguna hanya sebatas melihat atau idle dengan waktu yang cukup panjang. Kecilnya angka Tutorial bisa saja banyak pengguna yang melakukan skip/melewati untuk masuk ke MainScreenAppear. Dari sekian banyak yang muncul di MainScreenAppear, hanya 14% pengguna yang benar-benar memproses hingga pembayaran.\n",
    "- Terdapat total pengguna yaitu 20195 dengan masing-masing aktivitas. Aktivitas terbesar masih berada di stage MainScreenAppear dimana dari 20195 pengguna, terdapat pengguna yang setidaknya melakukan satu tindakan sekitar 0.07% dari jumlah pengguna. Jumlah pengguna yang setidaknya melakukan satu tindakan adalah 0.07% atau 14 pengguna.\n",
    "- Jika kita lihat tutorial merupakan aktivtas terbawah, bisa dipastikan banyak orang yang memilih untuk melewati tutorial. Sehingga proses tersebut mengalami bypass dan muncul di MainScreenAppear. Pada umumnya tutorial merupakan bumper untuk setiap proses aktivitas. Dalam funnel ini kita bisa pelajari bahwa jika dengan jumlah MainScreenAppear yang banyak hingga melakukan aktivitas di dalam proses tersebut mengalami penurunan aktivitas yang cukup signifikan, bisa dipastikan ada 3 kemungkinan yaitu seorang pengguna yang idle atau pengguna tersebut memang tidak tertarik dan menutup aplikasi atau hanya membuka dan kemudian menutup aplikasi.\n",
    "- Seperti halnya contoh irisan data di atas(Dataset Sub Bab Memahami dalam Urutan Apa Tindakan-Tindakan Tersebut Terjadi?) , pengguna tersebut memang melakukan pembayaran namun kita bisa lihat seberapa lama dia menghabiskan waktu hanya di MainScreenApp\n",
    "-----------\n",
    "- Hasil ini memberikan gambaran tentang seberapa efektif aplikasi dalam memandu pengguna melalui tahapan-tahapan tersebut. Misalnya, persentase yang tinggi dari Offers Screen ke Cart Screen dan dari Cart Screen ke Payment Screen Successful dapat dianggap positif, menunjukkan bahwa sebagian besar pengguna melanjutkan melalui tahapan-tahapan ini:\n",
    "\n",
    "1. Persentase MainScreenAppear ke OffersScreenAppear: Dari total pengguna yang melihat Main Screen, sekitar 62.01% dari mereka melanjutkan untuk melihat Offers Screen.\n",
    "2. Persentase OffersScreenAppear ke CartScreenAppear: Dari total pengguna yang melihat Offers Screen, sekitar 81.27% dari mereka melanjutkan untuk melihat Cart Screen.\n",
    "3. Persentase CartScreenAppear ke PaymentScreenSuccessful: Dari total pengguna yang melihat Cart Screen, sekitar 94.61% dari mereka melanjutkan untuk menyelesaikan pembayaran dan mencapai Payment Screen Successful.\n",
    "\n",
    "- MainScreenAppear mengalami kehilangan yang significant untuk melakukan proses tahap selanjutnya.\n",
    "- Kita bisa lihat jumlah pengguna pada tahapan awal dan pembayaran. Dari 7000 lebih pengguna yang kita asumsikan sebagai persentase 100% terdapat sekitar 3000 lebih pengguna yang benar-benar berhasil konfirmasi pembayaran atau sekitar 47.68% dari total tersebut.\n",
    "- Terdapat 3 kelompok yang dimiliki yaitu 246, 247, dan 248. Masing-masing kelompok memiliki nilai yang tidak jauh berbeda dari segi jumlah yang dimiliki. Rata-rata jumlahnya yaitu 2517.\n",
    "- Dapat disiimpulkan bahwa perbedaan dalam jumlah peristiwa antara kelompok 246 dan 247 mungkin adalah hasil dari variabilitas alami dan bukan karena perubahan yang diterapkan. Misalnya, di MainScreenAppear, eksperimen 247 memiliki lebih banyak peristiwa daripada eksperimen 246. Perbedaan ini bisa disebabkan oleh variabilitas alami atau perbedaan dalam distribusi pengguna antara dua kelompok. Jumlah peristiwa yang lebih tinggi atau lebih rendah dalam kelompok tertentu mungkin hanya hasil dari kesalahan acak atau fluktuasi. Serta perubahan variabilitas tidak begitu signifikan.\n",
    "\n",
    "----------------------------------------------------------------------------------------------------------------------------\n",
    "- Event: CartScreenAppear\n",
    "<font color = red>Menerima H0: Tidak ada perbedaan yang signifikan antara kelompok 246 dan 247.</font >\n",
    "\n",
    "- Event: MainScreenAppear\n",
    "<font color = red>Menerima H0: Tidak ada perbedaan yang signifikan antara kelompok 246 dan 247.</font >\n",
    "\n",
    "- Event: OffersScreenAppear\n",
    "<font color = red>Menerima H0: Tidak ada perbedaan yang signifikan antara kelompok 246 dan 247.</font >\n",
    "\n",
    "- Event: PaymentScreenSuccessful\n",
    "<font color = red>Menerima H0: Tidak ada perbedaan yang signifikan antara kelompok 246 dan 247.</font >\n",
    "\n",
    "- Event: Tutorial\n",
    "<font color = red>Menerima H0: Tidak ada perbedaan yang signifikan antara kelompok 246 dan 247.</font>\n",
    "\n",
    "**Dengan kata lain, setiap peristiwa tidak ada bedanya.**\n",
    "\n",
    "--------------------------------------------------------------------------------------------------------------------------------\n",
    "- Hasil Sub bab `Lakukan Hal yang Sama untuk Kelompok Pengguna yang Diperlihatkan Versi Font Terbaru`, seluruhnya adalah:\n",
    "\n",
    "**<font color = red>Menerima H0: Tidak ada perbedaan yang signifikan antara kelompok 246, 247, 248, dan jumlah kontrol dengan 248 .</font >**\n",
    "\n",
    "--------------------------------------------------------------------------------------------------------------------------------\n",
    "\n",
    "- Berapapun alpha yang diubah, hasil tetap sama yaitu: **<font color = red>Menerima H0: Tidak ada perbedaan yang signifikan antara kelompok 246, 247, 248, dan jumlah kontrol dengan 248 .</font >**\n",
    "---------------------\n",
    "**Kesimpulan Keseluruhan**\n",
    "Berdasarkan analisis ini, dapat disimpulkan bahwa tidak ada perbedaan yang signifikan antara kelompok. Dalam setiap peristiwa yang diuji, keseluruhan data menunjukkan stabilitas dan konsistensi dalam proses bisnis tersebut.\n",
    "\n",
    "------------\n",
    "\n",
    "**Insight dari Analisis A/A Testing**\n",
    "\n",
    "- Stabilitas Pengguna:\n",
    "Tidak terdapat perbedaan signifikan antara kelompok eksperimen 246 dan 247 dalam setiap peristiwa yang diuji.\n",
    "Kesimpulan ini menunjukkan bahwa perubahan yang diterapkan pada kelompok eksperimen 247 tidak memberikan dampak yang signifikan dibandingkan dengan kelompok kontrol 246.\n",
    "\n",
    "- Eksperimen 248:\n",
    "Kelompok eksperimen 248 juga tidak menunjukkan perbedaan signifikan dengan kelompok kontrol 246 dan 247.\n",
    "Dengan kata lain, tidak ada bukti statistik yang menunjukkan perbedaan yang signifikan dalam perilaku pengguna antara kelompok eksperimen 248 dan kelompok kontrol 246 dan 247.\n",
    "\n",
    "- Konsistensi Hasil:\n",
    "Kesimpulan ini tetap konsisten pada tingkat signifikansi yang berbeda (alpha) dan pada setiap peristiwa yang diuji, seperti CartScreenAppear, MainScreenAppear, OffersScreenAppear, PaymentScreenSuccessful, dan Tutorial.\n",
    "Hal ini menunjukkan konsistensi hasil dan kestabilan dalam analisis A/A testing.\n",
    "\n",
    "- Pentingnya Validasi Data:\n",
    "Validasi data pengguna untuk memastikan kecocokan dengan kriteria eksperimen sangat penting untuk mendapatkan hasil yang dapat dipercaya.\n",
    "Data yang memenuhi kriteria digunakan untuk analisis, dan hal ini memastikan representasi yang baik dari kondisi awal (kontrol) dan kondisi yang diuji (uji).\n",
    "\n",
    "- Funnel Analysis:\n",
    "Funnel analysis menunjukkan bahwa meskipun banyak pengguna mencapai MainScreenAppear, terdapat penurunan yang signifikan pada tahap-tahap selanjutnya menuju pembayaran.\n",
    "Hanya sekitar 14% dari pengguna yang mencapai PaymentScreenSuccessful, menunjukkan potensi untuk meningkatkan retensi dan konversi.\n",
    "\n",
    "- Relevansi Data:\n",
    "Penghapusan data lama tidak signifikan, dan analisis lebih lanjut berfokus pada data yang relevan saat ini, yaitu periode bulan Agustus.\n",
    "\n",
    "--------------------\n",
    "\n",
    "**Rekomendasi:**\n",
    "\n",
    "- Optimasi Funnel:\n",
    "Perlu dilakukan analisis lebih lanjut pada tahap-tahap funnel, terutama pada MainScreenAppear hingga pembayaran.\n",
    "Identifikasi faktor-faktor yang mungkin mempengaruhi penurunan jumlah pengguna pada setiap tahap.\n",
    "\n",
    "- Pengembangan Aplikasi:\n",
    "Pemahaman terhadap perilaku pengguna dapat digunakan untuk pengembangan aplikasi yang lebih efektif dan pengalaman pengguna yang lebih baik.\n",
    "\n",
    "- Retention dan Konversi:\n",
    "Fokus pada strategi retensi untuk mempertahankan pengguna dan meningkatkan konversi dari MainScreenAppear hingga pembayaran.\n",
    "\n",
    "- Monitoring dan Evaluasi:\n",
    "Penting untuk terus memantau perilaku pengguna dan melakukan evaluasi reguler terhadap strategi atau perubahan yang diterapkan.\n",
    "\n",
    "- Uji Lanjutan:\n",
    "Meskipun A/A testing menunjukkan tidak ada perbedaan signifikan, uji lanjutan atau eksperimen lebih lanjut mungkin diperlukan untuk mendapatkan wawasan lebih mendalam."
   ]
  },
  {
   "cell_type": "code",
   "execution_count": null,
   "metadata": {},
   "outputs": [],
   "source": []
  },
  {
   "cell_type": "code",
   "execution_count": null,
   "metadata": {},
   "outputs": [],
   "source": []
  }
 ],
 "metadata": {
  "kernelspec": {
   "display_name": "Python 3 (ipykernel)",
   "language": "python",
   "name": "python3"
  },
  "language_info": {
   "codemirror_mode": {
    "name": "ipython",
    "version": 3
   },
   "file_extension": ".py",
   "mimetype": "text/x-python",
   "name": "python",
   "nbconvert_exporter": "python",
   "pygments_lexer": "ipython3",
   "version": "3.10.9"
  },
  "toc": {
   "base_numbering": 1,
   "nav_menu": {},
   "number_sections": true,
   "sideBar": true,
   "skip_h1_title": false,
   "title_cell": "Table of Contents",
   "title_sidebar": "Contents",
   "toc_cell": false,
   "toc_position": {
    "height": "calc(100% - 180px)",
    "left": "10px",
    "top": "150px",
    "width": "410.66px"
   },
   "toc_section_display": true,
   "toc_window_display": true
  }
 },
 "nbformat": 4,
 "nbformat_minor": 2
}
